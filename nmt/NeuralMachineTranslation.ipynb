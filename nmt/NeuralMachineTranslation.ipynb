{
 "cells": [
  {
   "cell_type": "markdown",
   "metadata": {
    "id": "8wv72IzT4DeD"
   },
   "source": [
    "# Importing libraries"
   ]
  },
  {
   "cell_type": "code",
   "execution_count": 24,
   "metadata": {
    "colab": {
     "base_uri": "https://localhost:8080/"
    },
    "id": "AOrEFgVT4GYn",
    "outputId": "053bb426-c073-471c-e1c5-80aa0f62bac9"
   },
   "outputs": [
    {
     "name": "stdout",
     "output_type": "stream",
     "text": [
      "Mounted at /content/drive\n",
      " CADL-I-FinalPoject\t\t\t       notes\n",
      "'Colab Notebooks'\t\t\t       ottawa-roadnet\n",
      " Dog_Cat_Data\t\t\t\t       RoadNetDemo\n",
      " en_vocab_small.txt\t\t\t       RoadNetKeras\n",
      " fr_vocab_small.txt\t\t\t       StyleGAN-Tensorflow2-master\n",
      " model_94k_faces_glintasia_without_norm.hdf5   weights\n",
      " models\n"
     ]
    }
   ],
   "source": [
    "from google.colab import drive\n",
    "drive.mount(\"/content/drive\", force_remount=True)\n",
    "!ls '/content/drive/My Drive/'"
   ]
  },
  {
   "cell_type": "code",
   "execution_count": 1,
   "metadata": {
    "id": "_rZEpEKR4DeL"
   },
   "outputs": [],
   "source": [
    "import os\n",
    "import re\n",
    "import time\n",
    "import pickle\n",
    "import string\n",
    "import spacy\n",
    "import numpy as np\n",
    "import tensorflow as tf\n",
    "import matplotlib.pyplot as plt\n",
    "\n",
    "### NLTK dependencies ###\n",
    "from nltk.corpus import stopwords  \n",
    "from nltk.tokenize import word_tokenize\n",
    "from nltk.stem import WordNetLemmatizer\n",
    "\n",
    "### Tensorflow dependencies ###\n",
    "from tensorflow.keras.layers import *\n",
    "from tensorflow.keras.models import Model\n",
    "from tensorflow.keras.optimizers import Adam\n",
    "from tensorflow.keras import backend as K\n",
    "from tensorflow.keras.preprocessing.text import Tokenizer\n",
    "from tensorflow.keras.preprocessing.sequence import pad_sequences\n",
    "\n",
    "BASE_DIR = \"./\" # \"/content/drive/My Drive/\"\n",
    "WEIGHTS_DIR = os.path.join(BASE_DIR, \"weights\")\n",
    "MODELS_DIR = os.path.join(BASE_DIR, \"models\")\n",
    "RNN_MODEL_NAME = \"rnn_model\"\n",
    "RNN_EMB_MODEL_NAME = \"rnn_with_embedding_model\"\n",
    "BI_RNN_MODEL_NAME = \"birnn_with_embedding_model\""
   ]
  },
  {
   "cell_type": "markdown",
   "metadata": {
    "id": "edJhLdeo4DeQ"
   },
   "source": [
    "# Loading and preprocessing data"
   ]
  },
  {
   "cell_type": "code",
   "execution_count": 3,
   "metadata": {
    "colab": {
     "base_uri": "https://localhost:8080/"
    },
    "id": "GHNkIumE4DeU",
    "outputId": "d445c561-f57a-4291-f47d-1dc98132f703"
   },
   "outputs": [
    {
     "name": "stdout",
     "output_type": "stream",
     "text": [
      "[INFO] Took 9.798901319503784 seconds to load ../data/en_vocab_small.txt\n",
      "[INFO] Took 4.7382543087005615 seconds to load ../data/fr_vocab_small.txt\n"
     ]
    }
   ],
   "source": [
    "### 1. Loading data from files and preprocessing ###\n",
    "def en_contraction_expand(sentence):\n",
    "    # Dictionary of English Contractions\n",
    "    contractions_dict = { \"ain't\": \"are not\",\"'s\":\" is\",\"aren't\": \"are not\",\n",
    "                     \"can't\": \"cannot\",\"can't've\": \"cannot have\",\n",
    "                     \"'cause\": \"because\",\"could've\": \"could have\",\"couldn't\": \"could not\",\n",
    "                     \"couldn't've\": \"could not have\", \"didn't\": \"did not\",\"doesn't\": \"does not\",\n",
    "                     \"don't\": \"do not\",\"hadn't\": \"had not\",\"hadn't've\": \"had not have\",\n",
    "                     \"hasn't\": \"has not\",\"haven't\": \"have not\",\"he'd\": \"he would\",\n",
    "                     \"he'd've\": \"he would have\",\"he'll\": \"he will\", \"he'll've\": \"he will have\",\n",
    "                     \"how'd\": \"how did\",\"how'd'y\": \"how do you\",\"how'll\": \"how will\",\n",
    "                     \"I'd\": \"I would\", \"I'd've\": \"I would have\",\"I'll\": \"I will\",\n",
    "                     \"I'll've\": \"I will have\",\"I'm\": \"I am\",\"I've\": \"I have\", \"isn't\": \"is not\",\n",
    "                     \"it'd\": \"it would\",\"it'd've\": \"it would have\",\"it'll\": \"it will\",\n",
    "                     \"it'll've\": \"it will have\", \"let's\": \"let us\",\"ma'am\": \"madam\",\n",
    "                     \"mayn't\": \"may not\",\"might've\": \"might have\",\"mightn't\": \"might not\", \n",
    "                     \"mightn't've\": \"might not have\",\"must've\": \"must have\",\"mustn't\": \"must not\",\n",
    "                     \"mustn't've\": \"must not have\", \"needn't\": \"need not\",\n",
    "                     \"needn't've\": \"need not have\",\"o'clock\": \"of the clock\",\"oughtn't\": \"ought not\",\n",
    "                     \"oughtn't've\": \"ought not have\",\"shan't\": \"shall not\",\"sha'n't\": \"shall not\",\n",
    "                     \"shan't've\": \"shall not have\",\"she'd\": \"she would\",\"she'd've\": \"she would have\",\n",
    "                     \"she'll\": \"she will\", \"she'll've\": \"she will have\",\"should've\": \"should have\",\n",
    "                     \"shouldn't\": \"should not\", \"shouldn't've\": \"should not have\",\"so've\": \"so have\",\n",
    "                     \"that'd\": \"that would\",\"that'd've\": \"that would have\", \"there'd\": \"there would\",\n",
    "                     \"there'd've\": \"there would have\", \"they'd\": \"they would\",\n",
    "                     \"they'd've\": \"they would have\",\"they'll\": \"they will\",\n",
    "                     \"they'll've\": \"they will have\", \"they're\": \"they are\",\"they've\": \"they have\",\n",
    "                     \"to've\": \"to have\",\"wasn't\": \"was not\",\"we'd\": \"we would\",\n",
    "                     \"we'd've\": \"we would have\",\"we'll\": \"we will\",\"we'll've\": \"we will have\",\n",
    "                     \"we're\": \"we are\",\"we've\": \"we have\", \"weren't\": \"were not\",\"what'll\": \"what will\",\n",
    "                     \"what'll've\": \"what will have\",\"what're\": \"what are\", \"what've\": \"what have\",\n",
    "                     \"when've\": \"when have\",\"where'd\": \"where did\", \"where've\": \"where have\",\n",
    "                     \"who'll\": \"who will\",\"who'll've\": \"who will have\",\"who've\": \"who have\",\n",
    "                     \"why've\": \"why have\",\"will've\": \"will have\",\"won't\": \"will not\",\n",
    "                     \"won't've\": \"will not have\", \"would've\": \"would have\",\"wouldn't\": \"would not\",\n",
    "                     \"wouldn't've\": \"would not have\",\"y'all\": \"you all\", \"y'all'd\": \"you all would\",\n",
    "                     \"y'all'd've\": \"you all would have\",\"y'all're\": \"you all are\",\n",
    "                     \"y'all've\": \"you all have\", \"you'd\": \"you would\",\"you'd've\": \"you would have\",\n",
    "                     \"you'll\": \"you will\",\"you'll've\": \"you will have\", \"you're\": \"you are\",\n",
    "                     \"you've\": \"you have\"}\n",
    "\n",
    "    contractions_re=re.compile('(%s)' % '|'.join(contractions_dict.keys()))\n",
    "    def replace(match):\n",
    "        return contractions_dict[match.group(0)]\n",
    "    \n",
    "    return contractions_re.sub(replace, sentence)\n",
    "\n",
    "def filter_stopwords(text, lang='en'):\n",
    "    ### Stopword removal using the nltk way ###\n",
    "    if(lang == 'en') : \n",
    "        language = 'english'\n",
    "    elif(lang == 'fr'):\n",
    "        language = 'french'\n",
    "        \n",
    "    stop_words = set(stopwords.words(language)) # Assuming all nltk data is installed\n",
    "    lemmatizer = WordNetLemmatizer()\n",
    "    \n",
    "    word_tokens = word_tokenize(text)\n",
    "    filtered = [lemmatizer.lemmatize(w) for w in word_tokens if not w in stop_words]\n",
    "    \n",
    "    filtered_sentence = ' '.join(filtered)\n",
    "    return filtered_sentence\n",
    "\n",
    "def preprocess_sentence(sentence, lang='en'):\n",
    "    # 1. expand contraction for english\n",
    "    if(lang == 'en'):\n",
    "        sentence = en_contraction_expand(sentence)\n",
    "    \n",
    "    # 2. lowercasing text\n",
    "    sentence = sentence.strip().lower()\n",
    "    \n",
    "    # 3. Digits removal\n",
    "    sentence = re.sub('\\w*\\d\\w*','', sentence)\n",
    "\n",
    "    # 4. Punctuations removal\n",
    "    sentence = re.sub('[%s]' % re.escape(string.punctuation), '', sentence)\n",
    "    \n",
    "    # 5. Extra spaces removal\n",
    "    sentence = re.sub(' +',' ', sentence)\n",
    "    \n",
    "    # 5. filter stopwords \n",
    "    # sentence = filter_stopwords(sentence, lang=lang)\n",
    "    \n",
    "    return sentence\n",
    "    \n",
    "def load_data(filename, lang=\"en\"):\n",
    "    start = time.time()\n",
    "    lines = open(filename, 'r').readlines()\n",
    "    \n",
    "    if(lang == \"en\"):\n",
    "        lines = [preprocess_sentence(x, lang=lang) for x in lines]\n",
    "    elif(lang == \"fr\"):\n",
    "        lines = [preprocess_sentence(x, lang=lang) for x in lines]\n",
    "        \n",
    "    lines = np.array(lines)\n",
    "    end = time.time()\n",
    "    \n",
    "    print(f'[INFO] Took {end - start} seconds to load {filename}')\n",
    "    return lines\n",
    "\n",
    "# data_en = load_data(\"/content/drive/My Drive/en_vocab_small.txt\")\n",
    "# data_fr = load_data(\"/content/drive/My Drive/fr_vocab_small.txt\", lang=\"fr\")\n",
    "data_en = load_data(\"../data/en_vocab_small.txt\")\n",
    "data_fr = load_data(\"../data/fr_vocab_small.txt\", lang=\"fr\")"
   ]
  },
  {
   "cell_type": "code",
   "execution_count": 4,
   "metadata": {
    "colab": {
     "base_uri": "https://localhost:8080/"
    },
    "id": "tvGsx4lN4Dec",
    "outputId": "fd3ab5eb-1645-4f31-ccf7-85eab3771a68"
   },
   "outputs": [
    {
     "name": "stdout",
     "output_type": "stream",
     "text": [
      "[INFO] Tokenizing english data ...\n",
      "[INFO] Tokenizing french data ...\n",
      "[INFO] Saving english tokenizer to pickle/en_tokenizer.pickle ...\n",
      "[INFO] Saving french tokenizer to pickle/fr_tokenizer.pickle ...\n",
      "[18, 24, 2, 9, 68, 5, 40, 8, 4, 2, 56, 3, 45]\n"
     ]
    }
   ],
   "source": [
    "### 2. Vectorize text data for model training ###\n",
    "print('[INFO] Tokenizing english data ...')\n",
    "en_tokenizer = Tokenizer(char_level=False, oov_token=\"PAD\") # 0 is a reserved index\n",
    "en_tokenizer.fit_on_texts(data_en)\n",
    "data_en_seq = en_tokenizer.texts_to_sequences(data_en)\n",
    "\n",
    "print('[INFO] Tokenizing french data ...')\n",
    "fr_tokenizer = Tokenizer(char_level=False, oov_token=\"PAD\")\n",
    "fr_tokenizer.fit_on_texts(data_fr)\n",
    "data_fr_seq = fr_tokenizer.texts_to_sequences(data_fr)\n",
    "\n",
    "print('[INFO] Saving english tokenizer to pickle/en_tokenizer.pickle ...')\n",
    "pickle.dump(en_tokenizer, open(\"pickle/en_tokenizer.pickle\", \"wb\"))\n",
    "print('[INFO] Saving french tokenizer to pickle/fr_tokenizer.pickle ...')\n",
    "pickle.dump(fr_tokenizer, open('pickle/fr_tokenizer.pickle', \"wb\"))\n",
    "\n",
    "print(data_en_seq[0])"
   ]
  },
  {
   "cell_type": "code",
   "execution_count": 28,
   "metadata": {
    "colab": {
     "base_uri": "https://localhost:8080/"
    },
    "id": "Z3Akp2dr4Deg",
    "outputId": "b11deed6-36e8-4cc4-f960-f82f837bb9ec"
   },
   "outputs": [
    {
     "name": "stdout",
     "output_type": "stream",
     "text": [
      "[INFO] Padding sequence for french data ...\n",
      "[INFO] Padding sequence for english data ...\n",
      "----------------------------------------------\n",
      "[INFO] Max english sentence length : 21\n",
      "[INFO] Max french sentence length : 21\n",
      "[INFO] French vocab size : 346\n",
      "[INFO] English vocab size : 198\n"
     ]
    }
   ],
   "source": [
    "### Sequence padding ###\n",
    "def pad(x, length=None):\n",
    "    if length is None:\n",
    "        length = max([len(sentence) for sentence in x])\n",
    "    return pad_sequences(x, maxlen = length, padding = 'post')\n",
    "\n",
    "print('[INFO] Padding sequence for french data ...')\n",
    "data_fr_seq = pad(data_fr_seq)\n",
    "\n",
    "print('[INFO] Padding sequence for english data ...')\n",
    "data_en_seq = pad(data_en_seq, length=data_fr_seq.shape[-1])\n",
    "\n",
    "fr_vocab_size = np.max(data_fr_seq) + 1\n",
    "en_vocab_size = np.max(data_en_seq) + 1\n",
    "print('----------------------------------------------')\n",
    "print(f'[INFO] Max english sentence length : {data_en_seq.shape[-1]}')\n",
    "print(f'[INFO] Max french sentence length : {data_fr_seq.shape[-1]}')\n",
    "print(f'[INFO] French vocab size : {fr_vocab_size}')\n",
    "print(f'[INFO] English vocab size : {en_vocab_size}')"
   ]
  },
  {
   "cell_type": "code",
   "execution_count": 29,
   "metadata": {
    "colab": {
     "base_uri": "https://localhost:8080/"
    },
    "id": "WMiw8-N54Den",
    "outputId": "02bbd5b7-47aa-414f-e7f2-f745025da4e7"
   },
   "outputs": [
    {
     "name": "stdout",
     "output_type": "stream",
     "text": [
      "['new jersey is sometimes quiet during autumn and it is snowy in april PAD PAD PAD PAD PAD PAD PAD PAD']\n",
      "[18 24  2  9 68  5 40  8  4  2 56  3 45  0  0  0  0  0  0  0  0]\n"
     ]
    }
   ],
   "source": [
    "### Test inverse transform from index to words ###\n",
    "print(en_tokenizer.sequences_to_texts([data_en_seq[0]]))\n",
    "print(data_en_seq[0])"
   ]
  },
  {
   "cell_type": "markdown",
   "metadata": {
    "id": "9LFOoI104Deq"
   },
   "source": [
    "# Building model"
   ]
  },
  {
   "cell_type": "markdown",
   "metadata": {
    "id": "fngoIyVJ4Des"
   },
   "source": [
    "## 1. Basic RNN model"
   ]
  },
  {
   "cell_type": "code",
   "execution_count": 30,
   "metadata": {
    "colab": {
     "base_uri": "https://localhost:8080/"
    },
    "id": "04iCRB2j4Deu",
    "outputId": "21e32d70-24a3-47f6-fab3-9148cee67a75"
   },
   "outputs": [
    {
     "name": "stdout",
     "output_type": "stream",
     "text": [
      "Model: \"rnn_model\"\n",
      "_________________________________________________________________\n",
      "Layer (type)                 Output Shape              Param #   \n",
      "=================================================================\n",
      "input_4 (InputLayer)         [(None, 21, 1)]           0         \n",
      "_________________________________________________________________\n",
      "gru_2 (GRU)                  (None, 21, 64)            12864     \n",
      "_________________________________________________________________\n",
      "time_distributed_3 (TimeDist (None, 21, 346)           22490     \n",
      "_________________________________________________________________\n",
      "activation_3 (Activation)    (None, 21, 346)           0         \n",
      "=================================================================\n",
      "Total params: 35,354\n",
      "Trainable params: 35,354\n",
      "Non-trainable params: 0\n",
      "_________________________________________________________________\n",
      "None\n",
      "[INFO] Saving model architecture to \"/content/drive/My Drive/models/rnn_model.h5\"\n"
     ]
    }
   ],
   "source": [
    "data_en_seq = data_en_seq.reshape(-1, data_en_seq.shape[1], 1)\n",
    "def make_rnn_model(input_shape, output_length, fr_vocab_size):\n",
    "    inputs = Input(shape=input_shape[1:])\n",
    "    rnn = GRU(64, return_sequences = True)(inputs)\n",
    "    \n",
    "    # same size as the vocab so we have one hot vector of all words\n",
    "    logits = TimeDistributed(Dense(fr_vocab_size))(rnn)\n",
    "    output = Activation('softmax')(logits)\n",
    "    model = Model(inputs=inputs, outputs=output, name=RNN_MODEL_NAME)\n",
    "    model.compile(optimizer='adam',\n",
    "                 loss='sparse_categorical_crossentropy',\n",
    "                 metrics=['accuracy'])\n",
    "    \n",
    "    return model\n",
    "\n",
    "model = make_rnn_model(data_en_seq.shape, data_fr_seq.shape[-1], fr_vocab_size)\n",
    "print(model.summary())\n",
    "\n",
    "print(f'[INFO] Saving model architecture to \"{MODELS_DIR}/{RNN_MODEL_NAME}.h5\"')\n",
    "model.save(f\"{MODELS_DIR}/{RNN_MODEL_NAME}.h5\")"
   ]
  },
  {
   "cell_type": "code",
   "execution_count": 31,
   "metadata": {
    "colab": {
     "base_uri": "https://localhost:8080/"
    },
    "id": "SHQzUie44Dez",
    "outputId": "09f4b713-f276-480d-ec36-ea852803404b"
   },
   "outputs": [
    {
     "name": "stdout",
     "output_type": "stream",
     "text": [
      "Epoch 1/20\n",
      "108/108 [==============================] - 5s 28ms/step - loss: 4.5772 - accuracy: 0.3525 - val_loss: 2.5798 - val_accuracy: 0.4627\n",
      "Epoch 2/20\n",
      "108/108 [==============================] - 2s 22ms/step - loss: 2.5223 - accuracy: 0.4662 - val_loss: 2.3633 - val_accuracy: 0.4841\n",
      "Epoch 3/20\n",
      "108/108 [==============================] - 2s 22ms/step - loss: 2.3171 - accuracy: 0.4895 - val_loss: 2.1796 - val_accuracy: 0.5055\n",
      "Epoch 4/20\n",
      "108/108 [==============================] - 2s 22ms/step - loss: 2.1365 - accuracy: 0.5114 - val_loss: 2.0049 - val_accuracy: 0.5291\n",
      "Epoch 5/20\n",
      "108/108 [==============================] - 2s 22ms/step - loss: 1.9659 - accuracy: 0.5410 - val_loss: 1.8490 - val_accuracy: 0.5641\n",
      "Epoch 6/20\n",
      "108/108 [==============================] - 2s 22ms/step - loss: 1.8225 - accuracy: 0.5625 - val_loss: 1.7421 - val_accuracy: 0.5727\n",
      "Epoch 7/20\n",
      "108/108 [==============================] - 2s 22ms/step - loss: 1.7243 - accuracy: 0.5748 - val_loss: 1.6685 - val_accuracy: 0.5826\n",
      "Epoch 8/20\n",
      "108/108 [==============================] - 2s 22ms/step - loss: 1.6565 - accuracy: 0.5820 - val_loss: 1.6106 - val_accuracy: 0.5825\n",
      "Epoch 9/20\n",
      "108/108 [==============================] - 2s 22ms/step - loss: 1.6009 - accuracy: 0.5854 - val_loss: 1.5646 - val_accuracy: 0.5954\n",
      "Epoch 10/20\n",
      "108/108 [==============================] - 2s 22ms/step - loss: 1.5542 - accuracy: 0.5951 - val_loss: 1.5256 - val_accuracy: 0.5967\n",
      "Epoch 11/20\n",
      "108/108 [==============================] - 2s 22ms/step - loss: 1.5163 - accuracy: 0.5990 - val_loss: 1.4923 - val_accuracy: 0.5999\n",
      "Epoch 12/20\n",
      "108/108 [==============================] - 2s 22ms/step - loss: 1.4870 - accuracy: 0.6028 - val_loss: 1.4626 - val_accuracy: 0.6071\n",
      "Epoch 13/20\n",
      "108/108 [==============================] - 2s 22ms/step - loss: 1.4585 - accuracy: 0.6067 - val_loss: 1.4338 - val_accuracy: 0.6112\n",
      "Epoch 14/20\n",
      "108/108 [==============================] - 2s 22ms/step - loss: 1.4307 - accuracy: 0.6138 - val_loss: 1.4060 - val_accuracy: 0.6176\n",
      "Epoch 15/20\n",
      "108/108 [==============================] - 2s 22ms/step - loss: 1.4012 - accuracy: 0.6200 - val_loss: 1.3791 - val_accuracy: 0.6247\n",
      "Epoch 16/20\n",
      "108/108 [==============================] - 2s 22ms/step - loss: 1.3737 - accuracy: 0.6269 - val_loss: 1.3542 - val_accuracy: 0.6288\n",
      "Epoch 17/20\n",
      "108/108 [==============================] - 2s 22ms/step - loss: 1.3488 - accuracy: 0.6303 - val_loss: 1.3312 - val_accuracy: 0.6342\n",
      "Epoch 18/20\n",
      "108/108 [==============================] - 2s 22ms/step - loss: 1.3254 - accuracy: 0.6336 - val_loss: 1.3101 - val_accuracy: 0.6360\n",
      "Epoch 19/20\n",
      "108/108 [==============================] - 2s 22ms/step - loss: 1.3070 - accuracy: 0.6354 - val_loss: 1.2912 - val_accuracy: 0.6364\n",
      "Epoch 20/20\n",
      "108/108 [==============================] - 2s 22ms/step - loss: 1.2891 - accuracy: 0.6369 - val_loss: 1.2752 - val_accuracy: 0.6400\n",
      "[INFO] Saving model weights to /content/drive/My Drive/weights/rnn_model.weights.hdf5\n"
     ]
    }
   ],
   "source": [
    "history = model.fit(data_en_seq, data_fr_seq, batch_size=1024, epochs=20, validation_split=0.2)\n",
    "print(f\"[INFO] Saving model weights to {WEIGHTS_DIR}/{RNN_MODEL_NAME}.weights.hdf5\")\n",
    "model.save_weights(f\"{WEIGHTS_DIR}/{RNN_MODEL_NAME}.weights.hdf5\")"
   ]
  },
  {
   "cell_type": "code",
   "execution_count": 32,
   "metadata": {
    "colab": {
     "base_uri": "https://localhost:8080/",
     "height": 322
    },
    "id": "mDf45FCy4De5",
    "outputId": "4eef7650-1ac8-47ac-eccd-83093d2e4e9d"
   },
   "outputs": [
    {
     "data": {
      "image/png": "[encoded data removed]",
      "text/plain": [
       "<Figure size 1080x360 with 2 Axes>"
      ]
     },
     "metadata": {
      "needs_background": "light",
      "tags": []
     },
     "output_type": "display_data"
    }
   ],
   "source": [
    "train_loss = model.history.history['loss']\n",
    "val_loss = model.history.history['val_loss']\n",
    "\n",
    "train_acc = model.history.history['accuracy']\n",
    "val_acc = model.history.history['val_accuracy']\n",
    "\n",
    "fig, ax = plt.subplots(1,2, figsize=(15, 5))\n",
    "\n",
    "ax[0].plot(train_loss, label='Train Loss', color='blue')\n",
    "ax[0].plot(val_loss, label='Validation Loss', color='orange')\n",
    "\n",
    "ax[1].plot(train_acc, label='Train Accuracy', color='blue')\n",
    "ax[1].plot(val_acc, label='Validation Accuracy', color='orange')\n",
    "plt.legend()\n",
    "plt.show()"
   ]
  },
  {
   "cell_type": "code",
   "execution_count": 33,
   "metadata": {
    "colab": {
     "base_uri": "https://localhost:8080/"
    },
    "id": "HMhuWUM04De7",
    "outputId": "25e85b67-e648-4f95-95dd-a305d3c2bd48"
   },
   "outputs": [
    {
     "name": "stdout",
     "output_type": "stream",
     "text": [
      "[35 34  2  9 60  3 12  7  4  2  2  3  3  0  0  0  0  0  0  0  0]\n"
     ]
    }
   ],
   "source": [
    "### Testing predictions ###\n",
    "predictions = model.predict(data_en_seq[0:200])\n",
    "print(np.argmax(predictions, axis=-1)[0])"
   ]
  },
  {
   "cell_type": "code",
   "execution_count": 34,
   "metadata": {
    "colab": {
     "base_uri": "https://localhost:8080/"
    },
    "id": "1v96YHU04De9",
    "outputId": "364fb4fd-d353-4a5e-dd20-38c516b25c4b"
   },
   "outputs": [
    {
     "name": "stdout",
     "output_type": "stream",
     "text": [
      "new jersey est parfois humide en l et il est est en en\n"
     ]
    }
   ],
   "source": [
    "predicted_text = fr_tokenizer.sequences_to_texts([np.argmax(predictions, axis=-1)[0]])[0]\n",
    "predicted_text = predicted_text.replace(\"PAD\", \"\").strip()\n",
    "print(predicted_text)"
   ]
  },
  {
   "cell_type": "markdown",
   "metadata": {
    "id": "Bh36Nnk9Y0ej"
   },
   "source": [
    "## 2. Basic RNN + Word embedding"
   ]
  },
  {
   "cell_type": "code",
   "execution_count": 35,
   "metadata": {
    "colab": {
     "base_uri": "https://localhost:8080/"
    },
    "id": "8cRHtK3n4De-",
    "outputId": "4b49718b-a0c7-4a11-a346-6d4506f85fb6"
   },
   "outputs": [
    {
     "name": "stdout",
     "output_type": "stream",
     "text": [
      "Model: \"rnn_with_embedding_model\"\n",
      "_________________________________________________________________\n",
      "Layer (type)                 Output Shape              Param #   \n",
      "=================================================================\n",
      "input_5 (InputLayer)         [(None, 21, 1)]           0         \n",
      "_________________________________________________________________\n",
      "embedding_2 (Embedding)      (None, 21, 1, 64)         22144     \n",
      "_________________________________________________________________\n",
      "reshape_2 (Reshape)          (None, 21, 64)            0         \n",
      "_________________________________________________________________\n",
      "gru_3 (GRU)                  (None, 21, 64)            24960     \n",
      "_________________________________________________________________\n",
      "time_distributed_4 (TimeDist (None, 21, 346)           22490     \n",
      "_________________________________________________________________\n",
      "activation_4 (Activation)    (None, 21, 346)           0         \n",
      "=================================================================\n",
      "Total params: 69,594\n",
      "Trainable params: 69,594\n",
      "Non-trainable params: 0\n",
      "_________________________________________________________________\n",
      "None\n",
      "[INFO] Saving model architecture to \"/content/drive/My Drive/models/rnn_with_embedding_model.h5\"\n"
     ]
    }
   ],
   "source": [
    "def make_rnn_with_embedding(input_shape, fr_vocab_size):\n",
    "  # Embedding layer can only be used as the first layer\n",
    "  inputs = Input(shape=input_shape[1:])\n",
    "  embs   = Embedding(fr_vocab_size, 64, input_length=input_shape[1])(inputs)\n",
    "  embs   = Reshape(target_shape=(input_shape[1], 64))(embs)\n",
    "\n",
    "  rnn = GRU(64, return_sequences = True)(embs)\n",
    "    \n",
    "  # same size as the vocab so we have one hot vector of all words\n",
    "  logits = TimeDistributed(Dense(fr_vocab_size))(rnn)\n",
    "  output = Activation('softmax')(logits)\n",
    "  model = Model(inputs=inputs, outputs=output, name=RNN_EMB_MODEL_NAME)\n",
    "  model.compile(optimizer='adam',\n",
    "                loss='sparse_categorical_crossentropy',\n",
    "                metrics=['accuracy'])\n",
    "    \n",
    "  return model\n",
    "\n",
    "model = make_rnn_with_embedding(data_en_seq.shape, fr_vocab_size)\n",
    "print(model.summary())\n",
    "\n",
    "print(f'[INFO] Saving model architecture to \"{MODELS_DIR}/{RNN_EMB_MODEL_NAME}.h5\"')\n",
    "model.save(f\"{MODELS_DIR}/{RNN_EMB_MODEL_NAME}.h5\")"
   ]
  },
  {
   "cell_type": "code",
   "execution_count": 36,
   "metadata": {
    "colab": {
     "base_uri": "https://localhost:8080/"
    },
    "id": "5_ZaU8hnyjQJ",
    "outputId": "d25d9343-6623-43b4-96e9-5fc4a704bd4c"
   },
   "outputs": [
    {
     "name": "stdout",
     "output_type": "stream",
     "text": [
      "Epoch 1/20\n",
      "108/108 [==============================] - 6s 33ms/step - loss: 4.6269 - accuracy: 0.3764 - val_loss: 2.9665 - val_accuracy: 0.4130\n",
      "Epoch 2/20\n",
      "108/108 [==============================] - 3s 27ms/step - loss: 2.8425 - accuracy: 0.4245 - val_loss: 2.3908 - val_accuracy: 0.4966\n",
      "Epoch 3/20\n",
      "108/108 [==============================] - 3s 27ms/step - loss: 2.2276 - accuracy: 0.5213 - val_loss: 1.7219 - val_accuracy: 0.5977\n",
      "Epoch 4/20\n",
      "108/108 [==============================] - 3s 27ms/step - loss: 1.6113 - accuracy: 0.6166 - val_loss: 1.3257 - val_accuracy: 0.6742\n",
      "Epoch 5/20\n",
      "108/108 [==============================] - 3s 27ms/step - loss: 1.2614 - accuracy: 0.6892 - val_loss: 1.0958 - val_accuracy: 0.7304\n",
      "Epoch 6/20\n",
      "108/108 [==============================] - 3s 27ms/step - loss: 1.0568 - accuracy: 0.7386 - val_loss: 0.9419 - val_accuracy: 0.7620\n",
      "Epoch 7/20\n",
      "108/108 [==============================] - 3s 27ms/step - loss: 0.9120 - accuracy: 0.7678 - val_loss: 0.8289 - val_accuracy: 0.7853\n",
      "Epoch 8/20\n",
      "108/108 [==============================] - 3s 27ms/step - loss: 0.8105 - accuracy: 0.7888 - val_loss: 0.7472 - val_accuracy: 0.8024\n",
      "Epoch 9/20\n",
      "108/108 [==============================] - 3s 27ms/step - loss: 0.7312 - accuracy: 0.8050 - val_loss: 0.6841 - val_accuracy: 0.8150\n",
      "Epoch 10/20\n",
      "108/108 [==============================] - 3s 27ms/step - loss: 0.6723 - accuracy: 0.8175 - val_loss: 0.6343 - val_accuracy: 0.8252\n",
      "Epoch 11/20\n",
      "108/108 [==============================] - 3s 28ms/step - loss: 0.6245 - accuracy: 0.8265 - val_loss: 0.5909 - val_accuracy: 0.8343\n",
      "Epoch 12/20\n",
      "108/108 [==============================] - 3s 27ms/step - loss: 0.5843 - accuracy: 0.8351 - val_loss: 0.5572 - val_accuracy: 0.8420\n",
      "Epoch 13/20\n",
      "108/108 [==============================] - 3s 27ms/step - loss: 0.5504 - accuracy: 0.8432 - val_loss: 0.5266 - val_accuracy: 0.8498\n",
      "Epoch 14/20\n",
      "108/108 [==============================] - 3s 27ms/step - loss: 0.5218 - accuracy: 0.8503 - val_loss: 0.4982 - val_accuracy: 0.8577\n",
      "Epoch 15/20\n",
      "108/108 [==============================] - 3s 27ms/step - loss: 0.4937 - accuracy: 0.8583 - val_loss: 0.4756 - val_accuracy: 0.8641\n",
      "Epoch 16/20\n",
      "108/108 [==============================] - 3s 27ms/step - loss: 0.4709 - accuracy: 0.8650 - val_loss: 0.4568 - val_accuracy: 0.8694\n",
      "Epoch 17/20\n",
      "108/108 [==============================] - 3s 27ms/step - loss: 0.4534 - accuracy: 0.8695 - val_loss: 0.4459 - val_accuracy: 0.8705\n",
      "Epoch 18/20\n",
      "108/108 [==============================] - 3s 27ms/step - loss: 0.4392 - accuracy: 0.8733 - val_loss: 0.4244 - val_accuracy: 0.8768\n",
      "Epoch 19/20\n",
      "108/108 [==============================] - 3s 27ms/step - loss: 0.4203 - accuracy: 0.8778 - val_loss: 0.4121 - val_accuracy: 0.8799\n",
      "Epoch 20/20\n",
      "108/108 [==============================] - 3s 27ms/step - loss: 0.4065 - accuracy: 0.8811 - val_loss: 0.4031 - val_accuracy: 0.8818\n",
      "[INFO] Saving model weights to /content/drive/My Drive/weights/rnn_with_embedding_model.weights.hdf5\n"
     ]
    }
   ],
   "source": [
    "history = model.fit(data_en_seq, data_fr_seq, batch_size=1024, epochs=20, validation_split=0.2)\n",
    "print(f\"[INFO] Saving model weights to {WEIGHTS_DIR}/{RNN_EMB_MODEL_NAME}.weights.hdf5\")\n",
    "model.save_weights(f\"{WEIGHTS_DIR}/{RNN_EMB_MODEL_NAME}.weights.hdf5\")"
   ]
  },
  {
   "cell_type": "code",
   "execution_count": 37,
   "metadata": {
    "colab": {
     "base_uri": "https://localhost:8080/",
     "height": 321
    },
    "id": "YZT0caEq0aG0",
    "outputId": "0d60178d-173b-4beb-8af6-a63b18b2c45b"
   },
   "outputs": [
    {
     "data": {
      "image/png": "[encoded data removed]",
      "text/plain": [
       "<Figure size 1080x360 with 2 Axes>"
      ]
     },
     "metadata": {
      "needs_background": "light",
      "tags": []
     },
     "output_type": "display_data"
    }
   ],
   "source": [
    "train_loss = model.history.history['loss']\n",
    "val_loss = model.history.history['val_loss']\n",
    "\n",
    "train_acc = model.history.history['accuracy']\n",
    "val_acc = model.history.history['val_accuracy']\n",
    "\n",
    "fig, ax = plt.subplots(1,2, figsize=(15, 5))\n",
    "\n",
    "ax[0].plot(train_loss, label='Train Loss', color='blue')\n",
    "ax[0].plot(val_loss, label='Validation Loss', color='orange')\n",
    "\n",
    "ax[1].plot(train_acc, label='Train Accuracy', color='blue')\n",
    "ax[1].plot(val_acc, label='Validation Accuracy', color='orange')\n",
    "plt.legend()\n",
    "plt.show()"
   ]
  },
  {
   "cell_type": "code",
   "execution_count": 38,
   "metadata": {
    "colab": {
     "base_uri": "https://localhost:8080/"
    },
    "id": "Oh26s-TD0uE_",
    "outputId": "123fe9f2-dac2-4a34-a726-e755a4ca884c"
   },
   "outputs": [
    {
     "name": "stdout",
     "output_type": "stream",
     "text": [
      "[ 35  34   2   9  67   3  12   7   4   4   2 112   3   3   0   0   0   0\n",
      "   0   0   0]\n"
     ]
    }
   ],
   "source": [
    "### Testing predictions ###\n",
    "predictions = model.predict(data_en_seq[0:200])\n",
    "print(np.argmax(predictions, axis=-1)[0])"
   ]
  },
  {
   "cell_type": "code",
   "execution_count": 39,
   "metadata": {
    "colab": {
     "base_uri": "https://localhost:8080/"
    },
    "id": "YMT-WBgF0yfe",
    "outputId": "f0d12512-3e2e-4b74-b804-55994fbcdeef"
   },
   "outputs": [
    {
     "name": "stdout",
     "output_type": "stream",
     "text": [
      "new jersey est parfois calme en l et il il est neigeux en en\n"
     ]
    }
   ],
   "source": [
    "predicted_text = fr_tokenizer.sequences_to_texts([np.argmax(predictions, axis=-1)[0]])[0]\n",
    "predicted_text = predicted_text.replace(\"PAD\", \"\").strip()\n",
    "print(predicted_text)"
   ]
  },
  {
   "cell_type": "markdown",
   "metadata": {
    "id": "h08RIrKbliB8"
   },
   "source": [
    "## 3. Bidirectional RNN"
   ]
  },
  {
   "cell_type": "code",
   "execution_count": 40,
   "metadata": {
    "colab": {
     "base_uri": "https://localhost:8080/"
    },
    "id": "M-HIISA1009W",
    "outputId": "68f5fd0f-e3cd-4277-a11e-f76ffd13cc1b"
   },
   "outputs": [
    {
     "name": "stdout",
     "output_type": "stream",
     "text": [
      "Model: \"birnn_with_embedding_model\"\n",
      "_________________________________________________________________\n",
      "Layer (type)                 Output Shape              Param #   \n",
      "=================================================================\n",
      "input_6 (InputLayer)         [(None, 21, 1)]           0         \n",
      "_________________________________________________________________\n",
      "embedding_3 (Embedding)      (None, 21, 1, 128)        44288     \n",
      "_________________________________________________________________\n",
      "reshape_3 (Reshape)          (None, 21, 128)           0         \n",
      "_________________________________________________________________\n",
      "bidirectional_1 (Bidirection (None, 21, 128)           98816     \n",
      "_________________________________________________________________\n",
      "time_distributed_5 (TimeDist (None, 21, 346)           44634     \n",
      "_________________________________________________________________\n",
      "activation_5 (Activation)    (None, 21, 346)           0         \n",
      "=================================================================\n",
      "Total params: 187,738\n",
      "Trainable params: 187,738\n",
      "Non-trainable params: 0\n",
      "_________________________________________________________________\n",
      "None\n",
      "[INFO] Saving model architecture to /content/drive/My Drive/models/birnn_with_embedding_model.h5\n"
     ]
    }
   ],
   "source": [
    " def make_bidirectional_rnn(input_shape, fr_vocab_size):\n",
    "    # Embedding layer can only be used as the first layer\n",
    "    inputs = Input(shape=input_shape[1:])\n",
    "    embs   = Embedding(fr_vocab_size, 128, input_length=input_shape[1])(inputs)\n",
    "    embs   = Reshape(target_shape=(input_shape[1], 128))(embs)\n",
    "\n",
    "    rnn = Bidirectional(LSTM(64, return_sequences = True))(embs) # better without dropout\n",
    "\n",
    "    # same size as the vocab so we have one hot vector of all words\n",
    "    logits = TimeDistributed(Dense(fr_vocab_size))(rnn)\n",
    "    output = Activation('softmax')(logits)\n",
    "    model = Model(inputs=inputs, outputs=output, name=BI_RNN_MODEL_NAME)\n",
    "    model.compile(optimizer='adam',\n",
    "                loss='sparse_categorical_crossentropy',\n",
    "                metrics=['accuracy'])\n",
    "\n",
    "    return model\n",
    "\n",
    "model = make_bidirectional_rnn(data_en_seq.shape, fr_vocab_size)\n",
    "print(model.summary())\n",
    "\n",
    "print(f'[INFO] Saving model architecture to {MODELS_DIR}/{BI_RNN_MODEL_NAME}.h5')\n",
    "model.save(f\"{MODELS_DIR}/{BI_RNN_MODEL_NAME}.h5\")"
   ]
  },
  {
   "cell_type": "code",
   "execution_count": 41,
   "metadata": {
    "colab": {
     "base_uri": "https://localhost:8080/"
    },
    "id": "Se4vUip2qYlh",
    "outputId": "8799aa03-606e-4446-ede1-80984bbe790b"
   },
   "outputs": [
    {
     "name": "stdout",
     "output_type": "stream",
     "text": [
      "Epoch 1/20\n",
      "108/108 [==============================] - 10s 56ms/step - loss: 4.2067 - accuracy: 0.4065 - val_loss: 2.4962 - val_accuracy: 0.4816\n",
      "Epoch 2/20\n",
      "108/108 [==============================] - 5s 46ms/step - loss: 2.3583 - accuracy: 0.4959 - val_loss: 1.9581 - val_accuracy: 0.5239\n",
      "Epoch 3/20\n",
      "108/108 [==============================] - 5s 46ms/step - loss: 1.8560 - accuracy: 0.5520 - val_loss: 1.5418 - val_accuracy: 0.6126\n",
      "Epoch 4/20\n",
      "108/108 [==============================] - 5s 46ms/step - loss: 1.4529 - accuracy: 0.6299 - val_loss: 1.1953 - val_accuracy: 0.6894\n",
      "Epoch 5/20\n",
      "108/108 [==============================] - 5s 46ms/step - loss: 1.1320 - accuracy: 0.7048 - val_loss: 0.9542 - val_accuracy: 0.7502\n",
      "Epoch 6/20\n",
      "108/108 [==============================] - 5s 46ms/step - loss: 0.9181 - accuracy: 0.7559 - val_loss: 0.8033 - val_accuracy: 0.7772\n",
      "Epoch 7/20\n",
      "108/108 [==============================] - 5s 46ms/step - loss: 0.7765 - accuracy: 0.7834 - val_loss: 0.7027 - val_accuracy: 0.8008\n",
      "Epoch 8/20\n",
      "108/108 [==============================] - 5s 46ms/step - loss: 0.6837 - accuracy: 0.8053 - val_loss: 0.6216 - val_accuracy: 0.8227\n",
      "Epoch 9/20\n",
      "108/108 [==============================] - 5s 46ms/step - loss: 0.6088 - accuracy: 0.8255 - val_loss: 0.5621 - val_accuracy: 0.8384\n",
      "Epoch 10/20\n",
      "108/108 [==============================] - 5s 46ms/step - loss: 0.5534 - accuracy: 0.8400 - val_loss: 0.5152 - val_accuracy: 0.8510\n",
      "Epoch 11/20\n",
      "108/108 [==============================] - 5s 46ms/step - loss: 0.5056 - accuracy: 0.8535 - val_loss: 0.4768 - val_accuracy: 0.8623\n",
      "Epoch 12/20\n",
      "108/108 [==============================] - 5s 46ms/step - loss: 0.4682 - accuracy: 0.8637 - val_loss: 0.4447 - val_accuracy: 0.8715\n",
      "Epoch 13/20\n",
      "108/108 [==============================] - 5s 46ms/step - loss: 0.4337 - accuracy: 0.8740 - val_loss: 0.4136 - val_accuracy: 0.8797\n",
      "Epoch 14/20\n",
      "108/108 [==============================] - 5s 46ms/step - loss: 0.4100 - accuracy: 0.8807 - val_loss: 0.3897 - val_accuracy: 0.8866\n",
      "Epoch 15/20\n",
      "108/108 [==============================] - 5s 46ms/step - loss: 0.3837 - accuracy: 0.8886 - val_loss: 0.3669 - val_accuracy: 0.8944\n",
      "Epoch 16/20\n",
      "108/108 [==============================] - 5s 46ms/step - loss: 0.3591 - accuracy: 0.8960 - val_loss: 0.3471 - val_accuracy: 0.9003\n",
      "Epoch 17/20\n",
      "108/108 [==============================] - 5s 46ms/step - loss: 0.3380 - accuracy: 0.9027 - val_loss: 0.3271 - val_accuracy: 0.9072\n",
      "Epoch 18/20\n",
      "108/108 [==============================] - 5s 46ms/step - loss: 0.3243 - accuracy: 0.9074 - val_loss: 0.3128 - val_accuracy: 0.9110\n",
      "Epoch 19/20\n",
      "108/108 [==============================] - 5s 46ms/step - loss: 0.3043 - accuracy: 0.9135 - val_loss: 0.2967 - val_accuracy: 0.9168\n",
      "Epoch 20/20\n",
      "108/108 [==============================] - 5s 46ms/step - loss: 0.2893 - accuracy: 0.9182 - val_loss: 0.2847 - val_accuracy: 0.9205\n",
      "[INFO] Saving model weights to /content/drive/My Drive/weights/birnn_with_embedding_model.weights.hdf5\n"
     ]
    }
   ],
   "source": [
    "history = model.fit(data_en_seq, data_fr_seq, batch_size=1024, epochs=20, validation_split=0.2)\n",
    "print(f\"[INFO] Saving model weights to {WEIGHTS_DIR}/{BI_RNN_MODEL_NAME}.weights.hdf5\")\n",
    "model.save_weights(f\"{WEIGHTS_DIR}/{BI_RNN_MODEL_NAME}.weights.hdf5\")"
   ]
  },
  {
   "cell_type": "code",
   "execution_count": 42,
   "metadata": {
    "colab": {
     "base_uri": "https://localhost:8080/",
     "height": 320
    },
    "id": "82uAZn_0rA1c",
    "outputId": "9ef34a4a-8a19-4a6a-dae7-577b6ff17a2a"
   },
   "outputs": [
    {
     "data": {
      "image/png": "[encoded data removed]",
      "text/plain": [
       "<Figure size 1080x360 with 2 Axes>"
      ]
     },
     "metadata": {
      "needs_background": "light",
      "tags": []
     },
     "output_type": "display_data"
    }
   ],
   "source": [
    "train_loss = model.history.history['loss']\n",
    "val_loss = model.history.history['val_loss']\n",
    "\n",
    "train_acc = model.history.history['accuracy']\n",
    "val_acc = model.history.history['val_accuracy']\n",
    "\n",
    "fig, ax = plt.subplots(1,2, figsize=(15, 5))\n",
    "\n",
    "ax[0].plot(train_loss, label='Train Loss', color='blue')\n",
    "ax[0].plot(val_loss, label='Validation Loss', color='orange')\n",
    "\n",
    "ax[1].plot(train_acc, label='Train Accuracy', color='blue')\n",
    "ax[1].plot(val_acc, label='Validation Accuracy', color='orange')\n",
    "plt.legend()\n",
    "plt.show()"
   ]
  },
  {
   "cell_type": "code",
   "execution_count": 43,
   "metadata": {
    "colab": {
     "base_uri": "https://localhost:8080/"
    },
    "id": "KJuaKkqIrRl2",
    "outputId": "522cd02f-7777-4f5b-b61b-b952e84b0d71"
   },
   "outputs": [
    {
     "name": "stdout",
     "output_type": "stream",
     "text": [
      "[ 35  34   2   9  67   3 111   7   4   2 112   3  50  50   0   0   0   0\n",
      "   0   0   0]\n"
     ]
    }
   ],
   "source": [
    "### Testing predictions ###\n",
    "predictions = model.predict(data_en_seq[0:200])\n",
    "print(np.argmax(predictions, axis=-1)[0])"
   ]
  },
  {
   "cell_type": "code",
   "execution_count": 44,
   "metadata": {
    "colab": {
     "base_uri": "https://localhost:8080/"
    },
    "id": "QIiOw6Motq-U",
    "outputId": "cbde2cbf-ffb8-41a6-a886-09983640dfc9"
   },
   "outputs": [
    {
     "name": "stdout",
     "output_type": "stream",
     "text": [
      "new jersey est parfois calme en cours et il est neigeux en avril avril\n"
     ]
    }
   ],
   "source": [
    "predicted_text = fr_tokenizer.sequences_to_texts([np.argmax(predictions, axis=-1)[0]])[0]\n",
    "predicted_text = predicted_text.replace(\"PAD\", \"\").strip()\n",
    "print(predicted_text)"
   ]
  },
  {
   "cell_type": "markdown",
   "metadata": {
    "id": "PsLYKNO9txB-"
   },
   "source": [
    "## 4. Encoder-Decoder architecture"
   ]
  },
  {
   "cell_type": "code",
   "execution_count": 44,
   "metadata": {
    "id": "2no8oYP5ts7w"
   },
   "outputs": [],
   "source": []
  }
 ],
 "metadata": {
  "accelerator": "GPU",
  "colab": {
   "collapsed_sections": [],
   "name": "NeuralMachineTranslation.ipynb",
   "provenance": []
  },
  "kernelspec": {
   "display_name": "Python 3",
   "language": "python",
   "name": "python3"
  },
  "language_info": {
   "codemirror_mode": {
    "name": "ipython",
    "version": 3
   },
   "file_extension": ".py",
   "mimetype": "text/x-python",
   "name": "python",
   "nbconvert_exporter": "python",
   "pygments_lexer": "ipython3",
   "version": "3.8.5"
  }
 },
 "nbformat": 4,
 "nbformat_minor": 1
}
