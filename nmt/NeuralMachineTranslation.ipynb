{
  "nbformat": 4,
  "nbformat_minor": 0,
  "metadata": {
    "kernelspec": {
      "display_name": "Python 3",
      "language": "python",
      "name": "python3"
    },
    "language_info": {
      "codemirror_mode": {
        "name": "ipython",
        "version": 3
      },
      "file_extension": ".py",
      "mimetype": "text/x-python",
      "name": "python",
      "nbconvert_exporter": "python",
      "pygments_lexer": "ipython3",
      "version": "3.8.5"
    },
    "colab": {
      "name": "NeuralMachineTranslation.ipynb",
      "provenance": [],
      "collapsed_sections": []
    },
    "accelerator": "GPU"
  },
  "cells": [
    {
      "cell_type": "markdown",
      "metadata": {
        "id": "8wv72IzT4DeD"
      },
      "source": [
        "# Importing libraries"
      ]
    },
    {
      "cell_type": "code",
      "metadata": {
        "colab": {
          "base_uri": "https://localhost:8080/"
        },
        "id": "AOrEFgVT4GYn",
        "outputId": "f7b46179-5557-4344-9254-da6d2ac0d6eb"
      },
      "source": [
        "from google.colab import drive\n",
        "drive.mount(\"/content/drive\", force_remount=True)\n",
        "!ls '/content/drive/My Drive/'"
      ],
      "execution_count": 2,
      "outputs": [
        {
          "output_type": "stream",
          "text": [
            "Mounted at /content/drive\n",
            " CADL-I-FinalPoject\t\t\t       notes\n",
            "'Colab Notebooks'\t\t\t       ottawa-roadnet\n",
            " Dog_Cat_Data\t\t\t\t       RoadNetDemo\n",
            " en_vocab_small.txt\t\t\t       RoadNetKeras\n",
            " fr_vocab_small.txt\t\t\t       StyleGAN-Tensorflow2-master\n",
            " model_94k_faces_glintasia_without_norm.hdf5\n"
          ],
          "name": "stdout"
        }
      ]
    },
    {
      "cell_type": "code",
      "metadata": {
        "id": "_rZEpEKR4DeL"
      },
      "source": [
        "import os\n",
        "import re\n",
        "import time\n",
        "import string\n",
        "import spacy\n",
        "import numpy as np\n",
        "import tensorflow as tf\n",
        "import matplotlib.pyplot as plt\n",
        "\n",
        "### NLTK dependencies ###\n",
        "from nltk.corpus import stopwords  \n",
        "from nltk.tokenize import word_tokenize\n",
        "from nltk.stem import WordNetLemmatizer\n",
        "\n",
        "### Tensorflow dependencies ###\n",
        "from tensorflow.keras.layers import *\n",
        "from tensorflow.keras.models import Model\n",
        "from tensorflow.keras.optimizers import Adam\n",
        "from tensorflow.keras import backend as K\n",
        "from tensorflow.keras.preprocessing.text import Tokenizer\n",
        "from tensorflow.keras.preprocessing.sequence import pad_sequences"
      ],
      "execution_count": 3,
      "outputs": []
    },
    {
      "cell_type": "markdown",
      "metadata": {
        "id": "edJhLdeo4DeQ"
      },
      "source": [
        "# Loading and preprocessing data"
      ]
    },
    {
      "cell_type": "code",
      "metadata": {
        "colab": {
          "base_uri": "https://localhost:8080/"
        },
        "id": "GHNkIumE4DeU",
        "outputId": "b5169291-c3c0-43be-f9e1-3fe10467a4d2"
      },
      "source": [
        "### 1. Loading data from files and preprocessing ###\n",
        "def en_contraction_expand(sentence):\n",
        "    # Dictionary of English Contractions\n",
        "    contractions_dict = { \"ain't\": \"are not\",\"'s\":\" is\",\"aren't\": \"are not\",\n",
        "                     \"can't\": \"cannot\",\"can't've\": \"cannot have\",\n",
        "                     \"'cause\": \"because\",\"could've\": \"could have\",\"couldn't\": \"could not\",\n",
        "                     \"couldn't've\": \"could not have\", \"didn't\": \"did not\",\"doesn't\": \"does not\",\n",
        "                     \"don't\": \"do not\",\"hadn't\": \"had not\",\"hadn't've\": \"had not have\",\n",
        "                     \"hasn't\": \"has not\",\"haven't\": \"have not\",\"he'd\": \"he would\",\n",
        "                     \"he'd've\": \"he would have\",\"he'll\": \"he will\", \"he'll've\": \"he will have\",\n",
        "                     \"how'd\": \"how did\",\"how'd'y\": \"how do you\",\"how'll\": \"how will\",\n",
        "                     \"I'd\": \"I would\", \"I'd've\": \"I would have\",\"I'll\": \"I will\",\n",
        "                     \"I'll've\": \"I will have\",\"I'm\": \"I am\",\"I've\": \"I have\", \"isn't\": \"is not\",\n",
        "                     \"it'd\": \"it would\",\"it'd've\": \"it would have\",\"it'll\": \"it will\",\n",
        "                     \"it'll've\": \"it will have\", \"let's\": \"let us\",\"ma'am\": \"madam\",\n",
        "                     \"mayn't\": \"may not\",\"might've\": \"might have\",\"mightn't\": \"might not\", \n",
        "                     \"mightn't've\": \"might not have\",\"must've\": \"must have\",\"mustn't\": \"must not\",\n",
        "                     \"mustn't've\": \"must not have\", \"needn't\": \"need not\",\n",
        "                     \"needn't've\": \"need not have\",\"o'clock\": \"of the clock\",\"oughtn't\": \"ought not\",\n",
        "                     \"oughtn't've\": \"ought not have\",\"shan't\": \"shall not\",\"sha'n't\": \"shall not\",\n",
        "                     \"shan't've\": \"shall not have\",\"she'd\": \"she would\",\"she'd've\": \"she would have\",\n",
        "                     \"she'll\": \"she will\", \"she'll've\": \"she will have\",\"should've\": \"should have\",\n",
        "                     \"shouldn't\": \"should not\", \"shouldn't've\": \"should not have\",\"so've\": \"so have\",\n",
        "                     \"that'd\": \"that would\",\"that'd've\": \"that would have\", \"there'd\": \"there would\",\n",
        "                     \"there'd've\": \"there would have\", \"they'd\": \"they would\",\n",
        "                     \"they'd've\": \"they would have\",\"they'll\": \"they will\",\n",
        "                     \"they'll've\": \"they will have\", \"they're\": \"they are\",\"they've\": \"they have\",\n",
        "                     \"to've\": \"to have\",\"wasn't\": \"was not\",\"we'd\": \"we would\",\n",
        "                     \"we'd've\": \"we would have\",\"we'll\": \"we will\",\"we'll've\": \"we will have\",\n",
        "                     \"we're\": \"we are\",\"we've\": \"we have\", \"weren't\": \"were not\",\"what'll\": \"what will\",\n",
        "                     \"what'll've\": \"what will have\",\"what're\": \"what are\", \"what've\": \"what have\",\n",
        "                     \"when've\": \"when have\",\"where'd\": \"where did\", \"where've\": \"where have\",\n",
        "                     \"who'll\": \"who will\",\"who'll've\": \"who will have\",\"who've\": \"who have\",\n",
        "                     \"why've\": \"why have\",\"will've\": \"will have\",\"won't\": \"will not\",\n",
        "                     \"won't've\": \"will not have\", \"would've\": \"would have\",\"wouldn't\": \"would not\",\n",
        "                     \"wouldn't've\": \"would not have\",\"y'all\": \"you all\", \"y'all'd\": \"you all would\",\n",
        "                     \"y'all'd've\": \"you all would have\",\"y'all're\": \"you all are\",\n",
        "                     \"y'all've\": \"you all have\", \"you'd\": \"you would\",\"you'd've\": \"you would have\",\n",
        "                     \"you'll\": \"you will\",\"you'll've\": \"you will have\", \"you're\": \"you are\",\n",
        "                     \"you've\": \"you have\"}\n",
        "\n",
        "    contractions_re=re.compile('(%s)' % '|'.join(contractions_dict.keys()))\n",
        "    def replace(match):\n",
        "        return contractions_dict[match.group(0)]\n",
        "    \n",
        "    return contractions_re.sub(replace, sentence)\n",
        "\n",
        "def filter_stopwords(text, lang='en'):\n",
        "    ### Stopword removal using the nltk way ###\n",
        "    if(lang == 'en') : \n",
        "        language = 'english'\n",
        "    elif(lang == 'fr'):\n",
        "        language = 'french'\n",
        "        \n",
        "    stop_words = set(stopwords.words(language)) # Assuming all nltk data is installed\n",
        "    lemmatizer = WordNetLemmatizer()\n",
        "    \n",
        "    word_tokens = word_tokenize(text)\n",
        "    filtered = [lemmatizer.lemmatize(w) for w in word_tokens if not w in stop_words]\n",
        "    \n",
        "    filtered_sentence = ' '.join(filtered)\n",
        "    return filtered_sentence\n",
        "\n",
        "def preprocess_sentence(sentence, lang='en'):\n",
        "    # 1. expand contraction for english\n",
        "    if(lang == 'en'):\n",
        "        sentence = en_contraction_expand(sentence)\n",
        "    \n",
        "    # 2. lowercasing text\n",
        "    sentence = sentence.strip().lower()\n",
        "    \n",
        "    # 3. Digits removal\n",
        "    sentence = re.sub('\\w*\\d\\w*','', sentence)\n",
        "\n",
        "    # 4. Punctuations removal\n",
        "    sentence = re.sub('[%s]' % re.escape(string.punctuation), '', sentence)\n",
        "    \n",
        "    # 5. Extra spaces removal\n",
        "    sentence = re.sub(' +',' ', sentence)\n",
        "    \n",
        "    # 5. filter stopwords \n",
        "    # sentence = filter_stopwords(sentence, lang=lang)\n",
        "    \n",
        "    return sentence\n",
        "    \n",
        "def load_data(filename, lang=\"en\"):\n",
        "    start = time.time()\n",
        "    lines = open(filename, 'r').readlines()\n",
        "    \n",
        "    if(lang == \"en\"):\n",
        "        lines = [preprocess_sentence(x, lang=lang) for x in lines]\n",
        "    elif(lang == \"fr\"):\n",
        "        lines = [preprocess_sentence(x, lang=lang) for x in lines]\n",
        "        \n",
        "    lines = np.array(lines)\n",
        "    end = time.time()\n",
        "    \n",
        "    print(f'[INFO] Took {end - start} seconds to load {filename}')\n",
        "    return lines\n",
        "\n",
        "data_en = load_data(\"/content/drive/My Drive/en_vocab_small.txt\")\n",
        "data_fr = load_data(\"/content/drive/My Drive/fr_vocab_small.txt\", lang=\"fr\")"
      ],
      "execution_count": 5,
      "outputs": [
        {
          "output_type": "stream",
          "text": [
            "[INFO] Took 5.898597717285156 seconds to load /content/drive/My Drive/en_vocab_small.txt\n",
            "[INFO] Took 3.0017664432525635 seconds to load /content/drive/My Drive/fr_vocab_small.txt\n"
          ],
          "name": "stdout"
        }
      ]
    },
    {
      "cell_type": "code",
      "metadata": {
        "colab": {
          "base_uri": "https://localhost:8080/"
        },
        "id": "tvGsx4lN4Dec",
        "outputId": "1af8d5a1-0ca2-4a2a-a7f7-a0bc444f202b"
      },
      "source": [
        "### 2. Vectorize text data for model training ###\n",
        "print('[INFO] Tokenizing english data ...')\n",
        "en_tokenizer = Tokenizer(char_level=False, oov_token=\"PAD\") # 0 is a reserved index\n",
        "en_tokenizer.fit_on_texts(data_en)\n",
        "data_en_seq = en_tokenizer.texts_to_sequences(data_en)\n",
        "\n",
        "print('[INFO] Tokenizing french data ...')\n",
        "fr_tokenizer = Tokenizer(char_level=False, oov_token=\"PAD\")\n",
        "fr_tokenizer.fit_on_texts(data_fr)\n",
        "data_fr_seq = fr_tokenizer.texts_to_sequences(data_fr)\n",
        "\n",
        "print(data_en_seq[0])"
      ],
      "execution_count": 6,
      "outputs": [
        {
          "output_type": "stream",
          "text": [
            "[INFO] Tokenizing english data ...\n",
            "[INFO] Tokenizing french data ...\n",
            "[18, 24, 2, 9, 68, 5, 40, 8, 4, 2, 56, 3, 45]\n"
          ],
          "name": "stdout"
        }
      ]
    },
    {
      "cell_type": "code",
      "metadata": {
        "colab": {
          "base_uri": "https://localhost:8080/"
        },
        "id": "Z3Akp2dr4Deg",
        "outputId": "82175a1f-2cbb-44da-a2f8-4e48927080fa"
      },
      "source": [
        "### Sequence padding ###\n",
        "def pad(x, length=None):\n",
        "    if length is None:\n",
        "        length = max([len(sentence) for sentence in x])\n",
        "    return pad_sequences(x, maxlen = length, padding = 'post')\n",
        "\n",
        "print('[INFO] Padding sequence for french data ...')\n",
        "data_fr_seq = pad(data_fr_seq)\n",
        "\n",
        "print('[INFO] Padding sequence for english data ...')\n",
        "data_en_seq = pad(data_en_seq, length=data_fr_seq.shape[-1])\n",
        "\n",
        "fr_vocab_size = np.max(data_fr_seq) + 1\n",
        "en_vocab_size = np.max(data_en_seq) + 1\n",
        "print('----------------------------------------------')\n",
        "print(f'[INFO] Max english sentence length : {data_en_seq.shape[-1]}')\n",
        "print(f'[INFO] Max french sentence length : {data_fr_seq.shape[-1]}')\n",
        "print(f'[INFO] French vocab size : {fr_vocab_size}')\n",
        "print(f'[INFO] English vocab size : {en_vocab_size}')"
      ],
      "execution_count": 7,
      "outputs": [
        {
          "output_type": "stream",
          "text": [
            "[INFO] Padding sequence for french data ...\n",
            "[INFO] Padding sequence for english data ...\n",
            "----------------------------------------------\n",
            "[INFO] Max english sentence length : 21\n",
            "[INFO] Max french sentence length : 21\n",
            "[INFO] French vocab size : 346\n",
            "[INFO] English vocab size : 198\n"
          ],
          "name": "stdout"
        }
      ]
    },
    {
      "cell_type": "code",
      "metadata": {
        "id": "WMiw8-N54Den",
        "colab": {
          "base_uri": "https://localhost:8080/"
        },
        "outputId": "2b0b631b-f02a-4222-a35d-8d3931787c1e"
      },
      "source": [
        "### Test inverse transform from index to words ###\n",
        "print(en_tokenizer.sequences_to_texts([data_en_seq[0]]))\n",
        "print(data_en_seq[0])"
      ],
      "execution_count": 8,
      "outputs": [
        {
          "output_type": "stream",
          "text": [
            "['new jersey is sometimes quiet during autumn and it is snowy in april PAD PAD PAD PAD PAD PAD PAD PAD']\n",
            "[18 24  2  9 68  5 40  8  4  2 56  3 45  0  0  0  0  0  0  0  0]\n"
          ],
          "name": "stdout"
        }
      ]
    },
    {
      "cell_type": "markdown",
      "metadata": {
        "id": "9LFOoI104Deq"
      },
      "source": [
        "# Building model"
      ]
    },
    {
      "cell_type": "markdown",
      "metadata": {
        "id": "fngoIyVJ4Des"
      },
      "source": [
        "## 1. Basic RNN model"
      ]
    },
    {
      "cell_type": "code",
      "metadata": {
        "colab": {
          "base_uri": "https://localhost:8080/"
        },
        "id": "04iCRB2j4Deu",
        "outputId": "f654d322-bb22-47cb-e9ba-e344fe3741b4"
      },
      "source": [
        "data_en_seq = data_en_seq.reshape(-1, data_en_seq.shape[1], 1)\n",
        "def make_rnn_model(input_shape, output_length, fr_vocab_size):\n",
        "    inputs = Input(shape=input_shape[1:])\n",
        "    rnn = GRU(64, return_sequences = True)(inputs)\n",
        "    \n",
        "    # same size as the vocab so we have one hot vector of all words\n",
        "    logits = TimeDistributed(Dense(fr_vocab_size))(rnn)\n",
        "    output = Activation('softmax')(logits)\n",
        "    model = Model(inputs=inputs, outputs=output, name='Basic_RNN')\n",
        "    model.compile(optimizer='adam',\n",
        "                 loss='sparse_categorical_crossentropy',\n",
        "                 metrics=['accuracy'])\n",
        "    \n",
        "    return model\n",
        "\n",
        "model = make_rnn_model(data_en_seq.shape, data_fr_seq.shape[-1], fr_vocab_size)\n",
        "print(model.summary())"
      ],
      "execution_count": 10,
      "outputs": [
        {
          "output_type": "stream",
          "text": [
            "Model: \"Basic_RNN\"\n",
            "_________________________________________________________________\n",
            "Layer (type)                 Output Shape              Param #   \n",
            "=================================================================\n",
            "input_2 (InputLayer)         [(None, 21, 1)]           0         \n",
            "_________________________________________________________________\n",
            "gru_1 (GRU)                  (None, 21, 64)            12864     \n",
            "_________________________________________________________________\n",
            "time_distributed (TimeDistri (None, 21, 346)           22490     \n",
            "_________________________________________________________________\n",
            "activation (Activation)      (None, 21, 346)           0         \n",
            "=================================================================\n",
            "Total params: 35,354\n",
            "Trainable params: 35,354\n",
            "Non-trainable params: 0\n",
            "_________________________________________________________________\n",
            "None\n"
          ],
          "name": "stdout"
        }
      ]
    },
    {
      "cell_type": "code",
      "metadata": {
        "colab": {
          "base_uri": "https://localhost:8080/"
        },
        "id": "SHQzUie44Dez",
        "outputId": "80a3ee78-1220-46a3-feeb-7b7070686c0a"
      },
      "source": [
        "history = model.fit(data_en_seq, data_fr_seq, batch_size=1024, epochs=20, validation_split=0.2)"
      ],
      "execution_count": 18,
      "outputs": [
        {
          "output_type": "stream",
          "text": [
            "Epoch 1/20\n",
            "108/108 [==============================] - 3s 15ms/step - loss: 4.3951 - accuracy: 0.3670 - val_loss: 2.5496 - val_accuracy: 0.4721\n",
            "Epoch 2/20\n",
            "108/108 [==============================] - 1s 11ms/step - loss: 2.4991 - accuracy: 0.4729 - val_loss: 2.3253 - val_accuracy: 0.4926\n",
            "Epoch 3/20\n",
            "108/108 [==============================] - 1s 11ms/step - loss: 2.2665 - accuracy: 0.4951 - val_loss: 2.0921 - val_accuracy: 0.5207\n",
            "Epoch 4/20\n",
            "108/108 [==============================] - 1s 11ms/step - loss: 2.0357 - accuracy: 0.5332 - val_loss: 1.8840 - val_accuracy: 0.5583\n",
            "Epoch 5/20\n",
            "108/108 [==============================] - 1s 11ms/step - loss: 1.8547 - accuracy: 0.5608 - val_loss: 1.7670 - val_accuracy: 0.5666\n",
            "Epoch 6/20\n",
            "108/108 [==============================] - 1s 11ms/step - loss: 1.7488 - accuracy: 0.5665 - val_loss: 1.6884 - val_accuracy: 0.5697\n",
            "Epoch 7/20\n",
            "108/108 [==============================] - 1s 11ms/step - loss: 1.6718 - accuracy: 0.5695 - val_loss: 1.6248 - val_accuracy: 0.5735\n",
            "Epoch 8/20\n",
            "108/108 [==============================] - 1s 11ms/step - loss: 1.6150 - accuracy: 0.5760 - val_loss: 1.5716 - val_accuracy: 0.5888\n",
            "Epoch 9/20\n",
            "108/108 [==============================] - 1s 11ms/step - loss: 1.5600 - accuracy: 0.5869 - val_loss: 1.5265 - val_accuracy: 0.5935\n",
            "Epoch 10/20\n",
            "108/108 [==============================] - 1s 11ms/step - loss: 1.5159 - accuracy: 0.5965 - val_loss: 1.4867 - val_accuracy: 0.6010\n",
            "Epoch 11/20\n",
            "108/108 [==============================] - 1s 11ms/step - loss: 1.4793 - accuracy: 0.6031 - val_loss: 1.4500 - val_accuracy: 0.6133\n",
            "Epoch 12/20\n",
            "108/108 [==============================] - 1s 11ms/step - loss: 1.4448 - accuracy: 0.6124 - val_loss: 1.4194 - val_accuracy: 0.6219\n",
            "Epoch 13/20\n",
            "108/108 [==============================] - 1s 11ms/step - loss: 1.4148 - accuracy: 0.6187 - val_loss: 1.3933 - val_accuracy: 0.6228\n",
            "Epoch 14/20\n",
            "108/108 [==============================] - 1s 11ms/step - loss: 1.3888 - accuracy: 0.6240 - val_loss: 1.3695 - val_accuracy: 0.6279\n",
            "Epoch 15/20\n",
            "108/108 [==============================] - 1s 11ms/step - loss: 1.3667 - accuracy: 0.6288 - val_loss: 1.3483 - val_accuracy: 0.6329\n",
            "Epoch 16/20\n",
            "108/108 [==============================] - 1s 11ms/step - loss: 1.3447 - accuracy: 0.6327 - val_loss: 1.3255 - val_accuracy: 0.6370\n",
            "Epoch 17/20\n",
            "108/108 [==============================] - 1s 11ms/step - loss: 1.3213 - accuracy: 0.6376 - val_loss: 1.3050 - val_accuracy: 0.6396\n",
            "Epoch 18/20\n",
            "108/108 [==============================] - 1s 11ms/step - loss: 1.3019 - accuracy: 0.6396 - val_loss: 1.2873 - val_accuracy: 0.6405\n",
            "Epoch 19/20\n",
            "108/108 [==============================] - 1s 11ms/step - loss: 1.2855 - accuracy: 0.6425 - val_loss: 1.2695 - val_accuracy: 0.6448\n",
            "Epoch 20/20\n",
            "108/108 [==============================] - 1s 11ms/step - loss: 1.2656 - accuracy: 0.6456 - val_loss: 1.2530 - val_accuracy: 0.6479\n"
          ],
          "name": "stdout"
        }
      ]
    },
    {
      "cell_type": "code",
      "metadata": {
        "colab": {
          "base_uri": "https://localhost:8080/",
          "height": 320
        },
        "id": "mDf45FCy4De5",
        "outputId": "483cd678-8687-416c-f265-a7b9c32687f2"
      },
      "source": [
        "train_loss = model.history.history['loss']\n",
        "val_loss = model.history.history['val_loss']\n",
        "\n",
        "train_acc = model.history.history['accuracy']\n",
        "val_acc = model.history.history['val_accuracy']\n",
        "\n",
        "fig, ax = plt.subplots(1,2, figsize=(15, 5))\n",
        "\n",
        "ax[0].plot(train_loss, label='Train Loss', color='blue')\n",
        "ax[0].plot(val_loss, label='Validation Loss', color='orange')\n",
        "\n",
        "ax[1].plot(train_acc, label='Train Accuracy', color='blue')\n",
        "ax[1].plot(val_acc, label='Validation Accuracy', color='orange')\n",
        "plt.legend()\n",
        "plt.show()"
      ],
      "execution_count": 19,
      "outputs": [
        {
          "output_type": "display_data",
          "data": {
            "image/png": "[encoded data removed]",
            "text/plain": [
              "<Figure size 1080x360 with 2 Axes>"
            ]
          },
          "metadata": {
            "tags": [],
            "needs_background": "light"
          }
        }
      ]
    },
    {
      "cell_type": "code",
      "metadata": {
        "colab": {
          "base_uri": "https://localhost:8080/"
        },
        "id": "HMhuWUM04De7",
        "outputId": "78b19c84-45a8-4576-d33d-6457f3c4d77c"
      },
      "source": [
        "### Testing predictions ###\n",
        "predictions = model.predict(data_en_seq[0:200])\n",
        "print(np.argmax(predictions, axis=-1)[0])"
      ],
      "execution_count": 20,
      "outputs": [
        {
          "output_type": "stream",
          "text": [
            "[35 34  2  9  9  3 12  7  4  2  2  3  3  0  0  0  0  0  0  0  0]\n"
          ],
          "name": "stdout"
        }
      ]
    },
    {
      "cell_type": "code",
      "metadata": {
        "colab": {
          "base_uri": "https://localhost:8080/"
        },
        "id": "1v96YHU04De9",
        "outputId": "157c1cf3-50dc-4469-e417-078377ccedee"
      },
      "source": [
        "predicted_text = fr_tokenizer.sequences_to_texts([np.argmax(predictions, axis=-1)[0]])[0]\n",
        "predicted_text = predicted_text.replace(\"PAD\", \"\").strip()\n",
        "print(predicted_text)"
      ],
      "execution_count": 21,
      "outputs": [
        {
          "output_type": "execute_result",
          "data": {
            "text/plain": [
              "['new jersey est parfois parfois en l et il est est en en PAD PAD PAD PAD PAD PAD PAD PAD']"
            ]
          },
          "metadata": {
            "tags": []
          },
          "execution_count": 21
        }
      ]
    },
    {
      "cell_type": "markdown",
      "metadata": {
        "id": "Bh36Nnk9Y0ej"
      },
      "source": [
        "## 2. Basic RNN + Word embedding"
      ]
    },
    {
      "cell_type": "code",
      "metadata": {
        "id": "8cRHtK3n4De-",
        "colab": {
          "base_uri": "https://localhost:8080/"
        },
        "outputId": "27cceec4-5f1a-4653-ec21-fe5988a0b090"
      },
      "source": [
        "def make_rnn_with_embedding(input_shape, fr_vocab_size):\n",
        "  # Embedding layer can only be used as the first layer\n",
        "  inputs = Input(shape=input_shape[1:])\n",
        "  embs   = Embedding(fr_vocab_size, 64, input_length=input_shape[1])(inputs)\n",
        "  embs   = Reshape(target_shape=(input_shape[1], 64))(embs)\n",
        "\n",
        "  rnn = GRU(64, return_sequences = True)(embs)\n",
        "    \n",
        "  # same size as the vocab so we have one hot vector of all words\n",
        "  logits = TimeDistributed(Dense(fr_vocab_size))(rnn)\n",
        "  output = Activation('softmax')(logits)\n",
        "  model = Model(inputs=inputs, outputs=output, name='Basic_RNN')\n",
        "  model.compile(optimizer='adam',\n",
        "                loss='sparse_categorical_crossentropy',\n",
        "                metrics=['accuracy'])\n",
        "    \n",
        "  return model\n",
        "\n",
        "model = make_rnn_with_embedding(data_en_seq.shape, fr_vocab_size)\n",
        "print(model.summary())"
      ],
      "execution_count": 22,
      "outputs": [
        {
          "output_type": "stream",
          "text": [
            "Model: \"Basic_RNN\"\n",
            "_________________________________________________________________\n",
            "Layer (type)                 Output Shape              Param #   \n",
            "=================================================================\n",
            "input_3 (InputLayer)         [(None, 21, 1)]           0         \n",
            "_________________________________________________________________\n",
            "embedding (Embedding)        (None, 21, 1, 64)         22144     \n",
            "_________________________________________________________________\n",
            "reshape (Reshape)            (None, 21, 64)            0         \n",
            "_________________________________________________________________\n",
            "gru_2 (GRU)                  (None, 21, 64)            24960     \n",
            "_________________________________________________________________\n",
            "time_distributed_2 (TimeDist (None, 21, 346)           22490     \n",
            "_________________________________________________________________\n",
            "activation_2 (Activation)    (None, 21, 346)           0         \n",
            "=================================================================\n",
            "Total params: 69,594\n",
            "Trainable params: 69,594\n",
            "Non-trainable params: 0\n",
            "_________________________________________________________________\n",
            "None\n"
          ],
          "name": "stdout"
        }
      ]
    },
    {
      "cell_type": "code",
      "metadata": {
        "colab": {
          "base_uri": "https://localhost:8080/"
        },
        "id": "5_ZaU8hnyjQJ",
        "outputId": "9a0e21c1-1084-4ea8-cb75-510034cd362e"
      },
      "source": [
        "history = model.fit(data_en_seq, data_fr_seq, batch_size=1024, epochs=20, validation_split=0.2)"
      ],
      "execution_count": 23,
      "outputs": [
        {
          "output_type": "stream",
          "text": [
            "Epoch 1/20\n",
            "108/108 [==============================] - 3s 19ms/step - loss: 4.6424 - accuracy: 0.3779 - val_loss: 2.9659 - val_accuracy: 0.4130\n",
            "Epoch 2/20\n",
            "108/108 [==============================] - 2s 14ms/step - loss: 2.8340 - accuracy: 0.4298 - val_loss: 2.3648 - val_accuracy: 0.5162\n",
            "Epoch 3/20\n",
            "108/108 [==============================] - 2s 14ms/step - loss: 2.2018 - accuracy: 0.5319 - val_loss: 1.7569 - val_accuracy: 0.6005\n",
            "Epoch 4/20\n",
            "108/108 [==============================] - 2s 14ms/step - loss: 1.6505 - accuracy: 0.6098 - val_loss: 1.3668 - val_accuracy: 0.6606\n",
            "Epoch 5/20\n",
            "108/108 [==============================] - 2s 14ms/step - loss: 1.3008 - accuracy: 0.6800 - val_loss: 1.1196 - val_accuracy: 0.7244\n",
            "Epoch 6/20\n",
            "108/108 [==============================] - 2s 14ms/step - loss: 1.0750 - accuracy: 0.7338 - val_loss: 0.9567 - val_accuracy: 0.7575\n",
            "Epoch 7/20\n",
            "108/108 [==============================] - 2s 14ms/step - loss: 0.9269 - accuracy: 0.7631 - val_loss: 0.8381 - val_accuracy: 0.7810\n",
            "Epoch 8/20\n",
            "108/108 [==============================] - 2s 14ms/step - loss: 0.8149 - accuracy: 0.7853 - val_loss: 0.7473 - val_accuracy: 0.7989\n",
            "Epoch 9/20\n",
            "108/108 [==============================] - 2s 14ms/step - loss: 0.7333 - accuracy: 0.8012 - val_loss: 0.6810 - val_accuracy: 0.8130\n",
            "Epoch 10/20\n",
            "108/108 [==============================] - 2s 14ms/step - loss: 0.6696 - accuracy: 0.8154 - val_loss: 0.6259 - val_accuracy: 0.8242\n",
            "Epoch 11/20\n",
            "108/108 [==============================] - 2s 14ms/step - loss: 0.6175 - accuracy: 0.8267 - val_loss: 0.5828 - val_accuracy: 0.8339\n",
            "Epoch 12/20\n",
            "108/108 [==============================] - 2s 14ms/step - loss: 0.5788 - accuracy: 0.8351 - val_loss: 0.5557 - val_accuracy: 0.8397\n",
            "Epoch 13/20\n",
            "108/108 [==============================] - 2s 14ms/step - loss: 0.5456 - accuracy: 0.8432 - val_loss: 0.5202 - val_accuracy: 0.8504\n",
            "Epoch 14/20\n",
            "108/108 [==============================] - 2s 14ms/step - loss: 0.5162 - accuracy: 0.8512 - val_loss: 0.4993 - val_accuracy: 0.8557\n",
            "Epoch 15/20\n",
            "108/108 [==============================] - 2s 14ms/step - loss: 0.4915 - accuracy: 0.8574 - val_loss: 0.4737 - val_accuracy: 0.8625\n",
            "Epoch 16/20\n",
            "108/108 [==============================] - 2s 14ms/step - loss: 0.4708 - accuracy: 0.8629 - val_loss: 0.4543 - val_accuracy: 0.8675\n",
            "Epoch 17/20\n",
            "108/108 [==============================] - 2s 14ms/step - loss: 0.4521 - accuracy: 0.8674 - val_loss: 0.4380 - val_accuracy: 0.8716\n",
            "Epoch 18/20\n",
            "108/108 [==============================] - 2s 14ms/step - loss: 0.4339 - accuracy: 0.8726 - val_loss: 0.4259 - val_accuracy: 0.8743\n",
            "Epoch 19/20\n",
            "108/108 [==============================] - 2s 14ms/step - loss: 0.4216 - accuracy: 0.8753 - val_loss: 0.4100 - val_accuracy: 0.8792\n",
            "Epoch 20/20\n",
            "108/108 [==============================] - 2s 14ms/step - loss: 0.4094 - accuracy: 0.8783 - val_loss: 0.3992 - val_accuracy: 0.8822\n"
          ],
          "name": "stdout"
        }
      ]
    },
    {
      "cell_type": "code",
      "metadata": {
        "colab": {
          "base_uri": "https://localhost:8080/",
          "height": 321
        },
        "id": "YZT0caEq0aG0",
        "outputId": "3113a2e6-fa1b-40e2-f269-194ce587e32f"
      },
      "source": [
        "train_loss = model.history.history['loss']\n",
        "val_loss = model.history.history['val_loss']\n",
        "\n",
        "train_acc = model.history.history['accuracy']\n",
        "val_acc = model.history.history['val_accuracy']\n",
        "\n",
        "fig, ax = plt.subplots(1,2, figsize=(15, 5))\n",
        "\n",
        "ax[0].plot(train_loss, label='Train Loss', color='blue')\n",
        "ax[0].plot(val_loss, label='Validation Loss', color='orange')\n",
        "\n",
        "ax[1].plot(train_acc, label='Train Accuracy', color='blue')\n",
        "ax[1].plot(val_acc, label='Validation Accuracy', color='orange')\n",
        "plt.legend()\n",
        "plt.show()"
      ],
      "execution_count": 24,
      "outputs": [
        {
          "output_type": "display_data",
          "data": {
            "image/png": "[encoded data removed]",
            "text/plain": [
              "<Figure size 1080x360 with 2 Axes>"
            ]
          },
          "metadata": {
            "tags": [],
            "needs_background": "light"
          }
        }
      ]
    },
    {
      "cell_type": "code",
      "metadata": {
        "colab": {
          "base_uri": "https://localhost:8080/"
        },
        "id": "Oh26s-TD0uE_",
        "outputId": "7d4f89a9-3ea7-489b-bbaa-e0049da5806f"
      },
      "source": [
        "### Testing predictions ###\n",
        "predictions = model.predict(data_en_seq[0:200])\n",
        "print(np.argmax(predictions, axis=-1)[0])"
      ],
      "execution_count": 25,
      "outputs": [
        {
          "output_type": "stream",
          "text": [
            "[ 35  34   2   9  67   3  12   7   4   2 112 112   3  50   0   0   0   0\n",
            "   0   0   0]\n"
          ],
          "name": "stdout"
        }
      ]
    },
    {
      "cell_type": "code",
      "metadata": {
        "colab": {
          "base_uri": "https://localhost:8080/"
        },
        "id": "YMT-WBgF0yfe",
        "outputId": "5fed775b-9871-47e4-a050-09816682b942"
      },
      "source": [
        "predicted_text = fr_tokenizer.sequences_to_texts([np.argmax(predictions, axis=-1)[0]])[0]\n",
        "predicted_text = predicted_text.replace(\"PAD\", \"\").strip()\n",
        "print(predicted_text)"
      ],
      "execution_count": 27,
      "outputs": [
        {
          "output_type": "stream",
          "text": [
            "new jersey est parfois calme en l et il est neigeux neigeux en avril\n"
          ],
          "name": "stdout"
        }
      ]
    },
    {
      "cell_type": "markdown",
      "metadata": {
        "id": "h08RIrKbliB8"
      },
      "source": [
        "## 3. Bidirectional RNN"
      ]
    },
    {
      "cell_type": "code",
      "metadata": {
        "id": "M-HIISA1009W",
        "colab": {
          "base_uri": "https://localhost:8080/"
        },
        "outputId": "9348b604-d34e-4eed-a339-e8b51f1f99ec"
      },
      "source": [
        " def make_bidirectional_rnn(input_shape, fr_vocab_size):\n",
        "  # Embedding layer can only be used as the first layer\n",
        "  inputs = Input(shape=input_shape[1:])\n",
        "  embs   = Embedding(fr_vocab_size, 128, input_length=input_shape[1])(inputs)\n",
        "  embs   = Reshape(target_shape=(input_shape[1], 128))(embs)\n",
        "\n",
        "  rnn = Bidirectional(LSTM(64, return_sequences = True))(embs) # better without dropout\n",
        "    \n",
        "  # same size as the vocab so we have one hot vector of all words\n",
        "  logits = TimeDistributed(Dense(fr_vocab_size))(rnn)\n",
        "  output = Activation('softmax')(logits)\n",
        "  model = Model(inputs=inputs, outputs=output, name='Basic_RNN')\n",
        "  model.compile(optimizer='adam',\n",
        "                loss='sparse_categorical_crossentropy',\n",
        "                metrics=['accuracy'])\n",
        "    \n",
        "  return model\n",
        "\n",
        "model = make_bidirectional_rnn(data_en_seq.shape, fr_vocab_size)\n",
        "print(model.summary())"
      ],
      "execution_count": 22,
      "outputs": [
        {
          "output_type": "stream",
          "text": [
            "Model: \"Basic_RNN\"\n",
            "_________________________________________________________________\n",
            "Layer (type)                 Output Shape              Param #   \n",
            "=================================================================\n",
            "input_7 (InputLayer)         [(None, 21, 1)]           0         \n",
            "_________________________________________________________________\n",
            "embedding_1 (Embedding)      (None, 21, 1, 128)        44288     \n",
            "_________________________________________________________________\n",
            "reshape (Reshape)            (None, 21, 128)           0         \n",
            "_________________________________________________________________\n",
            "bidirectional_4 (Bidirection (None, 21, 128)           98816     \n",
            "_________________________________________________________________\n",
            "time_distributed_4 (TimeDist (None, 21, 346)           44634     \n",
            "_________________________________________________________________\n",
            "activation_4 (Activation)    (None, 21, 346)           0         \n",
            "=================================================================\n",
            "Total params: 187,738\n",
            "Trainable params: 187,738\n",
            "Non-trainable params: 0\n",
            "_________________________________________________________________\n",
            "None\n"
          ],
          "name": "stdout"
        }
      ]
    },
    {
      "cell_type": "code",
      "metadata": {
        "colab": {
          "base_uri": "https://localhost:8080/"
        },
        "id": "Se4vUip2qYlh",
        "outputId": "3d19bc62-c18b-4838-cf84-d6349e897eac"
      },
      "source": [
        "history = model.fit(data_en_seq, data_fr_seq, batch_size=1024, epochs=20, validation_split=0.2)"
      ],
      "execution_count": 23,
      "outputs": [
        {
          "output_type": "stream",
          "text": [
            "Epoch 1/20\n",
            "108/108 [==============================] - 6s 29ms/step - loss: 4.2799 - accuracy: 0.3898 - val_loss: 2.4614 - val_accuracy: 0.4964\n",
            "Epoch 2/20\n",
            "108/108 [==============================] - 2s 22ms/step - loss: 2.3195 - accuracy: 0.5032 - val_loss: 1.9376 - val_accuracy: 0.5424\n",
            "Epoch 3/20\n",
            "108/108 [==============================] - 2s 22ms/step - loss: 1.8222 - accuracy: 0.5613 - val_loss: 1.4952 - val_accuracy: 0.6237\n",
            "Epoch 4/20\n",
            "108/108 [==============================] - 2s 22ms/step - loss: 1.4046 - accuracy: 0.6429 - val_loss: 1.1544 - val_accuracy: 0.7047\n",
            "Epoch 5/20\n",
            "108/108 [==============================] - 2s 22ms/step - loss: 1.0921 - accuracy: 0.7202 - val_loss: 0.9212 - val_accuracy: 0.7570\n",
            "Epoch 6/20\n",
            "108/108 [==============================] - 2s 23ms/step - loss: 0.8833 - accuracy: 0.7638 - val_loss: 0.7827 - val_accuracy: 0.7826\n",
            "Epoch 7/20\n",
            "108/108 [==============================] - 2s 22ms/step - loss: 0.7571 - accuracy: 0.7890 - val_loss: 0.6838 - val_accuracy: 0.8073\n",
            "Epoch 8/20\n",
            "108/108 [==============================] - 2s 23ms/step - loss: 0.6675 - accuracy: 0.8105 - val_loss: 0.6141 - val_accuracy: 0.8252\n",
            "Epoch 9/20\n",
            "108/108 [==============================] - 2s 22ms/step - loss: 0.5989 - accuracy: 0.8297 - val_loss: 0.5557 - val_accuracy: 0.8410\n",
            "Epoch 10/20\n",
            "108/108 [==============================] - 2s 22ms/step - loss: 0.5475 - accuracy: 0.8427 - val_loss: 0.5113 - val_accuracy: 0.8524\n",
            "Epoch 11/20\n",
            "108/108 [==============================] - 2s 23ms/step - loss: 0.4992 - accuracy: 0.8562 - val_loss: 0.4728 - val_accuracy: 0.8636\n",
            "Epoch 12/20\n",
            "108/108 [==============================] - 2s 23ms/step - loss: 0.4669 - accuracy: 0.8648 - val_loss: 0.4408 - val_accuracy: 0.8722\n",
            "Epoch 13/20\n",
            "108/108 [==============================] - 2s 23ms/step - loss: 0.4354 - accuracy: 0.8735 - val_loss: 0.4136 - val_accuracy: 0.8803\n",
            "Epoch 14/20\n",
            "108/108 [==============================] - 2s 23ms/step - loss: 0.4055 - accuracy: 0.8820 - val_loss: 0.3929 - val_accuracy: 0.8847\n",
            "Epoch 15/20\n",
            "108/108 [==============================] - 2s 23ms/step - loss: 0.3836 - accuracy: 0.8878 - val_loss: 0.3694 - val_accuracy: 0.8925\n",
            "Epoch 16/20\n",
            "108/108 [==============================] - 2s 22ms/step - loss: 0.3625 - accuracy: 0.8942 - val_loss: 0.3537 - val_accuracy: 0.8966\n",
            "Epoch 17/20\n",
            "108/108 [==============================] - 2s 22ms/step - loss: 0.3449 - accuracy: 0.8999 - val_loss: 0.3324 - val_accuracy: 0.9041\n",
            "Epoch 18/20\n",
            "108/108 [==============================] - 2s 22ms/step - loss: 0.3270 - accuracy: 0.9054 - val_loss: 0.3195 - val_accuracy: 0.9083\n",
            "Epoch 19/20\n",
            "108/108 [==============================] - 2s 22ms/step - loss: 0.3114 - accuracy: 0.9107 - val_loss: 0.3034 - val_accuracy: 0.9136\n",
            "Epoch 20/20\n",
            "108/108 [==============================] - 2s 22ms/step - loss: 0.2970 - accuracy: 0.9152 - val_loss: 0.2935 - val_accuracy: 0.9162\n"
          ],
          "name": "stdout"
        }
      ]
    },
    {
      "cell_type": "code",
      "metadata": {
        "colab": {
          "base_uri": "https://localhost:8080/",
          "height": 320
        },
        "id": "82uAZn_0rA1c",
        "outputId": "345dac5a-15b8-4569-b723-fd0ac196ae53"
      },
      "source": [
        "train_loss = model.history.history['loss']\n",
        "val_loss = model.history.history['val_loss']\n",
        "\n",
        "train_acc = model.history.history['accuracy']\n",
        "val_acc = model.history.history['val_accuracy']\n",
        "\n",
        "fig, ax = plt.subplots(1,2, figsize=(15, 5))\n",
        "\n",
        "ax[0].plot(train_loss, label='Train Loss', color='blue')\n",
        "ax[0].plot(val_loss, label='Validation Loss', color='orange')\n",
        "\n",
        "ax[1].plot(train_acc, label='Train Accuracy', color='blue')\n",
        "ax[1].plot(val_acc, label='Validation Accuracy', color='orange')\n",
        "plt.legend()\n",
        "plt.show()"
      ],
      "execution_count": 24,
      "outputs": [
        {
          "output_type": "display_data",
          "data": {
            "image/png": "[encoded data removed]",
            "text/plain": [
              "<Figure size 1080x360 with 2 Axes>"
            ]
          },
          "metadata": {
            "tags": [],
            "needs_background": "light"
          }
        }
      ]
    },
    {
      "cell_type": "code",
      "metadata": {
        "colab": {
          "base_uri": "https://localhost:8080/"
        },
        "id": "KJuaKkqIrRl2",
        "outputId": "64b987d4-a5da-45fd-868d-b34cdaf0e80d"
      },
      "source": [
        "### Testing predictions ###\n",
        "predictions = model.predict(data_en_seq[0:200])\n",
        "print(np.argmax(predictions, axis=-1)[0])"
      ],
      "execution_count": 25,
      "outputs": [
        {
          "output_type": "stream",
          "text": [
            "[ 35  34   2   9  67  16 111   7   4   4   2   3   3  50   0   0   0   0\n",
            "   0   0   0]\n"
          ],
          "name": "stdout"
        }
      ]
    },
    {
      "cell_type": "code",
      "metadata": {
        "colab": {
          "base_uri": "https://localhost:8080/"
        },
        "id": "QIiOw6Motq-U",
        "outputId": "8f1ef640-25d3-477d-fab0-5af4bf8dab11"
      },
      "source": [
        "predicted_text = fr_tokenizer.sequences_to_texts([np.argmax(predictions, axis=-1)[0]])[0]\n",
        "predicted_text = predicted_text.replace(\"PAD\", \"\").strip()\n",
        "print(predicted_text)"
      ],
      "execution_count": 26,
      "outputs": [
        {
          "output_type": "stream",
          "text": [
            "new jersey est parfois calme au cours et il il est en en avril\n"
          ],
          "name": "stdout"
        }
      ]
    },
    {
      "cell_type": "markdown",
      "metadata": {
        "id": "PsLYKNO9txB-"
      },
      "source": [
        "## 4. Encoder-Decoder architecture"
      ]
    },
    {
      "cell_type": "code",
      "metadata": {
        "id": "2no8oYP5ts7w"
      },
      "source": [
        ""
      ],
      "execution_count": null,
      "outputs": []
    }
  ]
}