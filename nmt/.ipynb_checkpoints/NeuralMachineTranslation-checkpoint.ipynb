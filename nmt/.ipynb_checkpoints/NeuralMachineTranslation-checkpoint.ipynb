{
 "cells": [
  {
   "cell_type": "markdown",
   "metadata": {
    "id": "8wv72IzT4DeD"
   },
   "source": [
    "# Importing libraries"
   ]
  },
  {
   "cell_type": "code",
   "execution_count": 6,
   "metadata": {
    "colab": {
     "base_uri": "https://localhost:8080/"
    },
    "id": "AOrEFgVT4GYn",
    "outputId": "f7b46179-5557-4344-9254-da6d2ac0d6eb"
   },
   "outputs": [],
   "source": [
    "#from google.colab import drive\n",
    "#drive.mount(\"/content/drive\", force_remount=True)\n",
    "#!ls '/content/drive/My Drive/'"
   ]
  },
  {
   "cell_type": "code",
   "execution_count": 7,
   "metadata": {
    "id": "_rZEpEKR4DeL"
   },
   "outputs": [],
   "source": [
    "import os\n",
    "import re\n",
    "import time\n",
    "import string\n",
    "import spacy\n",
    "import numpy as np\n",
    "import tensorflow as tf\n",
    "import matplotlib.pyplot as plt\n",
    "\n",
    "### NLTK dependencies ###\n",
    "from nltk.corpus import stopwords  \n",
    "from nltk.tokenize import word_tokenize\n",
    "from nltk.stem import WordNetLemmatizer\n",
    "\n",
    "### Tensorflow dependencies ###\n",
    "from tensorflow.keras.layers import *\n",
    "from tensorflow.keras.models import Model\n",
    "from tensorflow.keras.optimizers import Adam\n",
    "from tensorflow.keras import backend as K\n",
    "from tensorflow.keras.preprocessing.text import Tokenizer\n",
    "from tensorflow.keras.preprocessing.sequence import pad_sequences\n",
    "\n",
    "BASE_DIR = \"./\" # \"/content/drive/My Drive/\"\n",
    "WEIGHTS_DIR = os.path.join(BASE_DIR, \"weights\")\n",
    "MODELS_DIR = os.path.join(BASE_DIR, \"models\")\n",
    "RNN_MODEL_NAME = \"rnn_model\"\n",
    "RNN_EMB_MODEL_NAME = \"rnn_with_embedding_model\"\n",
    "BI_RNN_MODEL_NAME = \"birnn_with_embedding_model\""
   ]
  },
  {
   "cell_type": "markdown",
   "metadata": {
    "id": "edJhLdeo4DeQ"
   },
   "source": [
    "# Loading and preprocessing data"
   ]
  },
  {
   "cell_type": "code",
   "execution_count": 8,
   "metadata": {
    "colab": {
     "base_uri": "https://localhost:8080/"
    },
    "id": "GHNkIumE4DeU",
    "outputId": "b5169291-c3c0-43be-f9e1-3fe10467a4d2"
   },
   "outputs": [
    {
     "name": "stdout",
     "output_type": "stream",
     "text": [
      "[INFO] Took 6.696289539337158 seconds to load ../data/en_vocab_small.txt\n",
      "[INFO] Took 3.200779676437378 seconds to load ../data/fr_vocab_small.txt\n"
     ]
    }
   ],
   "source": [
    "### 1. Loading data from files and preprocessing ###\n",
    "def en_contraction_expand(sentence):\n",
    "    # Dictionary of English Contractions\n",
    "    contractions_dict = { \"ain't\": \"are not\",\"'s\":\" is\",\"aren't\": \"are not\",\n",
    "                     \"can't\": \"cannot\",\"can't've\": \"cannot have\",\n",
    "                     \"'cause\": \"because\",\"could've\": \"could have\",\"couldn't\": \"could not\",\n",
    "                     \"couldn't've\": \"could not have\", \"didn't\": \"did not\",\"doesn't\": \"does not\",\n",
    "                     \"don't\": \"do not\",\"hadn't\": \"had not\",\"hadn't've\": \"had not have\",\n",
    "                     \"hasn't\": \"has not\",\"haven't\": \"have not\",\"he'd\": \"he would\",\n",
    "                     \"he'd've\": \"he would have\",\"he'll\": \"he will\", \"he'll've\": \"he will have\",\n",
    "                     \"how'd\": \"how did\",\"how'd'y\": \"how do you\",\"how'll\": \"how will\",\n",
    "                     \"I'd\": \"I would\", \"I'd've\": \"I would have\",\"I'll\": \"I will\",\n",
    "                     \"I'll've\": \"I will have\",\"I'm\": \"I am\",\"I've\": \"I have\", \"isn't\": \"is not\",\n",
    "                     \"it'd\": \"it would\",\"it'd've\": \"it would have\",\"it'll\": \"it will\",\n",
    "                     \"it'll've\": \"it will have\", \"let's\": \"let us\",\"ma'am\": \"madam\",\n",
    "                     \"mayn't\": \"may not\",\"might've\": \"might have\",\"mightn't\": \"might not\", \n",
    "                     \"mightn't've\": \"might not have\",\"must've\": \"must have\",\"mustn't\": \"must not\",\n",
    "                     \"mustn't've\": \"must not have\", \"needn't\": \"need not\",\n",
    "                     \"needn't've\": \"need not have\",\"o'clock\": \"of the clock\",\"oughtn't\": \"ought not\",\n",
    "                     \"oughtn't've\": \"ought not have\",\"shan't\": \"shall not\",\"sha'n't\": \"shall not\",\n",
    "                     \"shan't've\": \"shall not have\",\"she'd\": \"she would\",\"she'd've\": \"she would have\",\n",
    "                     \"she'll\": \"she will\", \"she'll've\": \"she will have\",\"should've\": \"should have\",\n",
    "                     \"shouldn't\": \"should not\", \"shouldn't've\": \"should not have\",\"so've\": \"so have\",\n",
    "                     \"that'd\": \"that would\",\"that'd've\": \"that would have\", \"there'd\": \"there would\",\n",
    "                     \"there'd've\": \"there would have\", \"they'd\": \"they would\",\n",
    "                     \"they'd've\": \"they would have\",\"they'll\": \"they will\",\n",
    "                     \"they'll've\": \"they will have\", \"they're\": \"they are\",\"they've\": \"they have\",\n",
    "                     \"to've\": \"to have\",\"wasn't\": \"was not\",\"we'd\": \"we would\",\n",
    "                     \"we'd've\": \"we would have\",\"we'll\": \"we will\",\"we'll've\": \"we will have\",\n",
    "                     \"we're\": \"we are\",\"we've\": \"we have\", \"weren't\": \"were not\",\"what'll\": \"what will\",\n",
    "                     \"what'll've\": \"what will have\",\"what're\": \"what are\", \"what've\": \"what have\",\n",
    "                     \"when've\": \"when have\",\"where'd\": \"where did\", \"where've\": \"where have\",\n",
    "                     \"who'll\": \"who will\",\"who'll've\": \"who will have\",\"who've\": \"who have\",\n",
    "                     \"why've\": \"why have\",\"will've\": \"will have\",\"won't\": \"will not\",\n",
    "                     \"won't've\": \"will not have\", \"would've\": \"would have\",\"wouldn't\": \"would not\",\n",
    "                     \"wouldn't've\": \"would not have\",\"y'all\": \"you all\", \"y'all'd\": \"you all would\",\n",
    "                     \"y'all'd've\": \"you all would have\",\"y'all're\": \"you all are\",\n",
    "                     \"y'all've\": \"you all have\", \"you'd\": \"you would\",\"you'd've\": \"you would have\",\n",
    "                     \"you'll\": \"you will\",\"you'll've\": \"you will have\", \"you're\": \"you are\",\n",
    "                     \"you've\": \"you have\"}\n",
    "\n",
    "    contractions_re=re.compile('(%s)' % '|'.join(contractions_dict.keys()))\n",
    "    def replace(match):\n",
    "        return contractions_dict[match.group(0)]\n",
    "    \n",
    "    return contractions_re.sub(replace, sentence)\n",
    "\n",
    "def filter_stopwords(text, lang='en'):\n",
    "    ### Stopword removal using the nltk way ###\n",
    "    if(lang == 'en') : \n",
    "        language = 'english'\n",
    "    elif(lang == 'fr'):\n",
    "        language = 'french'\n",
    "        \n",
    "    stop_words = set(stopwords.words(language)) # Assuming all nltk data is installed\n",
    "    lemmatizer = WordNetLemmatizer()\n",
    "    \n",
    "    word_tokens = word_tokenize(text)\n",
    "    filtered = [lemmatizer.lemmatize(w) for w in word_tokens if not w in stop_words]\n",
    "    \n",
    "    filtered_sentence = ' '.join(filtered)\n",
    "    return filtered_sentence\n",
    "\n",
    "def preprocess_sentence(sentence, lang='en'):\n",
    "    # 1. expand contraction for english\n",
    "    if(lang == 'en'):\n",
    "        sentence = en_contraction_expand(sentence)\n",
    "    \n",
    "    # 2. lowercasing text\n",
    "    sentence = sentence.strip().lower()\n",
    "    \n",
    "    # 3. Digits removal\n",
    "    sentence = re.sub('\\w*\\d\\w*','', sentence)\n",
    "\n",
    "    # 4. Punctuations removal\n",
    "    sentence = re.sub('[%s]' % re.escape(string.punctuation), '', sentence)\n",
    "    \n",
    "    # 5. Extra spaces removal\n",
    "    sentence = re.sub(' +',' ', sentence)\n",
    "    \n",
    "    # 5. filter stopwords \n",
    "    # sentence = filter_stopwords(sentence, lang=lang)\n",
    "    \n",
    "    return sentence\n",
    "    \n",
    "def load_data(filename, lang=\"en\"):\n",
    "    start = time.time()\n",
    "    lines = open(filename, 'r').readlines()\n",
    "    \n",
    "    if(lang == \"en\"):\n",
    "        lines = [preprocess_sentence(x, lang=lang) for x in lines]\n",
    "    elif(lang == \"fr\"):\n",
    "        lines = [preprocess_sentence(x, lang=lang) for x in lines]\n",
    "        \n",
    "    lines = np.array(lines)\n",
    "    end = time.time()\n",
    "    \n",
    "    print(f'[INFO] Took {end - start} seconds to load {filename}')\n",
    "    return lines\n",
    "\n",
    "# data_en = load_data(\"/content/drive/My Drive/en_vocab_small.txt\")\n",
    "# data_fr = load_data(\"/content/drive/My Drive/fr_vocab_small.txt\", lang=\"fr\")\n",
    "data_en = load_data(\"../data/en_vocab_small.txt\")\n",
    "data_fr = load_data(\"../data/fr_vocab_small.txt\", lang=\"fr\")"
   ]
  },
  {
   "cell_type": "code",
   "execution_count": 9,
   "metadata": {
    "colab": {
     "base_uri": "https://localhost:8080/"
    },
    "id": "tvGsx4lN4Dec",
    "outputId": "1af8d5a1-0ca2-4a2a-a7f7-a0bc444f202b"
   },
   "outputs": [
    {
     "name": "stdout",
     "output_type": "stream",
     "text": [
      "[INFO] Tokenizing english data ...\n",
      "[INFO] Tokenizing french data ...\n",
      "[18, 24, 2, 9, 68, 5, 40, 8, 4, 2, 56, 3, 45]\n"
     ]
    }
   ],
   "source": [
    "### 2. Vectorize text data for model training ###\n",
    "print('[INFO] Tokenizing english data ...')\n",
    "en_tokenizer = Tokenizer(char_level=False, oov_token=\"PAD\") # 0 is a reserved index\n",
    "en_tokenizer.fit_on_texts(data_en)\n",
    "data_en_seq = en_tokenizer.texts_to_sequences(data_en)\n",
    "\n",
    "print('[INFO] Tokenizing french data ...')\n",
    "fr_tokenizer = Tokenizer(char_level=False, oov_token=\"PAD\")\n",
    "fr_tokenizer.fit_on_texts(data_fr)\n",
    "data_fr_seq = fr_tokenizer.texts_to_sequences(data_fr)\n",
    "\n",
    "print(data_en_seq[0])"
   ]
  },
  {
   "cell_type": "code",
   "execution_count": 10,
   "metadata": {
    "colab": {
     "base_uri": "https://localhost:8080/"
    },
    "id": "Z3Akp2dr4Deg",
    "outputId": "82175a1f-2cbb-44da-a2f8-4e48927080fa"
   },
   "outputs": [
    {
     "name": "stdout",
     "output_type": "stream",
     "text": [
      "[INFO] Padding sequence for french data ...\n",
      "[INFO] Padding sequence for english data ...\n",
      "----------------------------------------------\n",
      "[INFO] Max english sentence length : 21\n",
      "[INFO] Max french sentence length : 21\n",
      "[INFO] French vocab size : 346\n",
      "[INFO] English vocab size : 198\n"
     ]
    }
   ],
   "source": [
    "### Sequence padding ###\n",
    "def pad(x, length=None):\n",
    "    if length is None:\n",
    "        length = max([len(sentence) for sentence in x])\n",
    "    return pad_sequences(x, maxlen = length, padding = 'post')\n",
    "\n",
    "print('[INFO] Padding sequence for french data ...')\n",
    "data_fr_seq = pad(data_fr_seq)\n",
    "\n",
    "print('[INFO] Padding sequence for english data ...')\n",
    "data_en_seq = pad(data_en_seq, length=data_fr_seq.shape[-1])\n",
    "\n",
    "fr_vocab_size = np.max(data_fr_seq) + 1\n",
    "en_vocab_size = np.max(data_en_seq) + 1\n",
    "print('----------------------------------------------')\n",
    "print(f'[INFO] Max english sentence length : {data_en_seq.shape[-1]}')\n",
    "print(f'[INFO] Max french sentence length : {data_fr_seq.shape[-1]}')\n",
    "print(f'[INFO] French vocab size : {fr_vocab_size}')\n",
    "print(f'[INFO] English vocab size : {en_vocab_size}')"
   ]
  },
  {
   "cell_type": "code",
   "execution_count": 11,
   "metadata": {
    "colab": {
     "base_uri": "https://localhost:8080/"
    },
    "id": "WMiw8-N54Den",
    "outputId": "2b0b631b-f02a-4222-a35d-8d3931787c1e"
   },
   "outputs": [
    {
     "name": "stdout",
     "output_type": "stream",
     "text": [
      "['new jersey is sometimes quiet during autumn and it is snowy in april PAD PAD PAD PAD PAD PAD PAD PAD']\n",
      "[18 24  2  9 68  5 40  8  4  2 56  3 45  0  0  0  0  0  0  0  0]\n"
     ]
    }
   ],
   "source": [
    "### Test inverse transform from index to words ###\n",
    "print(en_tokenizer.sequences_to_texts([data_en_seq[0]]))\n",
    "print(data_en_seq[0])"
   ]
  },
  {
   "cell_type": "markdown",
   "metadata": {
    "id": "9LFOoI104Deq"
   },
   "source": [
    "# Building model"
   ]
  },
  {
   "cell_type": "markdown",
   "metadata": {
    "id": "fngoIyVJ4Des"
   },
   "source": [
    "## 1. Basic RNN model"
   ]
  },
  {
   "cell_type": "code",
   "execution_count": 12,
   "metadata": {
    "colab": {
     "base_uri": "https://localhost:8080/"
    },
    "id": "04iCRB2j4Deu",
    "outputId": "f654d322-bb22-47cb-e9ba-e344fe3741b4"
   },
   "outputs": [
    {
     "name": "stdout",
     "output_type": "stream",
     "text": [
      "Model: \"rnn_model\"\n",
      "_________________________________________________________________\n",
      "Layer (type)                 Output Shape              Param #   \n",
      "=================================================================\n",
      "input_1 (InputLayer)         [(None, 21, 1)]           0         \n",
      "_________________________________________________________________\n",
      "gru (GRU)                    (None, 21, 64)            12864     \n",
      "_________________________________________________________________\n",
      "time_distributed (TimeDistri (None, 21, 346)           22490     \n",
      "_________________________________________________________________\n",
      "activation (Activation)      (None, 21, 346)           0         \n",
      "=================================================================\n",
      "Total params: 35,354\n",
      "Trainable params: 35,354\n",
      "Non-trainable params: 0\n",
      "_________________________________________________________________\n",
      "None\n",
      "[INFO] Saving model architecture to \"./models/rnn_model.h5\"\n"
     ]
    }
   ],
   "source": [
    "data_en_seq = data_en_seq.reshape(-1, data_en_seq.shape[1], 1)\n",
    "def make_rnn_model(input_shape, output_length, fr_vocab_size):\n",
    "    inputs = Input(shape=input_shape[1:])\n",
    "    rnn = GRU(64, return_sequences = True)(inputs)\n",
    "    \n",
    "    # same size as the vocab so we have one hot vector of all words\n",
    "    logits = TimeDistributed(Dense(fr_vocab_size))(rnn)\n",
    "    output = Activation('softmax')(logits)\n",
    "    model = Model(inputs=inputs, outputs=output, name=RNN_MODEL_NAME)\n",
    "    model.compile(optimizer='adam',\n",
    "                 loss='sparse_categorical_crossentropy',\n",
    "                 metrics=['accuracy'])\n",
    "    \n",
    "    return model\n",
    "\n",
    "model = make_rnn_model(data_en_seq.shape, data_fr_seq.shape[-1], fr_vocab_size)\n",
    "print(model.summary())\n",
    "\n",
    "print(f'[INFO] Saving model architecture to \"{MODELS_DIR}/{RNN_MODEL_NAME}.h5\"')\n",
    "model.save(f\"{MODELS_DIR}/{RNN_MODEL_NAME}.h5\")"
   ]
  },
  {
   "cell_type": "code",
   "execution_count": 13,
   "metadata": {
    "colab": {
     "base_uri": "https://localhost:8080/"
    },
    "id": "SHQzUie44Dez",
    "outputId": "80a3ee78-1220-46a3-feeb-7b7070686c0a"
   },
   "outputs": [
    {
     "name": "stdout",
     "output_type": "stream",
     "text": [
      "Epoch 1/20\n",
      "108/108 [==============================] - 40s 372ms/step - loss: 3.4439 - accuracy: 0.4271 - val_loss: 2.5374 - val_accuracy: 0.4668\n",
      "Epoch 2/20\n",
      "108/108 [==============================] - 40s 371ms/step - loss: 2.4417 - accuracy: 0.4717 - val_loss: 2.3365 - val_accuracy: 0.4792\n",
      "Epoch 3/20\n",
      "108/108 [==============================] - 39s 364ms/step - loss: 2.2293 - accuracy: 0.5015 - val_loss: 2.1096 - val_accuracy: 0.5277\n",
      "Epoch 4/20\n",
      "108/108 [==============================] - 42s 387ms/step - loss: 2.0041 - accuracy: 0.5431 - val_loss: 1.9058 - val_accuracy: 0.5566\n",
      "Epoch 5/20\n",
      "108/108 [==============================] - 37s 341ms/step - loss: 1.8435 - accuracy: 0.5606 - val_loss: 1.7870 - val_accuracy: 0.5647\n",
      "Epoch 6/20\n",
      "108/108 [==============================] - 31s 288ms/step - loss: 1.7503 - accuracy: 0.5657 - val_loss: 1.7116 - val_accuracy: 0.5701\n",
      "Epoch 7/20\n",
      "108/108 [==============================] - 35s 321ms/step - loss: 1.6848 - accuracy: 0.5712 - val_loss: 1.6549 - val_accuracy: 0.5745\n",
      "Epoch 8/20\n",
      "108/108 [==============================] - 42s 390ms/step - loss: 1.6327 - accuracy: 0.5762 - val_loss: 1.6061 - val_accuracy: 0.5802\n",
      "Epoch 9/20\n",
      "108/108 [==============================] - 42s 385ms/step - loss: 1.5847 - accuracy: 0.5833 - val_loss: 1.5589 - val_accuracy: 0.5894\n",
      "Epoch 10/20\n",
      "108/108 [==============================] - 42s 389ms/step - loss: 1.5382 - accuracy: 0.5938 - val_loss: 1.5139 - val_accuracy: 0.5989\n",
      "Epoch 11/20\n",
      "108/108 [==============================] - 42s 385ms/step - loss: 1.4959 - accuracy: 0.6010 - val_loss: 1.4750 - val_accuracy: 0.6045\n",
      "Epoch 12/20\n",
      "108/108 [==============================] - 41s 383ms/step - loss: 1.4594 - accuracy: 0.6073 - val_loss: 1.4403 - val_accuracy: 0.6094\n",
      "Epoch 13/20\n",
      "108/108 [==============================] - 41s 380ms/step - loss: 1.4257 - accuracy: 0.6150 - val_loss: 1.4080 - val_accuracy: 0.6166\n",
      "Epoch 14/20\n",
      "108/108 [==============================] - 42s 388ms/step - loss: 1.3962 - accuracy: 0.6204 - val_loss: 1.3805 - val_accuracy: 0.6245\n",
      "Epoch 15/20\n",
      "108/108 [==============================] - 39s 359ms/step - loss: 1.3700 - accuracy: 0.6257 - val_loss: 1.3553 - val_accuracy: 0.6269\n",
      "Epoch 16/20\n",
      "108/108 [==============================] - 38s 348ms/step - loss: 1.3463 - accuracy: 0.6287 - val_loss: 1.3332 - val_accuracy: 0.6287\n",
      "Epoch 17/20\n",
      "108/108 [==============================] - 36s 336ms/step - loss: 1.3247 - accuracy: 0.6309 - val_loss: 1.3126 - val_accuracy: 0.6305\n",
      "Epoch 18/20\n",
      "108/108 [==============================] - 38s 352ms/step - loss: 1.3054 - accuracy: 0.6328 - val_loss: 1.2943 - val_accuracy: 0.6325\n",
      "Epoch 19/20\n",
      "108/108 [==============================] - 37s 347ms/step - loss: 1.2881 - accuracy: 0.6341 - val_loss: 1.2771 - val_accuracy: 0.6350\n",
      "Epoch 20/20\n",
      "108/108 [==============================] - 38s 348ms/step - loss: 1.2730 - accuracy: 0.6356 - val_loss: 1.2633 - val_accuracy: 0.6367\n"
     ]
    }
   ],
   "source": [
    "history = model.fit(data_en_seq, data_fr_seq, batch_size=1024, epochs=20, validation_split=0.2)\n",
    "print(f\"[INFO] Saving model weights to {WEIGHTS_DIR}/{RNN_MODEL_NAME}.weights.hdf5\")"
   ]
  },
  {
   "cell_type": "code",
   "execution_count": 14,
   "metadata": {
    "colab": {
     "base_uri": "https://localhost:8080/",
     "height": 320
    },
    "id": "mDf45FCy4De5",
    "outputId": "483cd678-8687-416c-f265-a7b9c32687f2"
   },
   "outputs": [
    {
     "data": {
      "image/png": "[encoded data removed]",
      "text/plain": [
       "<Figure size 1080x360 with 2 Axes>"
      ]
     },
     "metadata": {
      "needs_background": "light"
     },
     "output_type": "display_data"
    }
   ],
   "source": [
    "train_loss = model.history.history['loss']\n",
    "val_loss = model.history.history['val_loss']\n",
    "\n",
    "train_acc = model.history.history['accuracy']\n",
    "val_acc = model.history.history['val_accuracy']\n",
    "\n",
    "fig, ax = plt.subplots(1,2, figsize=(15, 5))\n",
    "\n",
    "ax[0].plot(train_loss, label='Train Loss', color='blue')\n",
    "ax[0].plot(val_loss, label='Validation Loss', color='orange')\n",
    "\n",
    "ax[1].plot(train_acc, label='Train Accuracy', color='blue')\n",
    "ax[1].plot(val_acc, label='Validation Accuracy', color='orange')\n",
    "plt.legend()\n",
    "plt.show()"
   ]
  },
  {
   "cell_type": "code",
   "execution_count": 15,
   "metadata": {
    "colab": {
     "base_uri": "https://localhost:8080/"
    },
    "id": "HMhuWUM04De7",
    "outputId": "78b19c84-45a8-4576-d33d-6457f3c4d77c"
   },
   "outputs": [
    {
     "name": "stdout",
     "output_type": "stream",
     "text": [
      "[35 34  2  9  9  3  3  7  4  2  2  3  3  0  0  0  0  0  0  0  0]\n"
     ]
    }
   ],
   "source": [
    "### Testing predictions ###\n",
    "predictions = model.predict(data_en_seq[0:200])\n",
    "print(np.argmax(predictions, axis=-1)[0])"
   ]
  },
  {
   "cell_type": "code",
   "execution_count": 16,
   "metadata": {
    "colab": {
     "base_uri": "https://localhost:8080/"
    },
    "id": "1v96YHU04De9",
    "outputId": "157c1cf3-50dc-4469-e417-078377ccedee"
   },
   "outputs": [
    {
     "name": "stdout",
     "output_type": "stream",
     "text": [
      "new jersey est parfois parfois en en et il est est en en\n"
     ]
    }
   ],
   "source": [
    "predicted_text = fr_tokenizer.sequences_to_texts([np.argmax(predictions, axis=-1)[0]])[0]\n",
    "predicted_text = predicted_text.replace(\"PAD\", \"\").strip()\n",
    "print(predicted_text)"
   ]
  },
  {
   "cell_type": "markdown",
   "metadata": {
    "id": "Bh36Nnk9Y0ej"
   },
   "source": [
    "## 2. Basic RNN + Word embedding"
   ]
  },
  {
   "cell_type": "code",
   "execution_count": 17,
   "metadata": {
    "colab": {
     "base_uri": "https://localhost:8080/"
    },
    "id": "8cRHtK3n4De-",
    "outputId": "27cceec4-5f1a-4653-ec21-fe5988a0b090"
   },
   "outputs": [
    {
     "name": "stdout",
     "output_type": "stream",
     "text": [
      "Model: \"rnn_with_embedding_model\"\n",
      "_________________________________________________________________\n",
      "Layer (type)                 Output Shape              Param #   \n",
      "=================================================================\n",
      "input_2 (InputLayer)         [(None, 21, 1)]           0         \n",
      "_________________________________________________________________\n",
      "embedding (Embedding)        (None, 21, 1, 64)         22144     \n",
      "_________________________________________________________________\n",
      "reshape (Reshape)            (None, 21, 64)            0         \n",
      "_________________________________________________________________\n",
      "gru_1 (GRU)                  (None, 21, 64)            24960     \n",
      "_________________________________________________________________\n",
      "time_distributed_1 (TimeDist (None, 21, 346)           22490     \n",
      "_________________________________________________________________\n",
      "activation_1 (Activation)    (None, 21, 346)           0         \n",
      "=================================================================\n",
      "Total params: 69,594\n",
      "Trainable params: 69,594\n",
      "Non-trainable params: 0\n",
      "_________________________________________________________________\n",
      "None\n",
      "[INFO] Saving model architecture to \"./models/rnn_with_embedding_model.h5\"\n"
     ]
    }
   ],
   "source": [
    "def make_rnn_with_embedding(input_shape, fr_vocab_size):\n",
    "  # Embedding layer can only be used as the first layer\n",
    "  inputs = Input(shape=input_shape[1:])\n",
    "  embs   = Embedding(fr_vocab_size, 64, input_length=input_shape[1])(inputs)\n",
    "  embs   = Reshape(target_shape=(input_shape[1], 64))(embs)\n",
    "\n",
    "  rnn = GRU(64, return_sequences = True)(embs)\n",
    "    \n",
    "  # same size as the vocab so we have one hot vector of all words\n",
    "  logits = TimeDistributed(Dense(fr_vocab_size))(rnn)\n",
    "  output = Activation('softmax')(logits)\n",
    "  model = Model(inputs=inputs, outputs=output, name=RNN_EMB_MODEL_NAME)\n",
    "  model.compile(optimizer='adam',\n",
    "                loss='sparse_categorical_crossentropy',\n",
    "                metrics=['accuracy'])\n",
    "    \n",
    "  return model\n",
    "\n",
    "model = make_rnn_with_embedding(data_en_seq.shape, fr_vocab_size)\n",
    "print(model.summary())\n",
    "\n",
    "print(f'[INFO] Saving model architecture to \"{MODELS_DIR}/{RNN_EMB_MODEL_NAME}.h5\"')\n",
    "model.save(f\"{MODELS_DIR}/{RNN_EMB_MODEL_NAME}.h5\")"
   ]
  },
  {
   "cell_type": "code",
   "execution_count": 18,
   "metadata": {
    "colab": {
     "base_uri": "https://localhost:8080/"
    },
    "id": "5_ZaU8hnyjQJ",
    "outputId": "9a0e21c1-1084-4ea8-cb75-510034cd362e"
   },
   "outputs": [
    {
     "name": "stdout",
     "output_type": "stream",
     "text": [
      "Epoch 1/20\n",
      " 83/108 [======================>.......] - ETA: 8s - loss: 3.9553 - accuracy: 0.4031"
     ]
    },
    {
     "ename": "KeyboardInterrupt",
     "evalue": "",
     "output_type": "error",
     "traceback": [
      "\u001b[0;31m---------------------------------------------------------------------------\u001b[0m",
      "\u001b[0;31mKeyboardInterrupt\u001b[0m                         Traceback (most recent call last)",
      "\u001b[0;32m<ipython-input-18-612060a01a89>\u001b[0m in \u001b[0;36m<module>\u001b[0;34m\u001b[0m\n\u001b[0;32m----> 1\u001b[0;31m \u001b[0mhistory\u001b[0m \u001b[0;34m=\u001b[0m \u001b[0mmodel\u001b[0m\u001b[0;34m.\u001b[0m\u001b[0mfit\u001b[0m\u001b[0;34m(\u001b[0m\u001b[0mdata_en_seq\u001b[0m\u001b[0;34m,\u001b[0m \u001b[0mdata_fr_seq\u001b[0m\u001b[0;34m,\u001b[0m \u001b[0mbatch_size\u001b[0m\u001b[0;34m=\u001b[0m\u001b[0;36m1024\u001b[0m\u001b[0;34m,\u001b[0m \u001b[0mepochs\u001b[0m\u001b[0;34m=\u001b[0m\u001b[0;36m20\u001b[0m\u001b[0;34m,\u001b[0m \u001b[0mvalidation_split\u001b[0m\u001b[0;34m=\u001b[0m\u001b[0;36m0.2\u001b[0m\u001b[0;34m)\u001b[0m\u001b[0;34m\u001b[0m\u001b[0;34m\u001b[0m\u001b[0m\n\u001b[0m",
      "\u001b[0;32m/usr/local/lib/python3.8/dist-packages/tensorflow/python/keras/engine/training.py\u001b[0m in \u001b[0;36m_method_wrapper\u001b[0;34m(self, *args, **kwargs)\u001b[0m\n\u001b[1;32m    106\u001b[0m   \u001b[0;32mdef\u001b[0m \u001b[0m_method_wrapper\u001b[0m\u001b[0;34m(\u001b[0m\u001b[0mself\u001b[0m\u001b[0;34m,\u001b[0m \u001b[0;34m*\u001b[0m\u001b[0margs\u001b[0m\u001b[0;34m,\u001b[0m \u001b[0;34m**\u001b[0m\u001b[0mkwargs\u001b[0m\u001b[0;34m)\u001b[0m\u001b[0;34m:\u001b[0m\u001b[0;34m\u001b[0m\u001b[0;34m\u001b[0m\u001b[0m\n\u001b[1;32m    107\u001b[0m     \u001b[0;32mif\u001b[0m \u001b[0;32mnot\u001b[0m \u001b[0mself\u001b[0m\u001b[0;34m.\u001b[0m\u001b[0m_in_multi_worker_mode\u001b[0m\u001b[0;34m(\u001b[0m\u001b[0;34m)\u001b[0m\u001b[0;34m:\u001b[0m  \u001b[0;31m# pylint: disable=protected-access\u001b[0m\u001b[0;34m\u001b[0m\u001b[0;34m\u001b[0m\u001b[0m\n\u001b[0;32m--> 108\u001b[0;31m       \u001b[0;32mreturn\u001b[0m \u001b[0mmethod\u001b[0m\u001b[0;34m(\u001b[0m\u001b[0mself\u001b[0m\u001b[0;34m,\u001b[0m \u001b[0;34m*\u001b[0m\u001b[0margs\u001b[0m\u001b[0;34m,\u001b[0m \u001b[0;34m**\u001b[0m\u001b[0mkwargs\u001b[0m\u001b[0;34m)\u001b[0m\u001b[0;34m\u001b[0m\u001b[0;34m\u001b[0m\u001b[0m\n\u001b[0m\u001b[1;32m    109\u001b[0m \u001b[0;34m\u001b[0m\u001b[0m\n\u001b[1;32m    110\u001b[0m     \u001b[0;31m# Running inside `run_distribute_coordinator` already.\u001b[0m\u001b[0;34m\u001b[0m\u001b[0;34m\u001b[0m\u001b[0;34m\u001b[0m\u001b[0m\n",
      "\u001b[0;32m/usr/local/lib/python3.8/dist-packages/tensorflow/python/keras/engine/training.py\u001b[0m in \u001b[0;36mfit\u001b[0;34m(self, x, y, batch_size, epochs, verbose, callbacks, validation_split, validation_data, shuffle, class_weight, sample_weight, initial_epoch, steps_per_epoch, validation_steps, validation_batch_size, validation_freq, max_queue_size, workers, use_multiprocessing)\u001b[0m\n\u001b[1;32m   1096\u001b[0m                 batch_size=batch_size):\n\u001b[1;32m   1097\u001b[0m               \u001b[0mcallbacks\u001b[0m\u001b[0;34m.\u001b[0m\u001b[0mon_train_batch_begin\u001b[0m\u001b[0;34m(\u001b[0m\u001b[0mstep\u001b[0m\u001b[0;34m)\u001b[0m\u001b[0;34m\u001b[0m\u001b[0;34m\u001b[0m\u001b[0m\n\u001b[0;32m-> 1098\u001b[0;31m               \u001b[0mtmp_logs\u001b[0m \u001b[0;34m=\u001b[0m \u001b[0mtrain_function\u001b[0m\u001b[0;34m(\u001b[0m\u001b[0miterator\u001b[0m\u001b[0;34m)\u001b[0m\u001b[0;34m\u001b[0m\u001b[0;34m\u001b[0m\u001b[0m\n\u001b[0m\u001b[1;32m   1099\u001b[0m               \u001b[0;32mif\u001b[0m \u001b[0mdata_handler\u001b[0m\u001b[0;34m.\u001b[0m\u001b[0mshould_sync\u001b[0m\u001b[0;34m:\u001b[0m\u001b[0;34m\u001b[0m\u001b[0;34m\u001b[0m\u001b[0m\n\u001b[1;32m   1100\u001b[0m                 \u001b[0mcontext\u001b[0m\u001b[0;34m.\u001b[0m\u001b[0masync_wait\u001b[0m\u001b[0;34m(\u001b[0m\u001b[0;34m)\u001b[0m\u001b[0;34m\u001b[0m\u001b[0;34m\u001b[0m\u001b[0m\n",
      "\u001b[0;32m/usr/local/lib/python3.8/dist-packages/tensorflow/python/eager/def_function.py\u001b[0m in \u001b[0;36m__call__\u001b[0;34m(self, *args, **kwds)\u001b[0m\n\u001b[1;32m    778\u001b[0m       \u001b[0;32melse\u001b[0m\u001b[0;34m:\u001b[0m\u001b[0;34m\u001b[0m\u001b[0;34m\u001b[0m\u001b[0m\n\u001b[1;32m    779\u001b[0m         \u001b[0mcompiler\u001b[0m \u001b[0;34m=\u001b[0m \u001b[0;34m\"nonXla\"\u001b[0m\u001b[0;34m\u001b[0m\u001b[0;34m\u001b[0m\u001b[0m\n\u001b[0;32m--> 780\u001b[0;31m         \u001b[0mresult\u001b[0m \u001b[0;34m=\u001b[0m \u001b[0mself\u001b[0m\u001b[0;34m.\u001b[0m\u001b[0m_call\u001b[0m\u001b[0;34m(\u001b[0m\u001b[0;34m*\u001b[0m\u001b[0margs\u001b[0m\u001b[0;34m,\u001b[0m \u001b[0;34m**\u001b[0m\u001b[0mkwds\u001b[0m\u001b[0;34m)\u001b[0m\u001b[0;34m\u001b[0m\u001b[0;34m\u001b[0m\u001b[0m\n\u001b[0m\u001b[1;32m    781\u001b[0m \u001b[0;34m\u001b[0m\u001b[0m\n\u001b[1;32m    782\u001b[0m       \u001b[0mnew_tracing_count\u001b[0m \u001b[0;34m=\u001b[0m \u001b[0mself\u001b[0m\u001b[0;34m.\u001b[0m\u001b[0m_get_tracing_count\u001b[0m\u001b[0;34m(\u001b[0m\u001b[0;34m)\u001b[0m\u001b[0;34m\u001b[0m\u001b[0;34m\u001b[0m\u001b[0m\n",
      "\u001b[0;32m/usr/local/lib/python3.8/dist-packages/tensorflow/python/eager/def_function.py\u001b[0m in \u001b[0;36m_call\u001b[0;34m(self, *args, **kwds)\u001b[0m\n\u001b[1;32m    805\u001b[0m       \u001b[0;31m# In this case we have created variables on the first call, so we run the\u001b[0m\u001b[0;34m\u001b[0m\u001b[0;34m\u001b[0m\u001b[0;34m\u001b[0m\u001b[0m\n\u001b[1;32m    806\u001b[0m       \u001b[0;31m# defunned version which is guaranteed to never create variables.\u001b[0m\u001b[0;34m\u001b[0m\u001b[0;34m\u001b[0m\u001b[0;34m\u001b[0m\u001b[0m\n\u001b[0;32m--> 807\u001b[0;31m       \u001b[0;32mreturn\u001b[0m \u001b[0mself\u001b[0m\u001b[0;34m.\u001b[0m\u001b[0m_stateless_fn\u001b[0m\u001b[0;34m(\u001b[0m\u001b[0;34m*\u001b[0m\u001b[0margs\u001b[0m\u001b[0;34m,\u001b[0m \u001b[0;34m**\u001b[0m\u001b[0mkwds\u001b[0m\u001b[0;34m)\u001b[0m  \u001b[0;31m# pylint: disable=not-callable\u001b[0m\u001b[0;34m\u001b[0m\u001b[0;34m\u001b[0m\u001b[0m\n\u001b[0m\u001b[1;32m    808\u001b[0m     \u001b[0;32melif\u001b[0m \u001b[0mself\u001b[0m\u001b[0;34m.\u001b[0m\u001b[0m_stateful_fn\u001b[0m \u001b[0;32mis\u001b[0m \u001b[0;32mnot\u001b[0m \u001b[0;32mNone\u001b[0m\u001b[0;34m:\u001b[0m\u001b[0;34m\u001b[0m\u001b[0;34m\u001b[0m\u001b[0m\n\u001b[1;32m    809\u001b[0m       \u001b[0;31m# Release the lock early so that multiple threads can perform the call\u001b[0m\u001b[0;34m\u001b[0m\u001b[0;34m\u001b[0m\u001b[0;34m\u001b[0m\u001b[0m\n",
      "\u001b[0;32m/usr/local/lib/python3.8/dist-packages/tensorflow/python/eager/function.py\u001b[0m in \u001b[0;36m__call__\u001b[0;34m(self, *args, **kwargs)\u001b[0m\n\u001b[1;32m   2827\u001b[0m     \u001b[0;32mwith\u001b[0m \u001b[0mself\u001b[0m\u001b[0;34m.\u001b[0m\u001b[0m_lock\u001b[0m\u001b[0;34m:\u001b[0m\u001b[0;34m\u001b[0m\u001b[0;34m\u001b[0m\u001b[0m\n\u001b[1;32m   2828\u001b[0m       \u001b[0mgraph_function\u001b[0m\u001b[0;34m,\u001b[0m \u001b[0margs\u001b[0m\u001b[0;34m,\u001b[0m \u001b[0mkwargs\u001b[0m \u001b[0;34m=\u001b[0m \u001b[0mself\u001b[0m\u001b[0;34m.\u001b[0m\u001b[0m_maybe_define_function\u001b[0m\u001b[0;34m(\u001b[0m\u001b[0margs\u001b[0m\u001b[0;34m,\u001b[0m \u001b[0mkwargs\u001b[0m\u001b[0;34m)\u001b[0m\u001b[0;34m\u001b[0m\u001b[0;34m\u001b[0m\u001b[0m\n\u001b[0;32m-> 2829\u001b[0;31m     \u001b[0;32mreturn\u001b[0m \u001b[0mgraph_function\u001b[0m\u001b[0;34m.\u001b[0m\u001b[0m_filtered_call\u001b[0m\u001b[0;34m(\u001b[0m\u001b[0margs\u001b[0m\u001b[0;34m,\u001b[0m \u001b[0mkwargs\u001b[0m\u001b[0;34m)\u001b[0m  \u001b[0;31m# pylint: disable=protected-access\u001b[0m\u001b[0;34m\u001b[0m\u001b[0;34m\u001b[0m\u001b[0m\n\u001b[0m\u001b[1;32m   2830\u001b[0m \u001b[0;34m\u001b[0m\u001b[0m\n\u001b[1;32m   2831\u001b[0m   \u001b[0;34m@\u001b[0m\u001b[0mproperty\u001b[0m\u001b[0;34m\u001b[0m\u001b[0;34m\u001b[0m\u001b[0m\n",
      "\u001b[0;32m/usr/local/lib/python3.8/dist-packages/tensorflow/python/eager/function.py\u001b[0m in \u001b[0;36m_filtered_call\u001b[0;34m(self, args, kwargs, cancellation_manager)\u001b[0m\n\u001b[1;32m   1841\u001b[0m       \u001b[0;31m`\u001b[0m\u001b[0margs\u001b[0m\u001b[0;31m`\u001b[0m \u001b[0;32mand\u001b[0m\u001b[0;31m \u001b[0m\u001b[0;31m`\u001b[0m\u001b[0mkwargs\u001b[0m\u001b[0;31m`\u001b[0m\u001b[0;34m.\u001b[0m\u001b[0;34m\u001b[0m\u001b[0;34m\u001b[0m\u001b[0m\n\u001b[1;32m   1842\u001b[0m     \"\"\"\n\u001b[0;32m-> 1843\u001b[0;31m     return self._call_flat(\n\u001b[0m\u001b[1;32m   1844\u001b[0m         [t for t in nest.flatten((args, kwargs), expand_composites=True)\n\u001b[1;32m   1845\u001b[0m          if isinstance(t, (ops.Tensor,\n",
      "\u001b[0;32m/usr/local/lib/python3.8/dist-packages/tensorflow/python/eager/function.py\u001b[0m in \u001b[0;36m_call_flat\u001b[0;34m(self, args, captured_inputs, cancellation_manager)\u001b[0m\n\u001b[1;32m   1921\u001b[0m         and executing_eagerly):\n\u001b[1;32m   1922\u001b[0m       \u001b[0;31m# No tape is watching; skip to running the function.\u001b[0m\u001b[0;34m\u001b[0m\u001b[0;34m\u001b[0m\u001b[0;34m\u001b[0m\u001b[0m\n\u001b[0;32m-> 1923\u001b[0;31m       return self._build_call_outputs(self._inference_function.call(\n\u001b[0m\u001b[1;32m   1924\u001b[0m           ctx, args, cancellation_manager=cancellation_manager))\n\u001b[1;32m   1925\u001b[0m     forward_backward = self._select_forward_and_backward_functions(\n",
      "\u001b[0;32m/usr/local/lib/python3.8/dist-packages/tensorflow/python/eager/function.py\u001b[0m in \u001b[0;36mcall\u001b[0;34m(self, ctx, args, cancellation_manager)\u001b[0m\n\u001b[1;32m    543\u001b[0m       \u001b[0;32mwith\u001b[0m \u001b[0m_InterpolateFunctionError\u001b[0m\u001b[0;34m(\u001b[0m\u001b[0mself\u001b[0m\u001b[0;34m)\u001b[0m\u001b[0;34m:\u001b[0m\u001b[0;34m\u001b[0m\u001b[0;34m\u001b[0m\u001b[0m\n\u001b[1;32m    544\u001b[0m         \u001b[0;32mif\u001b[0m \u001b[0mcancellation_manager\u001b[0m \u001b[0;32mis\u001b[0m \u001b[0;32mNone\u001b[0m\u001b[0;34m:\u001b[0m\u001b[0;34m\u001b[0m\u001b[0;34m\u001b[0m\u001b[0m\n\u001b[0;32m--> 545\u001b[0;31m           outputs = execute.execute(\n\u001b[0m\u001b[1;32m    546\u001b[0m               \u001b[0mstr\u001b[0m\u001b[0;34m(\u001b[0m\u001b[0mself\u001b[0m\u001b[0;34m.\u001b[0m\u001b[0msignature\u001b[0m\u001b[0;34m.\u001b[0m\u001b[0mname\u001b[0m\u001b[0;34m)\u001b[0m\u001b[0;34m,\u001b[0m\u001b[0;34m\u001b[0m\u001b[0;34m\u001b[0m\u001b[0m\n\u001b[1;32m    547\u001b[0m               \u001b[0mnum_outputs\u001b[0m\u001b[0;34m=\u001b[0m\u001b[0mself\u001b[0m\u001b[0;34m.\u001b[0m\u001b[0m_num_outputs\u001b[0m\u001b[0;34m,\u001b[0m\u001b[0;34m\u001b[0m\u001b[0;34m\u001b[0m\u001b[0m\n",
      "\u001b[0;32m/usr/local/lib/python3.8/dist-packages/tensorflow/python/eager/execute.py\u001b[0m in \u001b[0;36mquick_execute\u001b[0;34m(op_name, num_outputs, inputs, attrs, ctx, name)\u001b[0m\n\u001b[1;32m     57\u001b[0m   \u001b[0;32mtry\u001b[0m\u001b[0;34m:\u001b[0m\u001b[0;34m\u001b[0m\u001b[0;34m\u001b[0m\u001b[0m\n\u001b[1;32m     58\u001b[0m     \u001b[0mctx\u001b[0m\u001b[0;34m.\u001b[0m\u001b[0mensure_initialized\u001b[0m\u001b[0;34m(\u001b[0m\u001b[0;34m)\u001b[0m\u001b[0;34m\u001b[0m\u001b[0;34m\u001b[0m\u001b[0m\n\u001b[0;32m---> 59\u001b[0;31m     tensors = pywrap_tfe.TFE_Py_Execute(ctx._handle, device_name, op_name,\n\u001b[0m\u001b[1;32m     60\u001b[0m                                         inputs, attrs, num_outputs)\n\u001b[1;32m     61\u001b[0m   \u001b[0;32mexcept\u001b[0m \u001b[0mcore\u001b[0m\u001b[0;34m.\u001b[0m\u001b[0m_NotOkStatusException\u001b[0m \u001b[0;32mas\u001b[0m \u001b[0me\u001b[0m\u001b[0;34m:\u001b[0m\u001b[0;34m\u001b[0m\u001b[0;34m\u001b[0m\u001b[0m\n",
      "\u001b[0;31mKeyboardInterrupt\u001b[0m: "
     ]
    }
   ],
   "source": [
    "history = model.fit(data_en_seq, data_fr_seq, batch_size=1024, epochs=20, validation_split=0.2)\n",
    "print(f\"[INFO] Saving model weights to {WEIGHTS_DIR}/{RNN_EMB_MODEL_NAME}.weights.hdf5\")"
   ]
  },
  {
   "cell_type": "code",
   "execution_count": null,
   "metadata": {
    "colab": {
     "base_uri": "https://localhost:8080/",
     "height": 321
    },
    "id": "YZT0caEq0aG0",
    "outputId": "3113a2e6-fa1b-40e2-f269-194ce587e32f"
   },
   "outputs": [],
   "source": [
    "train_loss = model.history.history['loss']\n",
    "val_loss = model.history.history['val_loss']\n",
    "\n",
    "train_acc = model.history.history['accuracy']\n",
    "val_acc = model.history.history['val_accuracy']\n",
    "\n",
    "fig, ax = plt.subplots(1,2, figsize=(15, 5))\n",
    "\n",
    "ax[0].plot(train_loss, label='Train Loss', color='blue')\n",
    "ax[0].plot(val_loss, label='Validation Loss', color='orange')\n",
    "\n",
    "ax[1].plot(train_acc, label='Train Accuracy', color='blue')\n",
    "ax[1].plot(val_acc, label='Validation Accuracy', color='orange')\n",
    "plt.legend()\n",
    "plt.show()"
   ]
  },
  {
   "cell_type": "code",
   "execution_count": null,
   "metadata": {
    "colab": {
     "base_uri": "https://localhost:8080/"
    },
    "id": "Oh26s-TD0uE_",
    "outputId": "7d4f89a9-3ea7-489b-bbaa-e0049da5806f"
   },
   "outputs": [],
   "source": [
    "### Testing predictions ###\n",
    "predictions = model.predict(data_en_seq[0:200])\n",
    "print(np.argmax(predictions, axis=-1)[0])"
   ]
  },
  {
   "cell_type": "code",
   "execution_count": null,
   "metadata": {
    "colab": {
     "base_uri": "https://localhost:8080/"
    },
    "id": "YMT-WBgF0yfe",
    "outputId": "5fed775b-9871-47e4-a050-09816682b942"
   },
   "outputs": [],
   "source": [
    "predicted_text = fr_tokenizer.sequences_to_texts([np.argmax(predictions, axis=-1)[0]])[0]\n",
    "predicted_text = predicted_text.replace(\"PAD\", \"\").strip()\n",
    "print(predicted_text)"
   ]
  },
  {
   "cell_type": "markdown",
   "metadata": {
    "id": "h08RIrKbliB8"
   },
   "source": [
    "## 3. Bidirectional RNN"
   ]
  },
  {
   "cell_type": "code",
   "execution_count": null,
   "metadata": {
    "colab": {
     "base_uri": "https://localhost:8080/"
    },
    "id": "M-HIISA1009W",
    "outputId": "9348b604-d34e-4eed-a339-e8b51f1f99ec"
   },
   "outputs": [],
   "source": [
    " def make_bidirectional_rnn(input_shape, fr_vocab_size):\n",
    "    # Embedding layer can only be used as the first layer\n",
    "    inputs = Input(shape=input_shape[1:])\n",
    "    embs   = Embedding(fr_vocab_size, 128, input_length=input_shape[1])(inputs)\n",
    "    embs   = Reshape(target_shape=(input_shape[1], 128))(embs)\n",
    "\n",
    "    rnn = Bidirectional(LSTM(64, return_sequences = True))(embs) # better without dropout\n",
    "\n",
    "    # same size as the vocab so we have one hot vector of all words\n",
    "    logits = TimeDistributed(Dense(fr_vocab_size))(rnn)\n",
    "    output = Activation('softmax')(logits)\n",
    "    model = Model(inputs=inputs, outputs=output, name=BI_RNN_MODEL_NAME)\n",
    "    model.compile(optimizer='adam',\n",
    "                loss='sparse_categorical_crossentropy',\n",
    "                metrics=['accuracy'])\n",
    "\n",
    "    return model\n",
    "\n",
    "model = make_bidirectional_rnn(data_en_seq.shape, fr_vocab_size)\n",
    "print(model.summary())\n",
    "\n",
    "print(f'[INFO] Saving model architecture to {MODELS_DIR}/{BI_RNN_MODEL_NAME}.h5')\n",
    "model.save(f\"{MODELS_DIR}/{BI_RNN_MODEL_NAME}.h5\")"
   ]
  },
  {
   "cell_type": "code",
   "execution_count": null,
   "metadata": {
    "colab": {
     "base_uri": "https://localhost:8080/"
    },
    "id": "Se4vUip2qYlh",
    "outputId": "3d19bc62-c18b-4838-cf84-d6349e897eac"
   },
   "outputs": [],
   "source": [
    "history = model.fit(data_en_seq, data_fr_seq, batch_size=1024, epochs=20, validation_split=0.2)\n",
    "print(f\"[INFO] Saving model weights to {WEIGHTS_DIR}/{BI_RNN_MODEL_NAME}.weights.hdf5\")"
   ]
  },
  {
   "cell_type": "code",
   "execution_count": null,
   "metadata": {
    "colab": {
     "base_uri": "https://localhost:8080/",
     "height": 320
    },
    "id": "82uAZn_0rA1c",
    "outputId": "345dac5a-15b8-4569-b723-fd0ac196ae53"
   },
   "outputs": [],
   "source": [
    "train_loss = model.history.history['loss']\n",
    "val_loss = model.history.history['val_loss']\n",
    "\n",
    "train_acc = model.history.history['accuracy']\n",
    "val_acc = model.history.history['val_accuracy']\n",
    "\n",
    "fig, ax = plt.subplots(1,2, figsize=(15, 5))\n",
    "\n",
    "ax[0].plot(train_loss, label='Train Loss', color='blue')\n",
    "ax[0].plot(val_loss, label='Validation Loss', color='orange')\n",
    "\n",
    "ax[1].plot(train_acc, label='Train Accuracy', color='blue')\n",
    "ax[1].plot(val_acc, label='Validation Accuracy', color='orange')\n",
    "plt.legend()\n",
    "plt.show()"
   ]
  },
  {
   "cell_type": "code",
   "execution_count": null,
   "metadata": {
    "colab": {
     "base_uri": "https://localhost:8080/"
    },
    "id": "KJuaKkqIrRl2",
    "outputId": "64b987d4-a5da-45fd-868d-b34cdaf0e80d"
   },
   "outputs": [],
   "source": [
    "### Testing predictions ###\n",
    "predictions = model.predict(data_en_seq[0:200])\n",
    "print(np.argmax(predictions, axis=-1)[0])"
   ]
  },
  {
   "cell_type": "code",
   "execution_count": null,
   "metadata": {
    "colab": {
     "base_uri": "https://localhost:8080/"
    },
    "id": "QIiOw6Motq-U",
    "outputId": "8f1ef640-25d3-477d-fab0-5af4bf8dab11"
   },
   "outputs": [],
   "source": [
    "predicted_text = fr_tokenizer.sequences_to_texts([np.argmax(predictions, axis=-1)[0]])[0]\n",
    "predicted_text = predicted_text.replace(\"PAD\", \"\").strip()\n",
    "print(predicted_text)"
   ]
  },
  {
   "cell_type": "markdown",
   "metadata": {
    "id": "PsLYKNO9txB-"
   },
   "source": [
    "## 4. Encoder-Decoder architecture"
   ]
  },
  {
   "cell_type": "code",
   "execution_count": null,
   "metadata": {
    "id": "2no8oYP5ts7w"
   },
   "outputs": [],
   "source": []
  }
 ],
 "metadata": {
  "accelerator": "GPU",
  "colab": {
   "collapsed_sections": [],
   "name": "NeuralMachineTranslation.ipynb",
   "provenance": []
  },
  "kernelspec": {
   "display_name": "Python 3",
   "language": "python",
   "name": "python3"
  },
  "language_info": {
   "codemirror_mode": {
    "name": "ipython",
    "version": 3
   },
   "file_extension": ".py",
   "mimetype": "text/x-python",
   "name": "python",
   "nbconvert_exporter": "python",
   "pygments_lexer": "ipython3",
   "version": "3.8.5"
  }
 },
 "nbformat": 4,
 "nbformat_minor": 1
}
