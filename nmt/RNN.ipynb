{
  "nbformat": 4,
  "nbformat_minor": 0,
  "metadata": {
    "kernelspec": {
      "display_name": "Python 3",
      "language": "python",
      "name": "python3"
    },
    "language_info": {
      "codemirror_mode": {
        "name": "ipython",
        "version": 3
      },
      "file_extension": ".py",
      "mimetype": "text/x-python",
      "name": "python",
      "nbconvert_exporter": "python",
      "pygments_lexer": "ipython3",
      "version": "3.8.5"
    },
    "colab": {
      "name": "RNN.ipynb",
      "provenance": [],
      "collapsed_sections": []
    },
    "accelerator": "GPU"
  },
  "cells": [
    {
      "cell_type": "markdown",
      "metadata": {
        "id": "8wv72IzT4DeD"
      },
      "source": [
        "# Importing libraries"
      ]
    },
    {
      "cell_type": "code",
      "metadata": {
        "colab": {
          "base_uri": "https://localhost:8080/"
        },
        "id": "AOrEFgVT4GYn",
        "outputId": "1ebd3e9f-5af6-4990-c9c4-4c47fc7ebdf4"
      },
      "source": [
        "from google.colab import drive\n",
        "drive.mount(\"/content/drive\", force_remount=True)\n",
        "!ls '/content/drive/My Drive/'"
      ],
      "execution_count": 14,
      "outputs": [
        {
          "output_type": "stream",
          "text": [
            "Mounted at /content/drive\n",
            " CADL-I-FinalPoject\t\t\t       notes\n",
            "'Colab Notebooks'\t\t\t       ottawa-roadnet\n",
            " Dog_Cat_Data\t\t\t\t       RoadNetDemo\n",
            " en_vocab_small.txt\t\t\t       RoadNetKeras\n",
            " fr_vocab_small.txt\t\t\t       StyleGAN-Tensorflow2-master\n",
            " model_94k_faces_glintasia_without_norm.hdf5\n"
          ],
          "name": "stdout"
        }
      ]
    },
    {
      "cell_type": "code",
      "metadata": {
        "id": "_rZEpEKR4DeL"
      },
      "source": [
        "import os\n",
        "import re\n",
        "import time\n",
        "import string\n",
        "import spacy\n",
        "import numpy as np\n",
        "import tensorflow as tf\n",
        "import matplotlib.pyplot as plt\n",
        "\n",
        "### NLTK dependencies ###\n",
        "from nltk.corpus import stopwords  \n",
        "from nltk.tokenize import word_tokenize\n",
        "from nltk.stem import WordNetLemmatizer\n",
        "\n",
        "### Tensorflow dependencies ###\n",
        "from tensorflow.keras.layers import *\n",
        "from tensorflow.keras.models import Model\n",
        "from tensorflow.keras.optimizers import Adam\n",
        "from tensorflow.keras import backend as K\n",
        "from tensorflow.keras.preprocessing.text import Tokenizer\n",
        "from tensorflow.keras.preprocessing.sequence import pad_sequences"
      ],
      "execution_count": 19,
      "outputs": []
    },
    {
      "cell_type": "markdown",
      "metadata": {
        "id": "edJhLdeo4DeQ"
      },
      "source": [
        "# Loading and preprocessing data"
      ]
    },
    {
      "cell_type": "code",
      "metadata": {
        "colab": {
          "base_uri": "https://localhost:8080/"
        },
        "id": "GHNkIumE4DeU",
        "outputId": "6986e33e-bcf0-4a50-da7d-10c0d21b65ec"
      },
      "source": [
        "### 1. Loading data from files and preprocessing ###\n",
        "def en_contraction_expand(sentence):\n",
        "    # Dictionary of English Contractions\n",
        "    contractions_dict = { \"ain't\": \"are not\",\"'s\":\" is\",\"aren't\": \"are not\",\n",
        "                     \"can't\": \"cannot\",\"can't've\": \"cannot have\",\n",
        "                     \"'cause\": \"because\",\"could've\": \"could have\",\"couldn't\": \"could not\",\n",
        "                     \"couldn't've\": \"could not have\", \"didn't\": \"did not\",\"doesn't\": \"does not\",\n",
        "                     \"don't\": \"do not\",\"hadn't\": \"had not\",\"hadn't've\": \"had not have\",\n",
        "                     \"hasn't\": \"has not\",\"haven't\": \"have not\",\"he'd\": \"he would\",\n",
        "                     \"he'd've\": \"he would have\",\"he'll\": \"he will\", \"he'll've\": \"he will have\",\n",
        "                     \"how'd\": \"how did\",\"how'd'y\": \"how do you\",\"how'll\": \"how will\",\n",
        "                     \"I'd\": \"I would\", \"I'd've\": \"I would have\",\"I'll\": \"I will\",\n",
        "                     \"I'll've\": \"I will have\",\"I'm\": \"I am\",\"I've\": \"I have\", \"isn't\": \"is not\",\n",
        "                     \"it'd\": \"it would\",\"it'd've\": \"it would have\",\"it'll\": \"it will\",\n",
        "                     \"it'll've\": \"it will have\", \"let's\": \"let us\",\"ma'am\": \"madam\",\n",
        "                     \"mayn't\": \"may not\",\"might've\": \"might have\",\"mightn't\": \"might not\", \n",
        "                     \"mightn't've\": \"might not have\",\"must've\": \"must have\",\"mustn't\": \"must not\",\n",
        "                     \"mustn't've\": \"must not have\", \"needn't\": \"need not\",\n",
        "                     \"needn't've\": \"need not have\",\"o'clock\": \"of the clock\",\"oughtn't\": \"ought not\",\n",
        "                     \"oughtn't've\": \"ought not have\",\"shan't\": \"shall not\",\"sha'n't\": \"shall not\",\n",
        "                     \"shan't've\": \"shall not have\",\"she'd\": \"she would\",\"she'd've\": \"she would have\",\n",
        "                     \"she'll\": \"she will\", \"she'll've\": \"she will have\",\"should've\": \"should have\",\n",
        "                     \"shouldn't\": \"should not\", \"shouldn't've\": \"should not have\",\"so've\": \"so have\",\n",
        "                     \"that'd\": \"that would\",\"that'd've\": \"that would have\", \"there'd\": \"there would\",\n",
        "                     \"there'd've\": \"there would have\", \"they'd\": \"they would\",\n",
        "                     \"they'd've\": \"they would have\",\"they'll\": \"they will\",\n",
        "                     \"they'll've\": \"they will have\", \"they're\": \"they are\",\"they've\": \"they have\",\n",
        "                     \"to've\": \"to have\",\"wasn't\": \"was not\",\"we'd\": \"we would\",\n",
        "                     \"we'd've\": \"we would have\",\"we'll\": \"we will\",\"we'll've\": \"we will have\",\n",
        "                     \"we're\": \"we are\",\"we've\": \"we have\", \"weren't\": \"were not\",\"what'll\": \"what will\",\n",
        "                     \"what'll've\": \"what will have\",\"what're\": \"what are\", \"what've\": \"what have\",\n",
        "                     \"when've\": \"when have\",\"where'd\": \"where did\", \"where've\": \"where have\",\n",
        "                     \"who'll\": \"who will\",\"who'll've\": \"who will have\",\"who've\": \"who have\",\n",
        "                     \"why've\": \"why have\",\"will've\": \"will have\",\"won't\": \"will not\",\n",
        "                     \"won't've\": \"will not have\", \"would've\": \"would have\",\"wouldn't\": \"would not\",\n",
        "                     \"wouldn't've\": \"would not have\",\"y'all\": \"you all\", \"y'all'd\": \"you all would\",\n",
        "                     \"y'all'd've\": \"you all would have\",\"y'all're\": \"you all are\",\n",
        "                     \"y'all've\": \"you all have\", \"you'd\": \"you would\",\"you'd've\": \"you would have\",\n",
        "                     \"you'll\": \"you will\",\"you'll've\": \"you will have\", \"you're\": \"you are\",\n",
        "                     \"you've\": \"you have\"}\n",
        "\n",
        "    contractions_re=re.compile('(%s)' % '|'.join(contractions_dict.keys()))\n",
        "    def replace(match):\n",
        "        return contractions_dict[match.group(0)]\n",
        "    \n",
        "    return contractions_re.sub(replace, sentence)\n",
        "\n",
        "def filter_stopwords(text, lang='en'):\n",
        "    ### Stopword removal using the nltk way ###\n",
        "    if(lang == 'en') : \n",
        "        language = 'english'\n",
        "    elif(lang == 'fr'):\n",
        "        language = 'french'\n",
        "        \n",
        "    stop_words = set(stopwords.words(language)) # Assuming all nltk data is installed\n",
        "    lemmatizer = WordNetLemmatizer()\n",
        "    \n",
        "    word_tokens = word_tokenize(text)\n",
        "    filtered = [lemmatizer.lemmatize(w) for w in word_tokens if not w in stop_words]\n",
        "    \n",
        "    filtered_sentence = ' '.join(filtered)\n",
        "    return filtered_sentence\n",
        "\n",
        "def preprocess_sentence(sentence, lang='en'):\n",
        "    # 1. expand contraction for english\n",
        "    if(lang == 'en'):\n",
        "        sentence = en_contraction_expand(sentence)\n",
        "    \n",
        "    # 2. lowercasing text\n",
        "    sentence = sentence.strip().lower()\n",
        "    \n",
        "    # 3. Digits removal\n",
        "    sentence = re.sub('\\w*\\d\\w*','', sentence)\n",
        "\n",
        "    # 4. Punctuations removal\n",
        "    sentence = re.sub('[%s]' % re.escape(string.punctuation), '', sentence)\n",
        "    \n",
        "    # 5. Extra spaces removal\n",
        "    sentence = re.sub(' +',' ', sentence)\n",
        "    \n",
        "    # 5. filter stopwords \n",
        "    # sentence = filter_stopwords(sentence, lang=lang)\n",
        "    \n",
        "    return sentence\n",
        "    \n",
        "def load_data(filename, lang=\"en\"):\n",
        "    start = time.time()\n",
        "    lines = open(filename, 'r').readlines()\n",
        "    \n",
        "    if(lang == \"en\"):\n",
        "        lines = [preprocess_sentence(x, lang=lang) for x in lines]\n",
        "    elif(lang == \"fr\"):\n",
        "        lines = [preprocess_sentence(x, lang=lang) for x in lines]\n",
        "        \n",
        "    lines = np.array(lines)\n",
        "    end = time.time()\n",
        "    \n",
        "    print(f'[INFO] Took {end - start} seconds to load {filename}')\n",
        "    return lines\n",
        "\n",
        "data_en = load_data(\"/content/drive/My Drive/en_vocab_small.txt\")\n",
        "data_fr = load_data(\"/content/drive/My Drive/fr_vocab_small.txt\", lang=\"fr\")"
      ],
      "execution_count": 20,
      "outputs": [
        {
          "output_type": "stream",
          "text": [
            "[INFO] Took 5.166667938232422 seconds to load /content/drive/My Drive/en_vocab_small.txt\n",
            "[INFO] Took 2.573683023452759 seconds to load /content/drive/My Drive/fr_vocab_small.txt\n"
          ],
          "name": "stdout"
        }
      ]
    },
    {
      "cell_type": "code",
      "metadata": {
        "colab": {
          "base_uri": "https://localhost:8080/"
        },
        "id": "tvGsx4lN4Dec",
        "outputId": "e56d4b22-d59d-4262-c1ce-85f71e6b66e7"
      },
      "source": [
        "### 2. Vectorize text data for model training ###\n",
        "print('[INFO] Tokenizing english data ...')\n",
        "en_tokenizer = Tokenizer(char_level=False, oov_token=\"PAD\") # 0 is a reserved index\n",
        "en_tokenizer.fit_on_texts(data_en)\n",
        "data_en_seq = en_tokenizer.texts_to_sequences(data_en)\n",
        "\n",
        "print('[INFO] Tokenizing french data ...')\n",
        "fr_tokenizer = Tokenizer(char_level=False, oov_token=\"PAD\")\n",
        "fr_tokenizer.fit_on_texts(data_fr)\n",
        "data_fr_seq = fr_tokenizer.texts_to_sequences(data_fr)\n",
        "\n",
        "print(data_en_seq[0])"
      ],
      "execution_count": 21,
      "outputs": [
        {
          "output_type": "stream",
          "text": [
            "[INFO] Tokenizing english data ...\n",
            "[INFO] Tokenizing french data ...\n",
            "[18, 24, 2, 9, 68, 5, 40, 8, 4, 2, 56, 3, 45]\n"
          ],
          "name": "stdout"
        }
      ]
    },
    {
      "cell_type": "code",
      "metadata": {
        "colab": {
          "base_uri": "https://localhost:8080/"
        },
        "id": "Z3Akp2dr4Deg",
        "outputId": "f0ed32fd-66ee-4e52-fb24-52bd7a2bd373"
      },
      "source": [
        "### Sequence padding ###\n",
        "def pad(x, length=None):\n",
        "    if length is None:\n",
        "        length = max([len(sentence) for sentence in x])\n",
        "    return pad_sequences(x, maxlen = length, padding = 'post')\n",
        "\n",
        "print('[INFO] Padding sequence for french data ...')\n",
        "data_fr_seq = pad(data_fr_seq)\n",
        "\n",
        "print('[INFO] Padding sequence for english data ...')\n",
        "data_en_seq = pad(data_en_seq, length=data_fr_seq.shape[-1])\n",
        "\n",
        "fr_vocab_size = np.max(data_fr_seq) + 1\n",
        "en_vocab_size = np.max(data_en_seq) + 1\n",
        "print('----------------------------------------------')\n",
        "print(f'[INFO] Max english sentence length : {data_en_seq.shape[-1]}')\n",
        "print(f'[INFO] Max french sentence length : {data_fr_seq.shape[-1]}')\n",
        "print(f'[INFO] French vocab size : {fr_vocab_size}')\n",
        "print(f'[INFO] English vocab size : {en_vocab_size}')"
      ],
      "execution_count": 22,
      "outputs": [
        {
          "output_type": "stream",
          "text": [
            "[INFO] Padding sequence for french data ...\n",
            "[INFO] Padding sequence for english data ...\n",
            "----------------------------------------------\n",
            "[INFO] Max english sentence length : 21\n",
            "[INFO] Max french sentence length : 21\n",
            "[INFO] French vocab size : 346\n",
            "[INFO] English vocab size : 198\n"
          ],
          "name": "stdout"
        }
      ]
    },
    {
      "cell_type": "code",
      "metadata": {
        "id": "WMiw8-N54Den",
        "colab": {
          "base_uri": "https://localhost:8080/"
        },
        "outputId": "459c6940-2c16-4ca9-d5cd-ad4579d397f5"
      },
      "source": [
        "### Test inverse transform from index to words ###\n",
        "print(en_tokenizer.sequences_to_texts([data_en_seq[0]]))\n",
        "print(data_en_seq[0])"
      ],
      "execution_count": 23,
      "outputs": [
        {
          "output_type": "stream",
          "text": [
            "['new jersey is sometimes quiet during autumn and it is snowy in april PAD PAD PAD PAD PAD PAD PAD PAD']\n",
            "[18 24  2  9 68  5 40  8  4  2 56  3 45  0  0  0  0  0  0  0  0]\n"
          ],
          "name": "stdout"
        }
      ]
    },
    {
      "cell_type": "markdown",
      "metadata": {
        "id": "9LFOoI104Deq"
      },
      "source": [
        "# Building model"
      ]
    },
    {
      "cell_type": "markdown",
      "metadata": {
        "id": "fngoIyVJ4Des"
      },
      "source": [
        "## 1. Basic RNN model"
      ]
    },
    {
      "cell_type": "code",
      "metadata": {
        "colab": {
          "base_uri": "https://localhost:8080/"
        },
        "id": "04iCRB2j4Deu",
        "outputId": "0a92511b-99cf-47bb-81ed-84a5c5857e47"
      },
      "source": [
        "data_en_seq = data_en_seq.reshape(-1, data_en_seq.shape[1], 1)\n",
        "def make_rnn_model(input_shape, output_length, fr_vocab_size):\n",
        "    inputs = Input(shape=input_shape[1:])\n",
        "    rnn = GRU(64, return_sequences = True)(inputs)\n",
        "    \n",
        "    # same size as the vocab so we have one hot vector of all words\n",
        "    logits = TimeDistributed(Dense(fr_vocab_size))(rnn)\n",
        "    output = Activation('softmax')(logits)\n",
        "    model = Model(inputs=inputs, outputs=output, name='Basic_RNN')\n",
        "    model.compile(optimizer='adam',\n",
        "                 loss='sparse_categorical_crossentropy',\n",
        "                 metrics=['accuracy'])\n",
        "    \n",
        "    return model\n",
        "\n",
        "model = make_rnn_model(data_en_seq.shape, data_fr_seq.shape[-1], fr_vocab_size)\n",
        "print(model.summary())"
      ],
      "execution_count": 24,
      "outputs": [
        {
          "output_type": "stream",
          "text": [
            "Model: \"Basic_RNN\"\n",
            "_________________________________________________________________\n",
            "Layer (type)                 Output Shape              Param #   \n",
            "=================================================================\n",
            "input_1 (InputLayer)         [(None, 21, 1)]           0         \n",
            "_________________________________________________________________\n",
            "gru (GRU)                    (None, 21, 64)            12864     \n",
            "_________________________________________________________________\n",
            "time_distributed (TimeDistri (None, 21, 346)           22490     \n",
            "_________________________________________________________________\n",
            "activation (Activation)      (None, 21, 346)           0         \n",
            "=================================================================\n",
            "Total params: 35,354\n",
            "Trainable params: 35,354\n",
            "Non-trainable params: 0\n",
            "_________________________________________________________________\n",
            "None\n"
          ],
          "name": "stdout"
        }
      ]
    },
    {
      "cell_type": "code",
      "metadata": {
        "colab": {
          "base_uri": "https://localhost:8080/"
        },
        "id": "SHQzUie44Dez",
        "outputId": "d5a1910c-c193-486f-8ff3-7ee4cc38bacf"
      },
      "source": [
        "history = model.fit(data_en_seq, data_fr_seq, batch_size=1024, epochs=20, validation_split=0.2)"
      ],
      "execution_count": null,
      "outputs": [
        {
          "output_type": "stream",
          "text": [
            "Epoch 1/20\n",
            "108/108 [==============================] - 1s 12ms/step - loss: 1.2139 - accuracy: 0.6492 - val_loss: 1.2078 - val_accuracy: 0.6487\n",
            "Epoch 2/20\n",
            "108/108 [==============================] - 1s 11ms/step - loss: 1.2031 - accuracy: 0.6503 - val_loss: 1.1954 - val_accuracy: 0.6502\n",
            "Epoch 3/20\n",
            "108/108 [==============================] - 1s 11ms/step - loss: 1.1925 - accuracy: 0.6513 - val_loss: 1.1867 - val_accuracy: 0.6522\n",
            "Epoch 4/20\n",
            "108/108 [==============================] - 1s 11ms/step - loss: 1.1832 - accuracy: 0.6526 - val_loss: 1.1773 - val_accuracy: 0.6552\n",
            "Epoch 5/20\n",
            "108/108 [==============================] - 1s 11ms/step - loss: 1.1753 - accuracy: 0.6532 - val_loss: 1.1683 - val_accuracy: 0.6572\n",
            "Epoch 6/20\n",
            "108/108 [==============================] - 1s 11ms/step - loss: 1.1663 - accuracy: 0.6548 - val_loss: 1.1593 - val_accuracy: 0.6590\n",
            "Epoch 7/20\n",
            "108/108 [==============================] - 1s 11ms/step - loss: 1.1583 - accuracy: 0.6556 - val_loss: 1.1533 - val_accuracy: 0.6567\n",
            "Epoch 8/20\n",
            "108/108 [==============================] - 1s 11ms/step - loss: 1.1507 - accuracy: 0.6563 - val_loss: 1.1448 - val_accuracy: 0.6597\n",
            "Epoch 9/20\n",
            "108/108 [==============================] - 1s 11ms/step - loss: 1.1434 - accuracy: 0.6573 - val_loss: 1.1379 - val_accuracy: 0.6614\n",
            "Epoch 10/20\n",
            "108/108 [==============================] - 1s 11ms/step - loss: 1.1368 - accuracy: 0.6572 - val_loss: 1.1315 - val_accuracy: 0.6579\n",
            "Epoch 11/20\n",
            "108/108 [==============================] - 1s 11ms/step - loss: 1.1297 - accuracy: 0.6584 - val_loss: 1.1247 - val_accuracy: 0.6599\n",
            "Epoch 12/20\n",
            "108/108 [==============================] - 1s 11ms/step - loss: 1.1235 - accuracy: 0.6599 - val_loss: 1.1243 - val_accuracy: 0.6594\n",
            "Epoch 13/20\n",
            "108/108 [==============================] - 1s 11ms/step - loss: 1.1178 - accuracy: 0.6611 - val_loss: 1.1116 - val_accuracy: 0.6606\n",
            "Epoch 14/20\n",
            "108/108 [==============================] - 1s 11ms/step - loss: 1.1119 - accuracy: 0.6603 - val_loss: 1.1066 - val_accuracy: 0.6617\n",
            "Epoch 15/20\n",
            "108/108 [==============================] - 1s 11ms/step - loss: 1.1063 - accuracy: 0.6608 - val_loss: 1.1017 - val_accuracy: 0.6660\n",
            "Epoch 16/20\n",
            "108/108 [==============================] - 1s 11ms/step - loss: 1.1014 - accuracy: 0.6626 - val_loss: 1.0961 - val_accuracy: 0.6626\n",
            "Epoch 17/20\n",
            "108/108 [==============================] - 1s 11ms/step - loss: 1.0965 - accuracy: 0.6616 - val_loss: 1.0928 - val_accuracy: 0.6709\n",
            "Epoch 18/20\n",
            "108/108 [==============================] - 1s 11ms/step - loss: 1.0921 - accuracy: 0.6631 - val_loss: 1.0884 - val_accuracy: 0.6628\n",
            "Epoch 19/20\n",
            "108/108 [==============================] - 1s 11ms/step - loss: 1.0874 - accuracy: 0.6639 - val_loss: 1.0837 - val_accuracy: 0.6609\n",
            "Epoch 20/20\n",
            "108/108 [==============================] - 1s 11ms/step - loss: 1.0844 - accuracy: 0.6634 - val_loss: 1.0800 - val_accuracy: 0.6688\n"
          ],
          "name": "stdout"
        }
      ]
    },
    {
      "cell_type": "code",
      "metadata": {
        "colab": {
          "base_uri": "https://localhost:8080/",
          "height": 323
        },
        "id": "mDf45FCy4De5",
        "outputId": "2886b7b8-a0ed-42fc-fe32-18490e04b463"
      },
      "source": [
        "train_loss = model.history.history['loss']\n",
        "val_loss = model.history.history['val_loss']\n",
        "\n",
        "train_acc = model.history.history['accuracy']\n",
        "val_acc = model.history.history['val_accuracy']\n",
        "\n",
        "fig, ax = plt.subplots(1,2, figsize=(15, 5))\n",
        "\n",
        "ax[0].plot(train_loss, label='Train Loss', color='blue')\n",
        "ax[0].plot(val_loss, label='Validation Loss', color='orange')\n",
        "\n",
        "ax[1].plot(train_acc, label='Train Accuracy', color='blue')\n",
        "ax[1].plot(val_acc, label='Validation Accuracy', color='orange')\n",
        "plt.legend()\n",
        "plt.show()"
      ],
      "execution_count": null,
      "outputs": [
        {
          "output_type": "display_data",
          "data": {
            "image/png": "[encoded data removed]",
            "text/plain": [
              "<Figure size 1080x360 with 2 Axes>"
            ]
          },
          "metadata": {
            "tags": [],
            "needs_background": "light"
          }
        }
      ]
    },
    {
      "cell_type": "code",
      "metadata": {
        "colab": {
          "base_uri": "https://localhost:8080/"
        },
        "id": "HMhuWUM04De7",
        "outputId": "f77e7d06-175b-47cf-a8cb-cb5ccfd490d1"
      },
      "source": [
        "### Testing predictions ###\n",
        "predictions = model.predict(data_en_seq[0:200])\n",
        "print(np.argmax(predictions, axis=-1)[0])"
      ],
      "execution_count": null,
      "outputs": [
        {
          "output_type": "stream",
          "text": [
            "[34 33  1  8  8  2 25  6  3  6  1  2  2  2  0  0  0  0  0  0  0]\n"
          ],
          "name": "stdout"
        }
      ]
    },
    {
      "cell_type": "code",
      "metadata": {
        "colab": {
          "base_uri": "https://localhost:8080/"
        },
        "id": "1v96YHU04De9",
        "outputId": "79beb7da-6ef6-47bc-ae4a-db76a7954a02"
      },
      "source": [
        "fr_tokenizer.sequences_to_texts([np.argmax(predictions, axis=-1)[0]])"
      ],
      "execution_count": null,
      "outputs": [
        {
          "output_type": "execute_result",
          "data": {
            "text/plain": [
              "['new jersey est parfois parfois en mois et il et est en en en']"
            ]
          },
          "metadata": {
            "tags": []
          },
          "execution_count": 15
        }
      ]
    },
    {
      "cell_type": "markdown",
      "metadata": {
        "id": "Bh36Nnk9Y0ej"
      },
      "source": [
        "## 2. Basic RNN + Word embedding"
      ]
    },
    {
      "cell_type": "code",
      "metadata": {
        "id": "8cRHtK3n4De-",
        "colab": {
          "base_uri": "https://localhost:8080/"
        },
        "outputId": "19477b1f-9665-4787-ef7f-e28181197347"
      },
      "source": [
        "def make_rnn_with_embedding(input_shape, fr_vocab_size):\n",
        "  # Embedding layer can only be used as the first layer\n",
        "  inputs = Input(shape=input_shape[1:])\n",
        "  embs   = Embedding(fr_vocab_size, 64, input_length=input_shape[1])(inputs)\n",
        "  embs   = Reshape(target_shape=(input_shape[1], 64))(embs)\n",
        "\n",
        "  rnn = GRU(64, return_sequences = True)(embs)\n",
        "    \n",
        "  # same size as the vocab so we have one hot vector of all words\n",
        "  logits = TimeDistributed(Dense(fr_vocab_size))(rnn)\n",
        "  output = Activation('softmax')(logits)\n",
        "  model = Model(inputs=inputs, outputs=output, name='Basic_RNN')\n",
        "  model.compile(optimizer='adam',\n",
        "                loss='sparse_categorical_crossentropy',\n",
        "                metrics=['accuracy'])\n",
        "    \n",
        "  return model\n",
        "\n",
        "model = make_rnn_with_embedding(data_en_seq.shape, fr_vocab_size)\n",
        "print(model.summary())"
      ],
      "execution_count": 35,
      "outputs": [
        {
          "output_type": "stream",
          "text": [
            "Model: \"Basic_RNN\"\n",
            "_________________________________________________________________\n",
            "Layer (type)                 Output Shape              Param #   \n",
            "=================================================================\n",
            "input_9 (InputLayer)         [(None, 21, 1)]           0         \n",
            "_________________________________________________________________\n",
            "embedding_7 (Embedding)      (None, 21, 1, 64)         22144     \n",
            "_________________________________________________________________\n",
            "reshape_1 (Reshape)          (None, 21, 64)            0         \n",
            "_________________________________________________________________\n",
            "gru_8 (GRU)                  (None, 21, 64)            24960     \n",
            "_________________________________________________________________\n",
            "time_distributed_3 (TimeDist (None, 21, 346)           22490     \n",
            "_________________________________________________________________\n",
            "activation_3 (Activation)    (None, 21, 346)           0         \n",
            "=================================================================\n",
            "Total params: 69,594\n",
            "Trainable params: 69,594\n",
            "Non-trainable params: 0\n",
            "_________________________________________________________________\n",
            "None\n"
          ],
          "name": "stdout"
        }
      ]
    },
    {
      "cell_type": "code",
      "metadata": {
        "colab": {
          "base_uri": "https://localhost:8080/"
        },
        "id": "5_ZaU8hnyjQJ",
        "outputId": "48ea3500-4448-4dae-d79c-43d6e9f60e8f"
      },
      "source": [
        "history = model.fit(data_en_seq, data_fr_seq, batch_size=1024, epochs=20, validation_split=0.2)"
      ],
      "execution_count": 40,
      "outputs": [
        {
          "output_type": "stream",
          "text": [
            "Epoch 1/20\n",
            "108/108 [==============================] - 2s 15ms/step - loss: 0.3860 - accuracy: 0.8847 - val_loss: 0.3844 - val_accuracy: 0.8845\n",
            "Epoch 2/20\n",
            "108/108 [==============================] - 2s 15ms/step - loss: 0.3775 - accuracy: 0.8870 - val_loss: 0.3785 - val_accuracy: 0.8862\n",
            "Epoch 3/20\n",
            "108/108 [==============================] - 2s 14ms/step - loss: 0.3690 - accuracy: 0.8893 - val_loss: 0.3686 - val_accuracy: 0.8896\n",
            "Epoch 4/20\n",
            "108/108 [==============================] - 2s 14ms/step - loss: 0.3610 - accuracy: 0.8912 - val_loss: 0.3610 - val_accuracy: 0.8912\n",
            "Epoch 5/20\n",
            "108/108 [==============================] - 2s 15ms/step - loss: 0.3546 - accuracy: 0.8929 - val_loss: 0.3582 - val_accuracy: 0.8923\n",
            "Epoch 6/20\n",
            "108/108 [==============================] - 2s 14ms/step - loss: 0.3483 - accuracy: 0.8946 - val_loss: 0.3471 - val_accuracy: 0.8955\n",
            "Epoch 7/20\n",
            "108/108 [==============================] - 2s 14ms/step - loss: 0.3425 - accuracy: 0.8962 - val_loss: 0.3439 - val_accuracy: 0.8957\n",
            "Epoch 8/20\n",
            "108/108 [==============================] - 2s 14ms/step - loss: 0.3372 - accuracy: 0.8974 - val_loss: 0.3372 - val_accuracy: 0.8980\n",
            "Epoch 9/20\n",
            "108/108 [==============================] - 2s 14ms/step - loss: 0.3314 - accuracy: 0.8990 - val_loss: 0.3342 - val_accuracy: 0.8985\n",
            "Epoch 10/20\n",
            "108/108 [==============================] - 2s 14ms/step - loss: 0.3276 - accuracy: 0.9000 - val_loss: 0.3291 - val_accuracy: 0.8998\n",
            "Epoch 11/20\n",
            "108/108 [==============================] - 2s 14ms/step - loss: 0.3225 - accuracy: 0.9014 - val_loss: 0.3260 - val_accuracy: 0.9006\n",
            "Epoch 12/20\n",
            "108/108 [==============================] - 2s 14ms/step - loss: 0.3188 - accuracy: 0.9023 - val_loss: 0.3217 - val_accuracy: 0.9022\n",
            "Epoch 13/20\n",
            "108/108 [==============================] - 2s 14ms/step - loss: 0.3152 - accuracy: 0.9033 - val_loss: 0.3180 - val_accuracy: 0.9026\n",
            "Epoch 14/20\n",
            "108/108 [==============================] - 2s 15ms/step - loss: 0.3128 - accuracy: 0.9038 - val_loss: 0.3211 - val_accuracy: 0.9016\n",
            "Epoch 15/20\n",
            "108/108 [==============================] - 2s 14ms/step - loss: 0.3085 - accuracy: 0.9050 - val_loss: 0.3108 - val_accuracy: 0.9051\n",
            "Epoch 16/20\n",
            "108/108 [==============================] - 2s 14ms/step - loss: 0.3050 - accuracy: 0.9058 - val_loss: 0.3093 - val_accuracy: 0.9051\n",
            "Epoch 17/20\n",
            "108/108 [==============================] - 2s 14ms/step - loss: 0.3029 - accuracy: 0.9063 - val_loss: 0.3074 - val_accuracy: 0.9057\n",
            "Epoch 18/20\n",
            "108/108 [==============================] - 2s 14ms/step - loss: 0.3000 - accuracy: 0.9071 - val_loss: 0.3051 - val_accuracy: 0.9065\n",
            "Epoch 19/20\n",
            "108/108 [==============================] - 2s 14ms/step - loss: 0.2969 - accuracy: 0.9078 - val_loss: 0.3046 - val_accuracy: 0.9065\n",
            "Epoch 20/20\n",
            "108/108 [==============================] - 2s 14ms/step - loss: 0.2952 - accuracy: 0.9083 - val_loss: 0.3000 - val_accuracy: 0.9074\n"
          ],
          "name": "stdout"
        }
      ]
    },
    {
      "cell_type": "code",
      "metadata": {
        "colab": {
          "base_uri": "https://localhost:8080/",
          "height": 320
        },
        "id": "YZT0caEq0aG0",
        "outputId": "3f35d70c-fb17-4a9a-fb30-36bfa712416a"
      },
      "source": [
        "train_loss = model.history.history['loss']\n",
        "val_loss = model.history.history['val_loss']\n",
        "\n",
        "train_acc = model.history.history['accuracy']\n",
        "val_acc = model.history.history['val_accuracy']\n",
        "\n",
        "fig, ax = plt.subplots(1,2, figsize=(15, 5))\n",
        "\n",
        "ax[0].plot(train_loss, label='Train Loss', color='blue')\n",
        "ax[0].plot(val_loss, label='Validation Loss', color='orange')\n",
        "\n",
        "ax[1].plot(train_acc, label='Train Accuracy', color='blue')\n",
        "ax[1].plot(val_acc, label='Validation Accuracy', color='orange')\n",
        "plt.legend()\n",
        "plt.show()"
      ],
      "execution_count": 37,
      "outputs": [
        {
          "output_type": "display_data",
          "data": {
            "image/png": "[encoded data removed]",
            "text/plain": [
              "<Figure size 1080x360 with 2 Axes>"
            ]
          },
          "metadata": {
            "tags": [],
            "needs_background": "light"
          }
        }
      ]
    },
    {
      "cell_type": "code",
      "metadata": {
        "colab": {
          "base_uri": "https://localhost:8080/"
        },
        "id": "Oh26s-TD0uE_",
        "outputId": "db68c3ad-4f9f-4016-e4e8-8f112f27e634"
      },
      "source": [
        "### Testing predictions ###\n",
        "predictions = model.predict(data_en_seq[0:200])\n",
        "print(np.argmax(predictions, axis=-1)[0])"
      ],
      "execution_count": 41,
      "outputs": [
        {
          "output_type": "stream",
          "text": [
            "[ 35  34   2   9  67  16 111  23   4   2  23 112   3  50   0   0   0   0\n",
            "   0   0   0]\n"
          ],
          "name": "stdout"
        }
      ]
    },
    {
      "cell_type": "code",
      "metadata": {
        "colab": {
          "base_uri": "https://localhost:8080/"
        },
        "id": "YMT-WBgF0yfe",
        "outputId": "e41d0266-ff1b-4890-bf1a-006ffb163ca6"
      },
      "source": [
        "fr_tokenizer.sequences_to_texts([np.argmax(predictions, axis=-1)[0]])"
      ],
      "execution_count": 42,
      "outputs": [
        {
          "output_type": "execute_result",
          "data": {
            "text/plain": [
              "['new jersey est parfois calme au cours de il est de neigeux en avril PAD PAD PAD PAD PAD PAD PAD']"
            ]
          },
          "metadata": {
            "tags": []
          },
          "execution_count": 42
        }
      ]
    },
    {
      "cell_type": "code",
      "metadata": {
        "id": "M-HIISA1009W"
      },
      "source": [
        ""
      ],
      "execution_count": null,
      "outputs": []
    }
  ]
}