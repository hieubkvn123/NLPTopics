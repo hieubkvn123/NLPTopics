{
 "cells": [
  {
   "cell_type": "markdown",
   "metadata": {},
   "source": [
    "# Importing libraries"
   ]
  },
  {
   "cell_type": "code",
   "execution_count": 82,
   "metadata": {},
   "outputs": [],
   "source": [
    "import os\n",
    "import re\n",
    "import time\n",
    "import string\n",
    "import spacy\n",
    "import numpy as np\n",
    "import tensorflow as tf\n",
    "import matplotlib.pyplot as plt\n",
    "\n",
    "### NLTK dependencies ###\n",
    "from nltk.corpus import stopwords  \n",
    "from nltk.tokenize import word_tokenize\n",
    "from nltk.stem import WordNetLemmatizer\n",
    "\n",
    "### Tensorflow dependencies ###\n",
    "from tensorflow.keras.layers import *\n",
    "from tensorflow.keras.models import Model\n",
    "from tensorflow.keras.optimizers import Adam\n",
    "from tensorflow.keras import backend as K\n",
    "from tensorflow.keras.preprocessing.text import Tokenizer\n",
    "from tensorflow.keras.preprocessing.sequence import pad_sequences"
   ]
  },
  {
   "cell_type": "markdown",
   "metadata": {},
   "source": [
    "# Loading and preprocessing data"
   ]
  },
  {
   "cell_type": "code",
   "execution_count": 72,
   "metadata": {},
   "outputs": [
    {
     "name": "stdout",
     "output_type": "stream",
     "text": [
      "[INFO] Took 5.943459510803223 seconds to load ../data/en_vocab_small.txt\n",
      "[INFO] Took 2.96356463432312 seconds to load ../data/fr_vocab_small.txt\n"
     ]
    }
   ],
   "source": [
    "### 1. Loading data from files and preprocessing ###\n",
    "def en_contraction_expand(sentence):\n",
    "    # Dictionary of English Contractions\n",
    "    contractions_dict = { \"ain't\": \"are not\",\"'s\":\" is\",\"aren't\": \"are not\",\n",
    "                     \"can't\": \"cannot\",\"can't've\": \"cannot have\",\n",
    "                     \"'cause\": \"because\",\"could've\": \"could have\",\"couldn't\": \"could not\",\n",
    "                     \"couldn't've\": \"could not have\", \"didn't\": \"did not\",\"doesn't\": \"does not\",\n",
    "                     \"don't\": \"do not\",\"hadn't\": \"had not\",\"hadn't've\": \"had not have\",\n",
    "                     \"hasn't\": \"has not\",\"haven't\": \"have not\",\"he'd\": \"he would\",\n",
    "                     \"he'd've\": \"he would have\",\"he'll\": \"he will\", \"he'll've\": \"he will have\",\n",
    "                     \"how'd\": \"how did\",\"how'd'y\": \"how do you\",\"how'll\": \"how will\",\n",
    "                     \"I'd\": \"I would\", \"I'd've\": \"I would have\",\"I'll\": \"I will\",\n",
    "                     \"I'll've\": \"I will have\",\"I'm\": \"I am\",\"I've\": \"I have\", \"isn't\": \"is not\",\n",
    "                     \"it'd\": \"it would\",\"it'd've\": \"it would have\",\"it'll\": \"it will\",\n",
    "                     \"it'll've\": \"it will have\", \"let's\": \"let us\",\"ma'am\": \"madam\",\n",
    "                     \"mayn't\": \"may not\",\"might've\": \"might have\",\"mightn't\": \"might not\", \n",
    "                     \"mightn't've\": \"might not have\",\"must've\": \"must have\",\"mustn't\": \"must not\",\n",
    "                     \"mustn't've\": \"must not have\", \"needn't\": \"need not\",\n",
    "                     \"needn't've\": \"need not have\",\"o'clock\": \"of the clock\",\"oughtn't\": \"ought not\",\n",
    "                     \"oughtn't've\": \"ought not have\",\"shan't\": \"shall not\",\"sha'n't\": \"shall not\",\n",
    "                     \"shan't've\": \"shall not have\",\"she'd\": \"she would\",\"she'd've\": \"she would have\",\n",
    "                     \"she'll\": \"she will\", \"she'll've\": \"she will have\",\"should've\": \"should have\",\n",
    "                     \"shouldn't\": \"should not\", \"shouldn't've\": \"should not have\",\"so've\": \"so have\",\n",
    "                     \"that'd\": \"that would\",\"that'd've\": \"that would have\", \"there'd\": \"there would\",\n",
    "                     \"there'd've\": \"there would have\", \"they'd\": \"they would\",\n",
    "                     \"they'd've\": \"they would have\",\"they'll\": \"they will\",\n",
    "                     \"they'll've\": \"they will have\", \"they're\": \"they are\",\"they've\": \"they have\",\n",
    "                     \"to've\": \"to have\",\"wasn't\": \"was not\",\"we'd\": \"we would\",\n",
    "                     \"we'd've\": \"we would have\",\"we'll\": \"we will\",\"we'll've\": \"we will have\",\n",
    "                     \"we're\": \"we are\",\"we've\": \"we have\", \"weren't\": \"were not\",\"what'll\": \"what will\",\n",
    "                     \"what'll've\": \"what will have\",\"what're\": \"what are\", \"what've\": \"what have\",\n",
    "                     \"when've\": \"when have\",\"where'd\": \"where did\", \"where've\": \"where have\",\n",
    "                     \"who'll\": \"who will\",\"who'll've\": \"who will have\",\"who've\": \"who have\",\n",
    "                     \"why've\": \"why have\",\"will've\": \"will have\",\"won't\": \"will not\",\n",
    "                     \"won't've\": \"will not have\", \"would've\": \"would have\",\"wouldn't\": \"would not\",\n",
    "                     \"wouldn't've\": \"would not have\",\"y'all\": \"you all\", \"y'all'd\": \"you all would\",\n",
    "                     \"y'all'd've\": \"you all would have\",\"y'all're\": \"you all are\",\n",
    "                     \"y'all've\": \"you all have\", \"you'd\": \"you would\",\"you'd've\": \"you would have\",\n",
    "                     \"you'll\": \"you will\",\"you'll've\": \"you will have\", \"you're\": \"you are\",\n",
    "                     \"you've\": \"you have\"}\n",
    "\n",
    "    contractions_re=re.compile('(%s)' % '|'.join(contractions_dict.keys()))\n",
    "    def replace(match):\n",
    "        return contractions_dict[match.group(0)]\n",
    "    \n",
    "    return contractions_re.sub(replace, sentence)\n",
    "\n",
    "def filter_stopwords(text, lang='en'):\n",
    "    ### Stopword removal using the nltk way ###\n",
    "    if(lang == 'en') : \n",
    "        language = 'english'\n",
    "    elif(lang == 'fr'):\n",
    "        language = 'french'\n",
    "        \n",
    "    stop_words = set(stopwords.words(language)) # Assuming all nltk data is installed\n",
    "    lemmatizer = WordNetLemmatizer()\n",
    "    \n",
    "    word_tokens = word_tokenize(text)\n",
    "    filtered = [lemmatizer.lemmatize(w) for w in word_tokens if not w in stop_words]\n",
    "    \n",
    "    filtered_sentence = ' '.join(filtered)\n",
    "    return filtered_sentence\n",
    "\n",
    "def preprocess_sentence(sentence, lang='en'):\n",
    "    # 1. expand contraction for english\n",
    "    if(lang == 'en'):\n",
    "        sentence = en_contraction_expand(sentence)\n",
    "    \n",
    "    # 2. lowercasing text\n",
    "    sentence = sentence.strip().lower()\n",
    "    \n",
    "    # 3. Digits removal\n",
    "    sentence = re.sub('\\w*\\d\\w*','', sentence)\n",
    "\n",
    "    # 4. Punctuations removal\n",
    "    sentence = re.sub('[%s]' % re.escape(string.punctuation), '', sentence)\n",
    "    \n",
    "    # 5. Extra spaces removal\n",
    "    sentence = re.sub(' +',' ', sentence)\n",
    "    \n",
    "    # 5. filter stopwords \n",
    "    # sentence = filter_stopwords(sentence, lang=lang)\n",
    "    \n",
    "    return sentence\n",
    "    \n",
    "def load_data(filename, lang=\"en\"):\n",
    "    start = time.time()\n",
    "    lines = open(filename, 'r').readlines()\n",
    "    \n",
    "    if(lang == \"en\"):\n",
    "        lines = [preprocess_sentence(x, lang=lang) for x in lines]\n",
    "    elif(lang == \"fr\"):\n",
    "        lines = [preprocess_sentence(x, lang=lang) for x in lines]\n",
    "        \n",
    "    lines = np.array(lines)\n",
    "    end = time.time()\n",
    "    \n",
    "    print(f'[INFO] Took {end - start} seconds to load {filename}')\n",
    "    return lines\n",
    "\n",
    "data_en = load_data(\"../data/en_vocab_small.txt\")\n",
    "data_fr = load_data(\"../data/fr_vocab_small.txt\", lang=\"fr\")"
   ]
  },
  {
   "cell_type": "code",
   "execution_count": 73,
   "metadata": {},
   "outputs": [
    {
     "name": "stdout",
     "output_type": "stream",
     "text": [
      "[INFO] Tokenizing english data ...\n",
      "[INFO] Tokenizing french data ...\n",
      "[17, 23, 1, 8, 67, 4, 39, 7, 3, 1, 55, 2, 44]\n"
     ]
    }
   ],
   "source": [
    "### 2. Vectorize text data for model training ###\n",
    "print('[INFO] Tokenizing english data ...')\n",
    "en_tokenizer = Tokenizer(char_level=False)\n",
    "en_tokenizer.fit_on_texts(data_en)\n",
    "data_en_seq = en_tokenizer.texts_to_sequences(data_en)\n",
    "\n",
    "print('[INFO] Tokenizing french data ...')\n",
    "fr_tokenizer = Tokenizer(char_level=False)\n",
    "fr_tokenizer.fit_on_texts(data_fr)\n",
    "data_fr_seq = fr_tokenizer.texts_to_sequences(data_fr)\n",
    "\n",
    "print(data_en_seq[0])"
   ]
  },
  {
   "cell_type": "code",
   "execution_count": 74,
   "metadata": {},
   "outputs": [
    {
     "name": "stdout",
     "output_type": "stream",
     "text": [
      "[INFO] Padding sequence for french data ...\n",
      "[INFO] Padding sequence for english data ...\n",
      "----------------------------------------------\n",
      "[INFO] Max english sentence length : 21\n",
      "[INFO] Max french sentence length : 21\n",
      "[INFO] French vocab size : 345\n",
      "[INFO] English vocab size : 197\n"
     ]
    }
   ],
   "source": [
    "### Sequence padding ###\n",
    "def pad(x, length=None):\n",
    "    if length is None:\n",
    "        length = max([len(sentence) for sentence in x])\n",
    "    return pad_sequences(x, maxlen = length, padding = 'post')\n",
    "\n",
    "print('[INFO] Padding sequence for french data ...')\n",
    "data_fr_seq = pad(data_fr_seq)\n",
    "\n",
    "print('[INFO] Padding sequence for english data ...')\n",
    "data_en_seq = pad(data_en_seq, length=data_fr_seq.shape[-1])\n",
    "\n",
    "fr_vocab_size = np.max(data_fr_seq) + 1\n",
    "en_vocab_size = np.max(data_en_seq) + 1\n",
    "print('----------------------------------------------')\n",
    "print(f'[INFO] Max english sentence length : {data_en_seq.shape[-1]}')\n",
    "print(f'[INFO] Max french sentence length : {data_fr_seq.shape[-1]}')\n",
    "print(f'[INFO] French vocab size : {fr_vocab_size}')\n",
    "print(f'[INFO] English vocab size : {en_vocab_size}')"
   ]
  },
  {
   "cell_type": "code",
   "execution_count": 75,
   "metadata": {},
   "outputs": [
    {
     "name": "stdout",
     "output_type": "stream",
     "text": [
      "['new jersey is sometimes quiet during autumn and it is snowy in april']\n"
     ]
    }
   ],
   "source": [
    "### Test inverse transform from index to words ###\n",
    "print(en_tokenizer.sequences_to_texts([data_en_seq[0]]))"
   ]
  },
  {
   "cell_type": "markdown",
   "metadata": {},
   "source": [
    "# Building model"
   ]
  },
  {
   "cell_type": "markdown",
   "metadata": {},
   "source": [
    "## 1. Basic RNN model"
   ]
  },
  {
   "cell_type": "code",
   "execution_count": 76,
   "metadata": {},
   "outputs": [
    {
     "name": "stdout",
     "output_type": "stream",
     "text": [
      "Model: \"Basic_RNN\"\n",
      "_________________________________________________________________\n",
      "Layer (type)                 Output Shape              Param #   \n",
      "=================================================================\n",
      "input_7 (InputLayer)         [(None, 21, 1)]           0         \n",
      "_________________________________________________________________\n",
      "gru_6 (GRU)                  (None, 21, 64)            12864     \n",
      "_________________________________________________________________\n",
      "time_distributed_2 (TimeDist (None, 21, 345)           22425     \n",
      "_________________________________________________________________\n",
      "activation_2 (Activation)    (None, 21, 345)           0         \n",
      "=================================================================\n",
      "Total params: 35,289\n",
      "Trainable params: 35,289\n",
      "Non-trainable params: 0\n",
      "_________________________________________________________________\n",
      "None\n"
     ]
    }
   ],
   "source": [
    "data_en_seq = data_en_seq.reshape(-1, data_en_seq.shape[1], 1)\n",
    "def make_rnn_model(input_shape, output_length, fr_vocab_size):\n",
    "    inputs = Input(shape=input_shape[1:])\n",
    "    rnn = GRU(64, return_sequences = True)(inputs)\n",
    "    \n",
    "    # same size as the vocab so we have one hot vector of all words\n",
    "    logits = TimeDistributed(Dense(fr_vocab_size))(rnn)\n",
    "    output = Activation('softmax')(logits)\n",
    "    model = Model(inputs=inputs, outputs=output, name='Basic_RNN')\n",
    "    model.compile(optimizer='adam',\n",
    "                 loss='sparse_categorical_crossentropy',\n",
    "                 metrics=['accuracy'])\n",
    "    \n",
    "    return model\n",
    "\n",
    "model = make_rnn_model(data_en_seq.shape, data_fr_seq.shape[-1], fr_vocab_size)\n",
    "print(model.summary())"
   ]
  },
  {
   "cell_type": "code",
   "execution_count": 77,
   "metadata": {},
   "outputs": [
    {
     "name": "stdout",
     "output_type": "stream",
     "text": [
      "Epoch 1/10\n",
      "108/108 [==============================] - 35s 322ms/step - loss: 3.4378 - accuracy: 0.4226 - val_loss: 2.5354 - val_accuracy: 0.4641\n",
      "Epoch 2/10\n",
      "108/108 [==============================] - 35s 323ms/step - loss: 2.4113 - accuracy: 0.4743 - val_loss: 2.2881 - val_accuracy: 0.4826\n",
      "Epoch 3/10\n",
      "108/108 [==============================] - 36s 335ms/step - loss: 2.1709 - accuracy: 0.5046 - val_loss: 2.0486 - val_accuracy: 0.5349\n",
      "Epoch 4/10\n",
      "108/108 [==============================] - 36s 329ms/step - loss: 1.9495 - accuracy: 0.5478 - val_loss: 1.8575 - val_accuracy: 0.5675\n",
      "Epoch 5/10\n",
      "108/108 [==============================] - 35s 320ms/step - loss: 1.7945 - accuracy: 0.5685 - val_loss: 1.7325 - val_accuracy: 0.5729\n",
      "Epoch 6/10\n",
      "108/108 [==============================] - 35s 326ms/step - loss: 1.6899 - accuracy: 0.5795 - val_loss: 1.6451 - val_accuracy: 0.5851\n",
      "Epoch 7/10\n",
      "108/108 [==============================] - 34s 319ms/step - loss: 1.6122 - accuracy: 0.5888 - val_loss: 1.5763 - val_accuracy: 0.5948\n",
      "Epoch 8/10\n",
      "108/108 [==============================] - 36s 329ms/step - loss: 1.5505 - accuracy: 0.5941 - val_loss: 1.5220 - val_accuracy: 0.5983\n",
      "Epoch 9/10\n",
      "108/108 [==============================] - 35s 327ms/step - loss: 1.4997 - accuracy: 0.6007 - val_loss: 1.4754 - val_accuracy: 0.6034\n",
      "Epoch 10/10\n",
      "108/108 [==============================] - 36s 329ms/step - loss: 1.4566 - accuracy: 0.6069 - val_loss: 1.4360 - val_accuracy: 0.6095\n"
     ]
    },
    {
     "data": {
      "text/plain": [
       "<tensorflow.python.keras.callbacks.History at 0x7f88189efa90>"
      ]
     },
     "execution_count": 77,
     "metadata": {},
     "output_type": "execute_result"
    }
   ],
   "source": [
    "history = model.fit(data_en_seq, data_fr_seq, batch_size=1024, epochs=20, validation_split=0.2)"
   ]
  },
  {
   "cell_type": "code",
   "execution_count": 85,
   "metadata": {},
   "outputs": [
    {
     "data": {
      "image/png": "[encoded data removed]",
      "text/plain": [
       "<Figure size 1080x360 with 2 Axes>"
      ]
     },
     "metadata": {
      "needs_background": "light"
     },
     "output_type": "display_data"
    }
   ],
   "source": [
    "train_loss = model.history.history['loss']\n",
    "val_loss = model.history.history['val_loss']\n",
    "\n",
    "train_acc = model.history.history['accuracy']\n",
    "val_acc = model.history.history['val_accuracy']\n",
    "\n",
    "fig, ax = plt.subplots(1,2, figsize=(15, 5))\n",
    "\n",
    "ax[0].plot(train_loss, label='Train Loss', color='blue')\n",
    "ax[0].plot(val_loss, label='Validation Loss', color='orange')\n",
    "\n",
    "ax[1].plot(train_acc, label='Train Accuracy', color='blue')\n",
    "ax[1].plot(val_acc, label='Validation Accuracy', color='orange')\n",
    "plt.legend()\n",
    "plt.show()"
   ]
  },
  {
   "cell_type": "code",
   "execution_count": 108,
   "metadata": {},
   "outputs": [
    {
     "name": "stdout",
     "output_type": "stream",
     "text": [
      "[ 7 33  1  8  8  2 11  6  3  1  1  2  2  0  0  0  0  0  0  0  0]\n"
     ]
    }
   ],
   "source": [
    "### Testing predictions ###\n",
    "predictions = model.predict(data_en_seq[0:200])\n",
    "print(np.argmax(predictions, axis=-1)[0])"
   ]
  },
  {
   "cell_type": "code",
   "execution_count": 111,
   "metadata": {},
   "outputs": [
    {
     "data": {
      "text/plain": [
       "['la jersey est parfois parfois en l et il est est en en']"
      ]
     },
     "execution_count": 111,
     "metadata": {},
     "output_type": "execute_result"
    }
   ],
   "source": [
    "fr_tokenizer.sequences_to_texts([np.argmax(predictions, axis=-1)[0]])"
   ]
  },
  {
   "cell_type": "code",
   "execution_count": null,
   "metadata": {},
   "outputs": [],
   "source": []
  }
 ],
 "metadata": {
  "kernelspec": {
   "display_name": "Python 3",
   "language": "python",
   "name": "python3"
  },
  "language_info": {
   "codemirror_mode": {
    "name": "ipython",
    "version": 3
   },
   "file_extension": ".py",
   "mimetype": "text/x-python",
   "name": "python",
   "nbconvert_exporter": "python",
   "pygments_lexer": "ipython3",
   "version": "3.8.5"
  }
 },
 "nbformat": 4,
 "nbformat_minor": 4
}
