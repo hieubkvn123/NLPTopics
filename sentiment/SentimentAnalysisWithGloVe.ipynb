{
  "nbformat": 4,
  "nbformat_minor": 0,
  "metadata": {
    "colab": {
      "name": "SentimentAnalysisWithGloVe.ipynb",
      "provenance": [],
      "collapsed_sections": []
    },
    "kernelspec": {
      "name": "python3",
      "display_name": "Python 3"
    },
    "language_info": {
      "name": "python"
    },
    "accelerator": "GPU"
  },
  "cells": [
    {
      "cell_type": "markdown",
      "metadata": {
        "id": "gaql0JRl-C2J"
      },
      "source": [
        "# Importing libraries"
      ]
    },
    {
      "cell_type": "code",
      "metadata": {
        "colab": {
          "base_uri": "https://localhost:8080/"
        },
        "id": "DtUwtBk89Zo2",
        "outputId": "bb9ec73f-0cf3-4205-f57e-ceff4c029d40"
      },
      "source": [
        "from google.colab import drive\n",
        "drive.mount(\"/content/drive\", force_remount=True)\n",
        "\n",
        "import re\n",
        "import tqdm\n",
        "import string\n",
        "import unicodedata\n",
        "import numpy as np\n",
        "import pandas as pd\n",
        "import matplotlib.pyplot as plt \n",
        "\n",
        "### Tensorflow dependencies ###\n",
        "import tensorflow as tf\n",
        "from tensorflow.keras.layers import *\n",
        "from tensorflow.keras.optimizers import Adam\n",
        "from tensorflow.keras.models import Model, Sequential \n",
        "from tensorflow.keras import backend as K\n",
        "from tensorflow.keras.preprocessing.text import Tokenizer\n",
        "from tensorflow.keras.preprocessing.sequence import pad_sequences\n",
        "\n",
        "### Scikit-learn dependencies ###\n",
        "from sklearn.svm import LinearSVC\n",
        "from sklearn.naive_bayes import MultinomialNB\n",
        "from sklearn.linear_model import LogisticRegression\n",
        "from sklearn.decomposition import PCA\n",
        "from sklearn.manifold import  TSNE\n",
        "from sklearn.feature_extraction.text import CountVectorizer\n",
        "from sklearn.feature_extraction.text import TfidfVectorizer\n",
        "from sklearn.model_selection import train_test_split\n",
        "from sklearn.metrics import accuracy_score, f1_score, confusion_matrix, classification_report\n",
        "\n",
        "### nltk dependencies ###\n",
        "import nltk\n",
        "from nltk.corpus import stopwords\n",
        "from nltk.tokenize import word_tokenize\n",
        "from nltk.stem.wordnet import WordNetLemmatizer\n",
        "\n",
        "### Download nltk data ###\n",
        "!python3 -m nltk.downloader punkt\n",
        "!python3 -m nltk.downloader stopwords\n",
        "!python3 -m nltk.downloader wordnet\n",
        "\n",
        "### Some constants ###\n",
        "true_path = \"/content/drive/My Drive/True.csv\"\n",
        "fake_path = \"/content/drive/My Drive/Fake.csv\"\n",
        "glove_emb_file = '/content/drive/My Drive/glove.twitter.27B.100d.txt'"
      ],
      "execution_count": 9,
      "outputs": [
        {
          "output_type": "stream",
          "text": [
            "Mounted at /content/drive\n",
            "/usr/lib/python3.7/runpy.py:125: RuntimeWarning: 'nltk.downloader' found in sys.modules after import of package 'nltk', but prior to execution of 'nltk.downloader'; this may result in unpredictable behaviour\n",
            "  warn(RuntimeWarning(msg))\n",
            "[nltk_data] Downloading package punkt to /root/nltk_data...\n",
            "[nltk_data]   Package punkt is already up-to-date!\n",
            "/usr/lib/python3.7/runpy.py:125: RuntimeWarning: 'nltk.downloader' found in sys.modules after import of package 'nltk', but prior to execution of 'nltk.downloader'; this may result in unpredictable behaviour\n",
            "  warn(RuntimeWarning(msg))\n",
            "[nltk_data] Downloading package stopwords to /root/nltk_data...\n",
            "[nltk_data]   Package stopwords is already up-to-date!\n",
            "/usr/lib/python3.7/runpy.py:125: RuntimeWarning: 'nltk.downloader' found in sys.modules after import of package 'nltk', but prior to execution of 'nltk.downloader'; this may result in unpredictable behaviour\n",
            "  warn(RuntimeWarning(msg))\n",
            "[nltk_data] Downloading package wordnet to /root/nltk_data...\n",
            "[nltk_data]   Package wordnet is already up-to-date!\n"
          ],
          "name": "stdout"
        }
      ]
    },
    {
      "cell_type": "markdown",
      "metadata": {
        "id": "WXEWUTDfEb5W"
      },
      "source": [
        "# Loading and preprocessing text data"
      ]
    },
    {
      "cell_type": "markdown",
      "metadata": {
        "id": "iUPJALldFiXv"
      },
      "source": [
        "### Loading data"
      ]
    },
    {
      "cell_type": "code",
      "metadata": {
        "colab": {
          "base_uri": "https://localhost:8080/",
          "height": 363
        },
        "id": "6Qc899J0_-Mf",
        "outputId": "6aff1544-ea0a-4014-c5c7-955a1bae86bc"
      },
      "source": [
        "df_true = pd.read_csv(true_path, header=0).sample(n=10000, random_state=np.random.randint(0,40000))\n",
        "df_fake = pd.read_csv(fake_path, header=0).sample(n=10000, random_state=np.random.randint(0,40000))\n",
        "\n",
        "df_true['label'] = 1\n",
        "df_fake['label'] = 0\n",
        "df = pd.concat([df_true, df_fake])\n",
        "\n",
        "df.head(10)"
      ],
      "execution_count": 2,
      "outputs": [
        {
          "output_type": "execute_result",
          "data": {
            "text/html": [
              "<div>\n",
              "<style scoped>\n",
              "    .dataframe tbody tr th:only-of-type {\n",
              "        vertical-align: middle;\n",
              "    }\n",
              "\n",
              "    .dataframe tbody tr th {\n",
              "        vertical-align: top;\n",
              "    }\n",
              "\n",
              "    .dataframe thead th {\n",
              "        text-align: right;\n",
              "    }\n",
              "</style>\n",
              "<table border=\"1\" class=\"dataframe\">\n",
              "  <thead>\n",
              "    <tr style=\"text-align: right;\">\n",
              "      <th></th>\n",
              "      <th>title</th>\n",
              "      <th>text</th>\n",
              "      <th>subject</th>\n",
              "      <th>date</th>\n",
              "      <th>label</th>\n",
              "    </tr>\n",
              "  </thead>\n",
              "  <tbody>\n",
              "    <tr>\n",
              "      <th>11211</th>\n",
              "      <td>Trump fans in Iowa cheer his debate performance</td>\n",
              "      <td>WAUKEE, Iowa (Reuters) - It was not hard to te...</td>\n",
              "      <td>politicsNews</td>\n",
              "      <td>January 15, 2016</td>\n",
              "      <td>1</td>\n",
              "    </tr>\n",
              "    <tr>\n",
              "      <th>18807</th>\n",
              "      <td>UK business, unions ally to urge Brexit citize...</td>\n",
              "      <td>LONDON (Reuters) - Britain s leading business ...</td>\n",
              "      <td>worldnews</td>\n",
              "      <td>September 28, 2017</td>\n",
              "      <td>1</td>\n",
              "    </tr>\n",
              "    <tr>\n",
              "      <th>20233</th>\n",
              "      <td>Average of polls puts New Zealand's ruling Nat...</td>\n",
              "      <td>WELLINGTON (Reuters) - New Zealand s ruling Na...</td>\n",
              "      <td>worldnews</td>\n",
              "      <td>September 13, 2017</td>\n",
              "      <td>1</td>\n",
              "    </tr>\n",
              "    <tr>\n",
              "      <th>1568</th>\n",
              "      <td>House panel probing private email use by White...</td>\n",
              "      <td>WASHINGTON (Reuters) - A U.S. House of Represe...</td>\n",
              "      <td>politicsNews</td>\n",
              "      <td>September 26, 2017</td>\n",
              "      <td>1</td>\n",
              "    </tr>\n",
              "    <tr>\n",
              "      <th>6289</th>\n",
              "      <td>Unlike Trump, Americans want strong environmen...</td>\n",
              "      <td>NEW YORK (Reuters) - More than 60 percent of A...</td>\n",
              "      <td>politicsNews</td>\n",
              "      <td>January 17, 2017</td>\n",
              "      <td>1</td>\n",
              "    </tr>\n",
              "    <tr>\n",
              "      <th>4360</th>\n",
              "      <td>China's Xi urges trade cooperation in first me...</td>\n",
              "      <td>PALM BEACH, Fla. (Reuters) - Chinese President...</td>\n",
              "      <td>politicsNews</td>\n",
              "      <td>April 6, 2017</td>\n",
              "      <td>1</td>\n",
              "    </tr>\n",
              "    <tr>\n",
              "      <th>2972</th>\n",
              "      <td>States' Medicaid spending to increase under Se...</td>\n",
              "      <td>NEW YORK (Reuters) - The now-delayed U.S. Sena...</td>\n",
              "      <td>politicsNews</td>\n",
              "      <td>June 28, 2017</td>\n",
              "      <td>1</td>\n",
              "    </tr>\n",
              "    <tr>\n",
              "      <th>17744</th>\n",
              "      <td>Hezbollah dismisses U.S. rewards for arrest of...</td>\n",
              "      <td>BEIRUT (Reuters) - Lebanon s Hezbollah group d...</td>\n",
              "      <td>worldnews</td>\n",
              "      <td>October 11, 2017</td>\n",
              "      <td>1</td>\n",
              "    </tr>\n",
              "    <tr>\n",
              "      <th>18134</th>\n",
              "      <td>Italy high court upholds four-year sentence on...</td>\n",
              "      <td>ROME (Reuters) - Italy s highest court on Frid...</td>\n",
              "      <td>worldnews</td>\n",
              "      <td>October 6, 2017</td>\n",
              "      <td>1</td>\n",
              "    </tr>\n",
              "    <tr>\n",
              "      <th>20895</th>\n",
              "      <td>Germany says EU states must implement court ru...</td>\n",
              "      <td>BERLIN (Reuters) - German Foreign Minister Sig...</td>\n",
              "      <td>worldnews</td>\n",
              "      <td>September 6, 2017</td>\n",
              "      <td>1</td>\n",
              "    </tr>\n",
              "  </tbody>\n",
              "</table>\n",
              "</div>"
            ],
            "text/plain": [
              "                                                   title  ... label\n",
              "11211    Trump fans in Iowa cheer his debate performance  ...     1\n",
              "18807  UK business, unions ally to urge Brexit citize...  ...     1\n",
              "20233  Average of polls puts New Zealand's ruling Nat...  ...     1\n",
              "1568   House panel probing private email use by White...  ...     1\n",
              "6289   Unlike Trump, Americans want strong environmen...  ...     1\n",
              "4360   China's Xi urges trade cooperation in first me...  ...     1\n",
              "2972   States' Medicaid spending to increase under Se...  ...     1\n",
              "17744  Hezbollah dismisses U.S. rewards for arrest of...  ...     1\n",
              "18134  Italy high court upholds four-year sentence on...  ...     1\n",
              "20895  Germany says EU states must implement court ru...  ...     1\n",
              "\n",
              "[10 rows x 5 columns]"
            ]
          },
          "metadata": {
            "tags": []
          },
          "execution_count": 2
        }
      ]
    },
    {
      "cell_type": "markdown",
      "metadata": {
        "id": "bfTbp5DxFkzF"
      },
      "source": [
        "### Cleaning text data"
      ]
    },
    {
      "cell_type": "code",
      "metadata": {
        "id": "TC2fE4ebEqgu"
      },
      "source": [
        "def cleanhtml(raw_html):\n",
        "  cleanr = re.compile('<.*?>|&([a-z0-9]+|#[0-9]{1,6}|#x[0-9a-f]{1,6});')\n",
        "  cleantext = re.sub(cleanr, '', raw_html)\n",
        "  return cleantext\n",
        "\n",
        "def remove_accents(input_str):\n",
        "    nfkd_form = unicodedata.normalize('NFKD', input_str)\n",
        "    only_ascii = nfkd_form.encode('ASCII', 'ignore')\n",
        "    return only_ascii.decode()\n",
        "\n",
        "# Dictionary of English Contractions\n",
        "contractions_dict = { \"ain't\": \"are not\",\"'s\":\" is\",\"aren't\": \"are not\",\n",
        "                     \"can't\": \"cannot\",\"can't've\": \"cannot have\",\n",
        "                     \"'cause\": \"because\",\"could've\": \"could have\",\"couldn't\": \"could not\",\n",
        "                     \"couldn't've\": \"could not have\", \"didn't\": \"did not\",\"doesn't\": \"does not\",\n",
        "                     \"don't\": \"do not\",\"hadn't\": \"had not\",\"hadn't've\": \"had not have\",\n",
        "                     \"hasn't\": \"has not\",\"haven't\": \"have not\",\"he'd\": \"he would\",\n",
        "                     \"he'd've\": \"he would have\",\"he'll\": \"he will\", \"he'll've\": \"he will have\",\n",
        "                     \"how'd\": \"how did\",\"how'd'y\": \"how do you\",\"how'll\": \"how will\",\n",
        "                     \"I'd\": \"I would\", \"I'd've\": \"I would have\",\"I'll\": \"I will\",\n",
        "                     \"I'll've\": \"I will have\",\"I'm\": \"I am\",\"I've\": \"I have\", \"isn't\": \"is not\",\n",
        "                     \"it'd\": \"it would\",\"it'd've\": \"it would have\",\"it'll\": \"it will\",\n",
        "                     \"it'll've\": \"it will have\", \"let's\": \"let us\",\"ma'am\": \"madam\",\n",
        "                     \"mayn't\": \"may not\",\"might've\": \"might have\",\"mightn't\": \"might not\", \n",
        "                     \"mightn't've\": \"might not have\",\"must've\": \"must have\",\"mustn't\": \"must not\",\n",
        "                     \"mustn't've\": \"must not have\", \"needn't\": \"need not\",\n",
        "                     \"needn't've\": \"need not have\",\"o'clock\": \"of the clock\",\"oughtn't\": \"ought not\",\n",
        "                     \"oughtn't've\": \"ought not have\",\"shan't\": \"shall not\",\"sha'n't\": \"shall not\",\n",
        "                     \"shan't've\": \"shall not have\",\"she'd\": \"she would\",\"she'd've\": \"she would have\",\n",
        "                     \"she'll\": \"she will\", \"she'll've\": \"she will have\",\"should've\": \"should have\",\n",
        "                     \"shouldn't\": \"should not\", \"shouldn't've\": \"should not have\",\"so've\": \"so have\",\n",
        "                     \"that'd\": \"that would\",\"that'd've\": \"that would have\", \"there'd\": \"there would\",\n",
        "                     \"there'd've\": \"there would have\", \"they'd\": \"they would\",\n",
        "                     \"they'd've\": \"they would have\",\"they'll\": \"they will\",\n",
        "                     \"they'll've\": \"they will have\", \"they're\": \"they are\",\"they've\": \"they have\",\n",
        "                     \"to've\": \"to have\",\"wasn't\": \"was not\",\"we'd\": \"we would\",\n",
        "                     \"we'd've\": \"we would have\",\"we'll\": \"we will\",\"we'll've\": \"we will have\",\n",
        "                     \"we're\": \"we are\",\"we've\": \"we have\", \"weren't\": \"were not\",\"what'll\": \"what will\",\n",
        "                     \"what'll've\": \"what will have\",\"what're\": \"what are\", \"what've\": \"what have\",\n",
        "                     \"when've\": \"when have\",\"where'd\": \"where did\", \"where've\": \"where have\",\n",
        "                     \"who'll\": \"who will\",\"who'll've\": \"who will have\",\"who've\": \"who have\",\n",
        "                     \"why've\": \"why have\",\"will've\": \"will have\",\"won't\": \"will not\",\n",
        "                     \"won't've\": \"will not have\", \"would've\": \"would have\",\"wouldn't\": \"would not\",\n",
        "                     \"wouldn't've\": \"would not have\",\"y'all\": \"you all\", \"y'all'd\": \"you all would\",\n",
        "                     \"y'all'd've\": \"you all would have\",\"y'all're\": \"you all are\",\n",
        "                     \"y'all've\": \"you all have\", \"you'd\": \"you would\",\"you'd've\": \"you would have\",\n",
        "                     \"you'll\": \"you will\",\"you'll've\": \"you will have\", \"you're\": \"you are\",\n",
        "                     \"you've\": \"you have\"}\n",
        "\n",
        "# Regular expression for finding contractions\n",
        "contractions_re=re.compile('(%s)' % '|'.join(contractions_dict.keys()))\n",
        "\n",
        "# Function for expanding contractions\n",
        "def expand_contractions(text,contractions_dict=contractions_dict):\n",
        "    def replace(match):\n",
        "        return contractions_dict[match.group(0)]\n",
        "    return contractions_re.sub(replace, text)\n",
        "\n",
        "stop_words = set(stopwords.words('english')) # Assuming all nltk data is installed\n",
        "lemmatizer = WordNetLemmatizer()\n",
        "\n",
        "def filter_stopwords(text):\n",
        "    word_tokens = word_tokenize(text)\n",
        "    filtered = [lemmatizer.lemmatize(w) for w in word_tokens if not w in stop_words]\n",
        "    filtered_sentence = ' '.join(filtered)\n",
        "\n",
        "    ### Removing all special characters ###\n",
        "    special_chars = ['…', '–', '’', '‘', '”', '“']\n",
        "\n",
        "    for char_ in special_chars:\n",
        "      filtered_sentence = filtered_sentence.replace(char_, \"\")\n",
        "\n",
        "    # Removal of extra spaces\n",
        "    filtered_sentence = re.sub(' +',' ',filtered_sentence)\n",
        "    return filtered_sentence\n",
        "\n",
        "def preprocessing_text(text):\n",
        "  ### 1. Removing tags and accented data ###\n",
        "  text = cleanhtml(text)\n",
        "  text = remove_accents(text)\n",
        "\n",
        "  ### 2. Expanding contractions ###\n",
        "  text = expand_contractions(text)\n",
        "\n",
        "  ### 3. Removing punctuations + lowercasing ###\n",
        "  text = text.lower()\n",
        "  text = re.sub('[%s]' % re.escape(string.punctuation), '', text)\n",
        "\n",
        "  ### 4. Removing special characters ### \n",
        "  #text = re.sub('[^A-Za-z0-9]+', ' ', text) # Remove non-text chars\n",
        "  #text = re.sub(' +',' ',text) # Remove extra spaces\n",
        "  #text = re.sub('\\w*\\d\\w*','', text) # Remove digits\n",
        "  \n",
        "  ### 5. Lemmatization and stopwords removal ###\n",
        "  text = filter_stopwords(text)\n",
        "\n",
        "  return text"
      ],
      "execution_count": 3,
      "outputs": []
    },
    {
      "cell_type": "code",
      "metadata": {
        "colab": {
          "base_uri": "https://localhost:8080/"
        },
        "id": "xMUeE_rrGw4e",
        "outputId": "0229075b-9ac3-471f-9b5e-4268ef67f2bc"
      },
      "source": [
        "df['title'] = df['title'].apply(lambda x : preprocessing_text(x))\n",
        "df['text']  = df['text'].apply(lambda x : preprocessing_text(x))\n",
        "df['title'].head(10)"
      ],
      "execution_count": 4,
      "outputs": [
        {
          "output_type": "execute_result",
          "data": {
            "text/plain": [
              "11211              trump fan iowa cheer debate performance\n",
              "18807    uk business union ally urge brexit citizenship...\n",
              "20233    average poll put new zealand ruling national a...\n",
              "1568     house panel probing private email use white ho...\n",
              "6289     unlike trump american want strong environmenta...\n",
              "4360     china xi urge trade cooperation first meeting ...\n",
              "2972     state medicaid spending increase senate bill r...\n",
              "17744        hezbollah dismisses u reward arrest operative\n",
              "18134    italy high court upholds fouryear sentence vet...\n",
              "20895    germany say eu state must implement court ruli...\n",
              "Name: title, dtype: object"
            ]
          },
          "metadata": {
            "tags": []
          },
          "execution_count": 4
        }
      ]
    },
    {
      "cell_type": "markdown",
      "metadata": {
        "id": "hnKJZxnmJ8wk"
      },
      "source": [
        "# Feature engineering methods comparision"
      ]
    },
    {
      "cell_type": "code",
      "metadata": {
        "colab": {
          "base_uri": "https://localhost:8080/"
        },
        "id": "xsFkJ8-nIuZj",
        "outputId": "8d278242-2444-4447-8d51-734b65f5834c"
      },
      "source": [
        "count_vec = CountVectorizer(min_df=5)\n",
        "bi_count_vec = CountVectorizer(min_df=3, ngram_range=(1,2))\n",
        "tf_idf_vec = TfidfVectorizer(min_df=5)\n",
        "\n",
        "features_text = df['title'].values\n",
        "targets = df['label'].values\n",
        "\n",
        "### Using Bag-of-words ###\n",
        "model = LogisticRegression()\n",
        "features = count_vec.fit_transform(features_text).toarray()\n",
        "x_train, x_val, y_train, y_val = train_test_split(features, targets, test_size=0.33333)\n",
        "model.fit(x_train, y_train)\n",
        "predictions = model.predict(x_val)\n",
        "accuracy_bow = accuracy_score(y_val, predictions)\n",
        "print(f'[INFO] Accuracy of logistic regression when using BOW : {accuracy_bow}')\n",
        "\n",
        "### Using N-gram Bow ###\n",
        "model = LogisticRegression()\n",
        "features = bi_count_vec.fit_transform(features_text).toarray()\n",
        "x_train, x_val, y_train, y_val = train_test_split(features, targets, test_size=0.33333)\n",
        "model.fit(x_train, y_train)\n",
        "predictions = model.predict(x_val)\n",
        "accuracy_ngram = accuracy_score(y_val, predictions)\n",
        "print(f'[INFO] Accuracy of logistic regression when using Ngram-BOW : {accuracy_ngram}')\n",
        "\n",
        "### Using Tf-Idf ###\n",
        "model = LogisticRegression()\n",
        "features = tf_idf_vec.fit_transform(features_text).toarray()\n",
        "x_train, x_val, y_train, y_val = train_test_split(features, targets, test_size=0.33333)\n",
        "model.fit(x_train, y_train)\n",
        "predictions = model.predict(x_val)\n",
        "accuracy_tf_idf = accuracy_score(y_val, predictions)\n",
        "print(f'[INFO] Accuracy of logistic regression when using BOW : {accuracy_tf_idf}')"
      ],
      "execution_count": 5,
      "outputs": [
        {
          "output_type": "stream",
          "text": [
            "[INFO] Accuracy of logistic regression when using BOW : 0.9250037498125093\n",
            "[INFO] Accuracy of logistic regression when using Ngram-BOW : 0.9388030598470076\n",
            "[INFO] Accuracy of logistic regression when using BOW : 0.9374531273436328\n"
          ],
          "name": "stdout"
        }
      ]
    },
    {
      "cell_type": "markdown",
      "metadata": {
        "id": "779J-FC6CBwt"
      },
      "source": [
        "# Loading GloVe pretrain embedding"
      ]
    },
    {
      "cell_type": "code",
      "metadata": {
        "id": "0owFCRjtK6tm",
        "colab": {
          "base_uri": "https://localhost:8080/"
        },
        "outputId": "537fc55d-1822-485f-ea30-83a8eef509d1"
      },
      "source": [
        "# Loading embedding as a dictionary\n",
        "f = open(glove_emb_file, 'r').readlines()\n",
        "word_emb = {}\n",
        "vectors = []\n",
        "\n",
        "print('[INFO] Loading word embeddings into dict...')\n",
        "with tqdm.tqdm(total=len(f)) as pbar:\n",
        "  for i in range(len(f)):\n",
        "    elems = f[i].strip().split(' ')\n",
        "    vec = np.array(elems[1:101], dtype=float)\n",
        "    word_emb[elems[0]] = vec\n",
        "\n",
        "    pbar.update(1)"
      ],
      "execution_count": 6,
      "outputs": [
        {
          "output_type": "stream",
          "text": [
            "  0%|          | 4160/1193514 [00:00<00:28, 41591.51it/s]"
          ],
          "name": "stderr"
        },
        {
          "output_type": "stream",
          "text": [
            "[INFO] Loading word embeddings into dict...\n"
          ],
          "name": "stdout"
        },
        {
          "output_type": "stream",
          "text": [
            "100%|██████████| 1193514/1193514 [00:27<00:00, 42832.00it/s]\n"
          ],
          "name": "stderr"
        }
      ]
    },
    {
      "cell_type": "code",
      "metadata": {
        "colab": {
          "base_uri": "https://localhost:8080/",
          "height": 667
        },
        "id": "so65-1w_SY-e",
        "outputId": "8d32750c-b75c-4a0e-9cfc-0e2dba3749cc"
      },
      "source": [
        "# Visualize some words in glove\n",
        "tsne = TSNE(n_components=2)\n",
        "keys = list(word_emb.keys()) \n",
        "vectors = []\n",
        "\n",
        "fig, ax = plt.subplots(figsize=(10, 5))\n",
        "for i in range(100):\n",
        "  vector = word_emb[keys[i]]\n",
        "  vectors.append(vector)\n",
        "\n",
        "vectors = tsne.fit_transform(vectors)\n",
        "ax.scatter(vectors[:,0], vectors[:,1])\n",
        "for i in range(100):\n",
        "  ax.annotate(keys[i], (vectors[:,0][i], vectors[:,1][i]))\n",
        "\n",
        "plt.show()"
      ],
      "execution_count": 7,
      "outputs": [
        {
          "output_type": "stream",
          "text": [
            "/usr/local/lib/python3.7/dist-packages/matplotlib/backends/backend_agg.py:214: RuntimeWarning: Glyph 65281 missing from current font.\n",
            "  font.set_text(s, 0.0, flags=flags)\n",
            "/usr/local/lib/python3.7/dist-packages/matplotlib/backends/backend_agg.py:214: RuntimeWarning: Glyph 12290 missing from current font.\n",
            "  font.set_text(s, 0.0, flags=flags)\n",
            "/usr/local/lib/python3.7/dist-packages/matplotlib/backends/backend_agg.py:214: RuntimeWarning: Glyph 12289 missing from current font.\n",
            "  font.set_text(s, 0.0, flags=flags)\n",
            "/usr/local/lib/python3.7/dist-packages/matplotlib/backends/backend_agg.py:214: RuntimeWarning: Glyph 65311 missing from current font.\n",
            "  font.set_text(s, 0.0, flags=flags)\n",
            "/usr/local/lib/python3.7/dist-packages/matplotlib/backends/backend_agg.py:214: RuntimeWarning: Glyph 12539 missing from current font.\n",
            "  font.set_text(s, 0.0, flags=flags)\n",
            "/usr/local/lib/python3.7/dist-packages/matplotlib/backends/backend_agg.py:183: RuntimeWarning: Glyph 65281 missing from current font.\n",
            "  font.set_text(s, 0, flags=flags)\n",
            "/usr/local/lib/python3.7/dist-packages/matplotlib/backends/backend_agg.py:183: RuntimeWarning: Glyph 12290 missing from current font.\n",
            "  font.set_text(s, 0, flags=flags)\n",
            "/usr/local/lib/python3.7/dist-packages/matplotlib/backends/backend_agg.py:183: RuntimeWarning: Glyph 12289 missing from current font.\n",
            "  font.set_text(s, 0, flags=flags)\n",
            "/usr/local/lib/python3.7/dist-packages/matplotlib/backends/backend_agg.py:183: RuntimeWarning: Glyph 65311 missing from current font.\n",
            "  font.set_text(s, 0, flags=flags)\n",
            "/usr/local/lib/python3.7/dist-packages/matplotlib/backends/backend_agg.py:183: RuntimeWarning: Glyph 12539 missing from current font.\n",
            "  font.set_text(s, 0, flags=flags)\n"
          ],
          "name": "stderr"
        },
        {
          "output_type": "display_data",
          "data": {
            "image/png": "[encoded data removed]",
            "text/plain": [
              "<Figure size 720x360 with 1 Axes>"
            ]
          },
          "metadata": {
            "tags": [],
            "needs_background": "light"
          }
        }
      ]
    },
    {
      "cell_type": "markdown",
      "metadata": {
        "id": "2X1EsxCJe6Dp"
      },
      "source": [
        "# Building LSTM model with embedding"
      ]
    },
    {
      "cell_type": "code",
      "metadata": {
        "colab": {
          "base_uri": "https://localhost:8080/"
        },
        "id": "Gp5e1TayY3i5",
        "outputId": "e5b402ae-f5af-4aef-a4cd-ced886bf2600"
      },
      "source": [
        "# Map words to integers\n",
        "tokenizer = Tokenizer(char_level=False, oov_token='<None>')\n",
        "tokenizer.fit_on_texts(features_text)\n",
        "word_to_index = tokenizer.word_index \n",
        "\n",
        "features = pad_sequences(tokenizer.texts_to_sequences(features_text))\n",
        "max_seq_len = features.shape[1]\n",
        "emb_vector_len = word_emb['fuck'].shape[0]\n",
        "vocab_size = np.max(features.flatten()) + 1\n",
        "\n",
        "# construct embedding matrix that correspond with our training data\n",
        "print('[INFO] Creating embedding matrix ... ')\n",
        "emb_matrix = np.zeros((vocab_size, emb_vector_len))\n",
        "\n",
        "with tqdm.tqdm(total=vocab_size) as pbar:\n",
        "  for word, index in word_to_index.items():\n",
        "    if(word in keys):\n",
        "      emb_vector = word_emb[word]\n",
        "      if(emb_vector is not None):\n",
        "        emb_matrix[index, :] = emb_vector \n",
        "\n",
        "    pbar.update(1)\n"
      ],
      "execution_count": 30,
      "outputs": [
        {
          "output_type": "stream",
          "text": [
            "  1%|          | 144/16850 [00:00<00:11, 1439.46it/s]"
          ],
          "name": "stderr"
        },
        {
          "output_type": "stream",
          "text": [
            "[INFO] Creating embedding matrix ... \n"
          ],
          "name": "stdout"
        },
        {
          "output_type": "stream",
          "text": [
            "100%|█████████▉| 16849/16850 [02:12<00:00, 127.36it/s]\n"
          ],
          "name": "stderr"
        }
      ]
    },
    {
      "cell_type": "code",
      "metadata": {
        "colab": {
          "base_uri": "https://localhost:8080/"
        },
        "id": "SrJqgM73gAXT",
        "outputId": "a1f9a039-0c6d-4486-b84c-1a569b3697f7"
      },
      "source": [
        "# build the model with the embedding matrix created\n",
        "def build_model(vocab_size, seq_len, emb_matrix, num_classes):\n",
        "  inputs = Input(shape=(seq_len,))\n",
        "  emb_layer = Embedding(vocab_size, 100, input_length=seq_len, weights=[emb_matrix], trainable=False)(inputs)\n",
        "\n",
        "  rnn = Bidirectional(LSTM(64, return_sequences=True, recurrent_dropout=0.25, dropout=0.25))(emb_layer)\n",
        "  rnn = Bidirectional(LSTM(64, return_sequences=False, recurrent_dropout=0.1, dropout=0.1))(rnn)\n",
        "\n",
        "  fc = Dense(128, activation='relu')(rnn)\n",
        "  output = Dense(num_classes, activation='softmax')(fc)\n",
        "  model = Model(inputs=inputs, outputs=output, name='SentimentAnalysis_GloVe')\n",
        "  return model \n",
        "\n",
        "optimizer = Adam(lr=0.0001, beta_1=0.5, amsgrad=True)\n",
        "model = build_model(vocab_size, max_seq_len, emb_matrix, 2)\n",
        "model.compile(optimizer=optimizer, loss='sparse_categorical_crossentropy', metrics=['accuracy'])\n",
        "print(model.summary())"
      ],
      "execution_count": 35,
      "outputs": [
        {
          "output_type": "stream",
          "text": [
            "WARNING:tensorflow:Layer lstm_13 will not use cuDNN kernel since it doesn't meet the cuDNN kernel criteria. It will use generic GPU kernel as fallback when running on GPU\n",
            "WARNING:tensorflow:Layer lstm_13 will not use cuDNN kernel since it doesn't meet the cuDNN kernel criteria. It will use generic GPU kernel as fallback when running on GPU\n",
            "WARNING:tensorflow:Layer lstm_13 will not use cuDNN kernel since it doesn't meet the cuDNN kernel criteria. It will use generic GPU kernel as fallback when running on GPU\n",
            "WARNING:tensorflow:Layer lstm_14 will not use cuDNN kernel since it doesn't meet the cuDNN kernel criteria. It will use generic GPU kernel as fallback when running on GPU\n",
            "WARNING:tensorflow:Layer lstm_14 will not use cuDNN kernel since it doesn't meet the cuDNN kernel criteria. It will use generic GPU kernel as fallback when running on GPU\n",
            "WARNING:tensorflow:Layer lstm_14 will not use cuDNN kernel since it doesn't meet the cuDNN kernel criteria. It will use generic GPU kernel as fallback when running on GPU\n",
            "Model: \"SentimentAnalysis_GloVe\"\n",
            "_________________________________________________________________\n",
            "Layer (type)                 Output Shape              Param #   \n",
            "=================================================================\n",
            "input_8 (InputLayer)         [(None, 28)]              0         \n",
            "_________________________________________________________________\n",
            "embedding_7 (Embedding)      (None, 28, 100)           1685000   \n",
            "_________________________________________________________________\n",
            "bidirectional_13 (Bidirectio (None, 28, 128)           84480     \n",
            "_________________________________________________________________\n",
            "bidirectional_14 (Bidirectio (None, 128)               98816     \n",
            "_________________________________________________________________\n",
            "dense_12 (Dense)             (None, 128)               16512     \n",
            "_________________________________________________________________\n",
            "dense_13 (Dense)             (None, 2)                 258       \n",
            "=================================================================\n",
            "Total params: 1,885,066\n",
            "Trainable params: 200,066\n",
            "Non-trainable params: 1,685,000\n",
            "_________________________________________________________________\n",
            "None\n"
          ],
          "name": "stdout"
        }
      ]
    },
    {
      "cell_type": "code",
      "metadata": {
        "colab": {
          "base_uri": "https://localhost:8080/"
        },
        "id": "7dpulYPEm8h4",
        "outputId": "adadc13b-bf87-4b36-bb9d-3dc80f651094"
      },
      "source": [
        "X_train, X_test, Y_train, Y_test = train_test_split(features, df['label'].values, test_size=0.33333)\n",
        "history = model.fit(X_train, Y_train, validation_data=(X_test, Y_test), batch_size=64, epochs=10)"
      ],
      "execution_count": 36,
      "outputs": [
        {
          "output_type": "stream",
          "text": [
            "Epoch 1/10\n",
            "209/209 [==============================] - 92s 393ms/step - loss: 0.5346 - accuracy: 0.7534 - val_loss: 0.2450 - val_accuracy: 0.8991\n",
            "Epoch 2/10\n",
            "209/209 [==============================] - 83s 396ms/step - loss: 0.2716 - accuracy: 0.8847 - val_loss: 0.2314 - val_accuracy: 0.9046\n",
            "Epoch 3/10\n",
            "209/209 [==============================] - 82s 392ms/step - loss: 0.2388 - accuracy: 0.9037 - val_loss: 0.2284 - val_accuracy: 0.9061\n",
            "Epoch 4/10\n",
            "209/209 [==============================] - 81s 388ms/step - loss: 0.2336 - accuracy: 0.9040 - val_loss: 0.1964 - val_accuracy: 0.9223\n",
            "Epoch 5/10\n",
            "209/209 [==============================] - 80s 381ms/step - loss: 0.2167 - accuracy: 0.9128 - val_loss: 0.1941 - val_accuracy: 0.9255\n",
            "Epoch 6/10\n",
            "209/209 [==============================] - 80s 383ms/step - loss: 0.2066 - accuracy: 0.9175 - val_loss: 0.1817 - val_accuracy: 0.9298\n",
            "Epoch 7/10\n",
            "209/209 [==============================] - 79s 377ms/step - loss: 0.2008 - accuracy: 0.9213 - val_loss: 0.1846 - val_accuracy: 0.9286\n",
            "Epoch 8/10\n",
            "209/209 [==============================] - 79s 378ms/step - loss: 0.1895 - accuracy: 0.9265 - val_loss: 0.1853 - val_accuracy: 0.9288\n",
            "Epoch 9/10\n",
            "209/209 [==============================] - 78s 375ms/step - loss: 0.1939 - accuracy: 0.9214 - val_loss: 0.1710 - val_accuracy: 0.9316\n",
            "Epoch 10/10\n",
            "209/209 [==============================] - 79s 376ms/step - loss: 0.1856 - accuracy: 0.9267 - val_loss: 0.1733 - val_accuracy: 0.9325\n"
          ],
          "name": "stdout"
        },
        {
          "output_type": "execute_result",
          "data": {
            "text/plain": [
              "<tensorflow.python.keras.callbacks.History at 0x7fba81033410>"
            ]
          },
          "metadata": {
            "tags": []
          },
          "execution_count": 36
        }
      ]
    },
    {
      "cell_type": "code",
      "metadata": {
        "id": "ItrGx8fInkz-"
      },
      "source": [
        "### Visualization ###\n",
        "loss, val_loss = history.history['loss'], history.history['val_loss']\n",
        "accuracy, val_accuracy = history.history['accuracy'], history.history['val_accuracy']\n",
        "\n",
        "fig, ax = plt.subplots(1,2, figsize=(10, 5))\n",
        "ax[0].plot(loss, color='blue', label='Training Loss')\n",
        "ax[0].plot(val_loss, color='orange', label='Validating Loss')\n",
        "ax[1].plot(accuracy, color='blue', label='Training Accuracy')\n",
        "ax[1].plot(val_accuracy, color='orange', label='Validating Accuracy')\n",
        "\n",
        "ax[0].legend()\n",
        "ax[1].legend()\n",
        "plt.show()"
      ],
      "execution_count": null,
      "outputs": []
    }
  ]
}