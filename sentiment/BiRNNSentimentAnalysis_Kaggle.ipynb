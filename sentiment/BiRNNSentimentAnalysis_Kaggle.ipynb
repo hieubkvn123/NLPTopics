{
 "cells": [
  {
   "cell_type": "markdown",
   "metadata": {
    "papermill": {
     "duration": 0.009738,
     "end_time": "2021-01-31T14:51:15.108391",
     "exception": false,
     "start_time": "2021-01-31T14:51:15.098653",
     "status": "completed"
    },
    "tags": []
   },
   "source": [
    "## Sentiment classification using LSTM\n",
    "In this notebook, we are going to use LSTM architecture to train a model on the movie review dataset for predicting sentiment of the reviews. First of all, let's see what is LSTM?<br/>\n",
    "![LSTM architecture](https://technopremium.com/blog/wp-content/uploads/2019/06/LSTM-cell-structure-1-1200x600.jpg)\n",
    "LSTM, or long short term memory, is a sequential neural network architecture, which preserves memory of the previous sequences using its structure. The first sequence model which was introduced is RNN. But, soon researchers discovered that RNN doesn't preserve much memory of previous sequences. Which results in losing context in long text sequences.<br/>\n",
    "For maintaining this context, LSTM was introduced. In a LSTM cell, there are special structures called gates and cell state, which are changed and maintained to keep memory in the LSTM. For understanding how these structures work, read [this blog](http://colah.github.io/posts/2015-08-Understanding-LSTMs/).<br/>\n",
    "Code wise, we are using tensorflow and keras to build the model and train it. The following references were used to further understand codes/concepts for this project.<br/>\n",
    "### References:\n",
    "(1) [Medium article on keras lstm](https://medium.com/@dclengacher/keras-lstm-recurrent-neural-networks-c1f5febde03d)<br/>\n",
    "(2) [Keras embedding layer documentation](https://keras.io/api/layers/core_layers/embedding/#embedding)<br/>\n",
    "(3) [Keras example of text classification from scratch](https://keras.io/examples/nlp/text_classification_from_scratch/)<br/>\n",
    "(4)[Bi-directional lstm model example](https://keras.io/examples/nlp/bidirectional_lstm_imdb/)<br/>\n",
    "(5)[kaggle notebook for text preprocessing](https://www.kaggle.com/shyambhu/score-and-nsfw-modeling-with-reddit-data)<br/>"
   ]
  },
  {
   "cell_type": "code",
   "execution_count": 2,
   "metadata": {
    "_cell_guid": "b1076dfc-b9ad-4769-8c92-a6c4dae69d19",
    "_uuid": "8f2839f25d086af736a60e9eeb907d3b93b6e0e5",
    "execution": {
     "iopub.execute_input": "2021-01-31T14:51:15.132478Z",
     "iopub.status.busy": "2021-01-31T14:51:15.131498Z",
     "iopub.status.idle": "2021-01-31T14:51:15.136854Z",
     "shell.execute_reply": "2021-01-31T14:51:15.137782Z"
    },
    "papermill": {
     "duration": 0.020979,
     "end_time": "2021-01-31T14:51:15.137962",
     "exception": false,
     "start_time": "2021-01-31T14:51:15.116983",
     "status": "completed"
    },
    "tags": []
   },
   "outputs": [
    {
     "name": "stdout",
     "output_type": "stream",
     "text": [
      "../data/fr_vocab_small.txt\n",
      "../data/sentiment_train.tsv\n",
      "../data/sentiment_test.tsv\n",
      "../data/en_vocab_small.txt\n"
     ]
    }
   ],
   "source": [
    "# This Python 3 environment comes with many helpful analytics libraries installed\n",
    "# It is defined by the kaggle/python Docker image: https://github.com/kaggle/docker-python\n",
    "# For example, here's several helpful packages to load\n",
    "\n",
    "import numpy as np # linear algebra\n",
    "import pandas as pd # data processing, CSV file I/O (e.g. pd.read_csv)\n",
    "\n",
    "# Input data files are available in the read-only \"../input/\" directory\n",
    "# For example, running this (by clicking run or pressing Shift+Enter) will list all files under the input directory\n",
    "\n",
    "import os\n",
    "for dirname, _, filenames in os.walk('../data'):\n",
    "    for filename in filenames:\n",
    "        print(os.path.join(dirname, filename))\n",
    "\n",
    "# You can write up to 20GB to the current directory (/kaggle/working/) that gets preserved as output when you create a version using \"Save & Run All\" \n",
    "# You can also write temporary files to /kaggle/temp/, but they won't be saved outside of the current session"
   ]
  },
  {
   "cell_type": "code",
   "execution_count": 3,
   "metadata": {
    "_cell_guid": "79c7e3d0-c299-4dcb-8224-4455121ee9b0",
    "_uuid": "d629ff2d2480ee46fbb7e2d37f6b5fab8052498a",
    "execution": {
     "iopub.execute_input": "2021-01-31T14:51:15.161733Z",
     "iopub.status.busy": "2021-01-31T14:51:15.161098Z",
     "iopub.status.idle": "2021-01-31T14:51:15.623234Z",
     "shell.execute_reply": "2021-01-31T14:51:15.622764Z"
    },
    "papermill": {
     "duration": 0.475369,
     "end_time": "2021-01-31T14:51:15.623337",
     "exception": false,
     "start_time": "2021-01-31T14:51:15.147968",
     "status": "completed"
    },
    "tags": []
   },
   "outputs": [
    {
     "data": {
      "text/html": [
       "<div>\n",
       "<style scoped>\n",
       "    .dataframe tbody tr th:only-of-type {\n",
       "        vertical-align: middle;\n",
       "    }\n",
       "\n",
       "    .dataframe tbody tr th {\n",
       "        vertical-align: top;\n",
       "    }\n",
       "\n",
       "    .dataframe thead th {\n",
       "        text-align: right;\n",
       "    }\n",
       "</style>\n",
       "<table border=\"1\" class=\"dataframe\">\n",
       "  <thead>\n",
       "    <tr style=\"text-align: right;\">\n",
       "      <th></th>\n",
       "      <th>PhraseId</th>\n",
       "      <th>SentenceId</th>\n",
       "      <th>Phrase</th>\n",
       "      <th>Sentiment</th>\n",
       "    </tr>\n",
       "  </thead>\n",
       "  <tbody>\n",
       "    <tr>\n",
       "      <th>0</th>\n",
       "      <td>1</td>\n",
       "      <td>1</td>\n",
       "      <td>A series of escapades demonstrating the adage ...</td>\n",
       "      <td>1</td>\n",
       "    </tr>\n",
       "    <tr>\n",
       "      <th>1</th>\n",
       "      <td>2</td>\n",
       "      <td>1</td>\n",
       "      <td>A series of escapades demonstrating the adage ...</td>\n",
       "      <td>2</td>\n",
       "    </tr>\n",
       "    <tr>\n",
       "      <th>2</th>\n",
       "      <td>3</td>\n",
       "      <td>1</td>\n",
       "      <td>A series</td>\n",
       "      <td>2</td>\n",
       "    </tr>\n",
       "    <tr>\n",
       "      <th>3</th>\n",
       "      <td>4</td>\n",
       "      <td>1</td>\n",
       "      <td>A</td>\n",
       "      <td>2</td>\n",
       "    </tr>\n",
       "    <tr>\n",
       "      <th>4</th>\n",
       "      <td>5</td>\n",
       "      <td>1</td>\n",
       "      <td>series</td>\n",
       "      <td>2</td>\n",
       "    </tr>\n",
       "  </tbody>\n",
       "</table>\n",
       "</div>"
      ],
      "text/plain": [
       "   PhraseId  SentenceId                                             Phrase  \\\n",
       "0         1           1  A series of escapades demonstrating the adage ...   \n",
       "1         2           1  A series of escapades demonstrating the adage ...   \n",
       "2         3           1                                           A series   \n",
       "3         4           1                                                  A   \n",
       "4         5           1                                             series   \n",
       "\n",
       "   Sentiment  \n",
       "0          1  \n",
       "1          2  \n",
       "2          2  \n",
       "3          2  \n",
       "4          2  "
      ]
     },
     "execution_count": 3,
     "metadata": {},
     "output_type": "execute_result"
    }
   ],
   "source": [
    "train_data = pd.read_csv('../data/sentiment_train.tsv',sep = '\\t')\n",
    "test_data = pd.read_csv('../data/sentiment_test.tsv',sep = '\\t')\n",
    "train_data.head()"
   ]
  },
  {
   "cell_type": "code",
   "execution_count": 4,
   "metadata": {
    "execution": {
     "iopub.execute_input": "2021-01-31T14:51:15.654687Z",
     "iopub.status.busy": "2021-01-31T14:51:15.646843Z",
     "iopub.status.idle": "2021-01-31T14:51:15.657751Z",
     "shell.execute_reply": "2021-01-31T14:51:15.658156Z"
    },
    "papermill": {
     "duration": 0.02551,
     "end_time": "2021-01-31T14:51:15.658269",
     "exception": false,
     "start_time": "2021-01-31T14:51:15.632759",
     "status": "completed"
    },
    "tags": []
   },
   "outputs": [],
   "source": [
    "train_data = train_data.drop(['PhraseId','SentenceId'],axis = 1)\n",
    "test_data = test_data.drop(['PhraseId','SentenceId'],axis = 1)"
   ]
  },
  {
   "cell_type": "code",
   "execution_count": 5,
   "metadata": {
    "execution": {
     "iopub.execute_input": "2021-01-31T14:51:15.681585Z",
     "iopub.status.busy": "2021-01-31T14:51:15.681075Z",
     "iopub.status.idle": "2021-01-31T14:51:20.497306Z",
     "shell.execute_reply": "2021-01-31T14:51:20.495860Z"
    },
    "papermill": {
     "duration": 4.829794,
     "end_time": "2021-01-31T14:51:20.497417",
     "exception": false,
     "start_time": "2021-01-31T14:51:15.667623",
     "status": "completed"
    },
    "tags": []
   },
   "outputs": [],
   "source": [
    "import tensorflow as tf\n",
    "import tensorflow.keras\n",
    "from tensorflow.keras.models import Sequential\n",
    "from tensorflow.keras.layers import Dense\n",
    "from tensorflow.keras.layers import LSTM\n",
    "from tensorflow.keras.layers import Activation\n",
    "from tensorflow.keras.layers import Embedding\n",
    "from tensorflow.keras.layers import Bidirectional\n",
    "from tensorflow.keras.preprocessing.text import one_hot\n",
    "\n",
    "from sklearn.model_selection import train_test_split"
   ]
  },
  {
   "cell_type": "code",
   "execution_count": 6,
   "metadata": {
    "execution": {
     "iopub.execute_input": "2021-01-31T14:51:20.521670Z",
     "iopub.status.busy": "2021-01-31T14:51:20.520898Z",
     "iopub.status.idle": "2021-01-31T14:51:20.523823Z",
     "shell.execute_reply": "2021-01-31T14:51:20.523408Z"
    },
    "papermill": {
     "duration": 0.016637,
     "end_time": "2021-01-31T14:51:20.523909",
     "exception": false,
     "start_time": "2021-01-31T14:51:20.507272",
     "status": "completed"
    },
    "tags": []
   },
   "outputs": [],
   "source": [
    "max_features = 20000  # Only consider the top 20k words\n",
    "maxlen = 200"
   ]
  },
  {
   "cell_type": "code",
   "execution_count": 7,
   "metadata": {
    "execution": {
     "iopub.execute_input": "2021-01-31T14:51:20.550975Z",
     "iopub.status.busy": "2021-01-31T14:51:20.550166Z",
     "iopub.status.idle": "2021-01-31T14:51:20.553928Z",
     "shell.execute_reply": "2021-01-31T14:51:20.553531Z"
    },
    "papermill": {
     "duration": 0.020472,
     "end_time": "2021-01-31T14:51:20.554012",
     "exception": false,
     "start_time": "2021-01-31T14:51:20.533540",
     "status": "completed"
    },
    "tags": []
   },
   "outputs": [
    {
     "data": {
      "text/html": [
       "<div>\n",
       "<style scoped>\n",
       "    .dataframe tbody tr th:only-of-type {\n",
       "        vertical-align: middle;\n",
       "    }\n",
       "\n",
       "    .dataframe tbody tr th {\n",
       "        vertical-align: top;\n",
       "    }\n",
       "\n",
       "    .dataframe thead th {\n",
       "        text-align: right;\n",
       "    }\n",
       "</style>\n",
       "<table border=\"1\" class=\"dataframe\">\n",
       "  <thead>\n",
       "    <tr style=\"text-align: right;\">\n",
       "      <th></th>\n",
       "      <th>Phrase</th>\n",
       "      <th>Sentiment</th>\n",
       "    </tr>\n",
       "  </thead>\n",
       "  <tbody>\n",
       "    <tr>\n",
       "      <th>0</th>\n",
       "      <td>A series of escapades demonstrating the adage ...</td>\n",
       "      <td>1</td>\n",
       "    </tr>\n",
       "    <tr>\n",
       "      <th>1</th>\n",
       "      <td>A series of escapades demonstrating the adage ...</td>\n",
       "      <td>2</td>\n",
       "    </tr>\n",
       "    <tr>\n",
       "      <th>2</th>\n",
       "      <td>A series</td>\n",
       "      <td>2</td>\n",
       "    </tr>\n",
       "    <tr>\n",
       "      <th>3</th>\n",
       "      <td>A</td>\n",
       "      <td>2</td>\n",
       "    </tr>\n",
       "    <tr>\n",
       "      <th>4</th>\n",
       "      <td>series</td>\n",
       "      <td>2</td>\n",
       "    </tr>\n",
       "  </tbody>\n",
       "</table>\n",
       "</div>"
      ],
      "text/plain": [
       "                                              Phrase  Sentiment\n",
       "0  A series of escapades demonstrating the adage ...          1\n",
       "1  A series of escapades demonstrating the adage ...          2\n",
       "2                                           A series          2\n",
       "3                                                  A          2\n",
       "4                                             series          2"
      ]
     },
     "execution_count": 7,
     "metadata": {},
     "output_type": "execute_result"
    }
   ],
   "source": [
    "train_data.head()"
   ]
  },
  {
   "cell_type": "code",
   "execution_count": 8,
   "metadata": {
    "execution": {
     "iopub.execute_input": "2021-01-31T14:51:20.581794Z",
     "iopub.status.busy": "2021-01-31T14:51:20.581282Z",
     "iopub.status.idle": "2021-01-31T14:51:21.739702Z",
     "shell.execute_reply": "2021-01-31T14:51:21.738694Z"
    },
    "papermill": {
     "duration": 1.175818,
     "end_time": "2021-01-31T14:51:21.739831",
     "exception": false,
     "start_time": "2021-01-31T14:51:20.564013",
     "status": "completed"
    },
    "tags": []
   },
   "outputs": [],
   "source": [
    "from nltk.corpus import stopwords\n",
    "import re\n",
    "def text_cleaning(text):\n",
    "    forbidden_words = set(stopwords.words('english'))\n",
    "    if text:\n",
    "        text = ' '.join(text.split('.'))\n",
    "        text = re.sub('\\/',' ',text)\n",
    "        text = re.sub(r'\\\\',' ',text)\n",
    "        text = re.sub(r'((http)\\S+)','',text)\n",
    "        text = re.sub(r'\\s+', ' ', re.sub('[^A-Za-z]', ' ', text.strip().lower())).strip()\n",
    "        text = re.sub(r'\\W+', ' ', text.strip().lower()).strip()\n",
    "        text = [word for word in text.split() if word not in forbidden_words]\n",
    "        return text\n",
    "    return []"
   ]
  },
  {
   "cell_type": "code",
   "execution_count": 9,
   "metadata": {
    "execution": {
     "iopub.execute_input": "2021-01-31T14:51:21.773256Z",
     "iopub.status.busy": "2021-01-31T14:51:21.772475Z",
     "iopub.status.idle": "2021-01-31T14:52:13.780299Z",
     "shell.execute_reply": "2021-01-31T14:52:13.779418Z"
    },
    "papermill": {
     "duration": 52.030118,
     "end_time": "2021-01-31T14:52:13.780413",
     "exception": false,
     "start_time": "2021-01-31T14:51:21.750295",
     "status": "completed"
    },
    "tags": []
   },
   "outputs": [
    {
     "name": "stderr",
     "output_type": "stream",
     "text": [
      "IOPub data rate exceeded.\n",
      "The notebook server will temporarily stop sending output\n",
      "to the client in order to avoid crashing it.\n",
      "To change this limit, set the config variable\n",
      "`--NotebookApp.iopub_data_rate_limit`.\n",
      "\n",
      "Current values:\n",
      "NotebookApp.iopub_data_rate_limit=1000000.0 (bytes/sec)\n",
      "NotebookApp.rate_limit_window=3.0 (secs)\n",
      "\n"
     ]
    }
   ],
   "source": [
    "train_data['flag'] = 'TRAIN'\n",
    "test_data['flag'] = 'TEST'\n",
    "total_docs = pd.concat([train_data,test_data],axis = 0,ignore_index = True)\n",
    "total_docs['Phrase'] = total_docs['Phrase'].apply(lambda x: ' '.join(text_cleaning(x)))\n",
    "phrases = total_docs['Phrase'].tolist()\n",
    "\n",
    "vocab_size = 50000\n",
    "encoded_phrases = [one_hot(d, vocab_size) for d in phrases]\n",
    "total_docs['Phrase'] = encoded_phrases\n",
    "train_data = total_docs[total_docs['flag'] == 'TRAIN']\n",
    "test_data = total_docs[total_docs['flag'] == 'TEST']\n",
    "x_train = train_data['Phrase']\n",
    "y_train = train_data['Sentiment']\n",
    "x_val = test_data['Phrase']\n",
    "y_val = test_data['Sentiment']"
   ]
  },
  {
   "cell_type": "code",
   "execution_count": 47,
   "metadata": {
    "execution": {
     "iopub.execute_input": "2021-01-31T14:52:13.806379Z",
     "iopub.status.busy": "2021-01-31T14:52:13.805557Z",
     "iopub.status.idle": "2021-01-31T14:52:13.811299Z",
     "shell.execute_reply": "2021-01-31T14:52:13.810879Z"
    },
    "papermill": {
     "duration": 0.020033,
     "end_time": "2021-01-31T14:52:13.811388",
     "exception": false,
     "start_time": "2021-01-31T14:52:13.791355",
     "status": "completed"
    },
    "tags": []
   },
   "outputs": [
    {
     "data": {
      "text/plain": [
       "array([1., 2., 3., 4., 0.])"
      ]
     },
     "execution_count": 47,
     "metadata": {},
     "output_type": "execute_result"
    }
   ],
   "source": [
    "y_train.unique()"
   ]
  },
  {
   "cell_type": "code",
   "execution_count": 11,
   "metadata": {
    "execution": {
     "iopub.execute_input": "2021-01-31T14:52:13.879265Z",
     "iopub.status.busy": "2021-01-31T14:52:13.871375Z",
     "iopub.status.idle": "2021-01-31T14:52:15.684087Z",
     "shell.execute_reply": "2021-01-31T14:52:15.683595Z"
    },
    "papermill": {
     "duration": 1.862008,
     "end_time": "2021-01-31T14:52:15.684212",
     "exception": false,
     "start_time": "2021-01-31T14:52:13.822204",
     "status": "completed"
    },
    "tags": []
   },
   "outputs": [
    {
     "name": "stdout",
     "output_type": "stream",
     "text": [
      "[    0     0     0     0     0     0     0     0     0     0     0     0\n",
      "     0     0     0     0     0     0     0     0     0     0     0     0\n",
      "     0     0     0     0     0     0     0     0     0     0     0     0\n",
      "     0     0     0     0     0     0     0     0     0     0     0     0\n",
      "     0     0     0     0     0     0     0     0     0     0     0     0\n",
      "     0     0     0     0     0     0     0     0     0     0     0     0\n",
      "     0     0     0     0     0     0     0     0     0     0     0     0\n",
      "     0     0     0     0     0     0     0     0     0     0     0     0\n",
      "     0     0     0     0     0     0     0     0     0     0     0     0\n",
      "     0     0     0     0     0     0     0     0     0     0     0     0\n",
      "     0     0     0     0     0     0     0     0     0     0     0     0\n",
      "     0     0     0     0     0     0     0     0     0     0     0     0\n",
      "     0     0     0     0     0     0     0     0     0     0     0     0\n",
      "     0     0     0     0     0     0     0     0     0     0     0     0\n",
      "     0     0     0     0     0     0     0     0     0     0     0     0\n",
      "     0     0     0     0     0     0     0     0     0     0     0     0\n",
      "     0  2095 26644 23382 13850  6377 11966  7792]\n"
     ]
    }
   ],
   "source": [
    "features = tf.keras.preprocessing.sequence.pad_sequences(x_train, maxlen=maxlen)\n",
    "targets = y_train\n",
    "x_train, x_val, y_train, y_val = train_test_split(features, targets, test_size=0.3333)\n",
    "print(x_train[0])"
   ]
  },
  {
   "cell_type": "code",
   "execution_count": 52,
   "metadata": {
    "execution": {
     "iopub.execute_input": "2021-01-31T14:52:15.712923Z",
     "iopub.status.busy": "2021-01-31T14:52:15.712409Z",
     "iopub.status.idle": "2021-01-31T14:52:19.351826Z",
     "shell.execute_reply": "2021-01-31T14:52:19.352540Z"
    },
    "papermill": {
     "duration": 3.656866,
     "end_time": "2021-01-31T14:52:19.352706",
     "exception": false,
     "start_time": "2021-01-31T14:52:15.695840",
     "status": "completed"
    },
    "tags": []
   },
   "outputs": [
    {
     "name": "stdout",
     "output_type": "stream",
     "text": [
      "Model: \"sequential_16\"\n",
      "_________________________________________________________________\n",
      "Layer (type)                 Output Shape              Param #   \n",
      "=================================================================\n",
      "embedding_15 (Embedding)     (None, None, 128)         6400000   \n",
      "_________________________________________________________________\n",
      "bidirectional_30 (Bidirectio (None, None, 128)         98816     \n",
      "_________________________________________________________________\n",
      "bidirectional_31 (Bidirectio (None, 128)               98816     \n",
      "_________________________________________________________________\n",
      "dense_15 (Dense)             (None, 5)                 645       \n",
      "=================================================================\n",
      "Total params: 6,598,277\n",
      "Trainable params: 6,598,277\n",
      "Non-trainable params: 0\n",
      "_________________________________________________________________\n",
      "(104045, 200)\n"
     ]
    }
   ],
   "source": [
    "model = Sequential()\n",
    "inputs = tf.keras.Input(shape=(None,), dtype=\"int32\")\n",
    "# Embed each integer in a 128-dimensional vector\n",
    "model.add(inputs)\n",
    "model.add(Embedding(50000, 128))\n",
    "# Add 2 bidirectional LSTMs\n",
    "model.add(Bidirectional(LSTM(64, return_sequences=True)))\n",
    "model.add(Bidirectional(LSTM(64)))\n",
    "# Add a classifier\n",
    "model.add(Dense(5, activation=\"sigmoid\"))\n",
    "#model = keras.Model(inputs, outputs)\n",
    "model.summary()\n",
    "\n",
    "print(x_train.shape)"
   ]
  },
  {
   "cell_type": "code",
   "execution_count": null,
   "metadata": {
    "execution": {
     "iopub.execute_input": "2021-01-31T19:22:47.746291Z",
     "iopub.status.busy": "2021-01-31T19:22:47.745313Z",
     "iopub.status.idle": "2021-01-31T20:08:05.784928Z",
     "shell.execute_reply": "2021-01-31T20:08:05.785417Z"
    },
    "papermill": {
     "duration": 2761.62412,
     "end_time": "2021-01-31T20:08:05.785551",
     "exception": false,
     "start_time": "2021-01-31T19:22:04.161431",
     "status": "completed"
    },
    "tags": []
   },
   "outputs": [],
   "source": [
    "model.fit(x_train, y_train, batch_size=32, epochs=5, validation_data=(x_val, y_val))"
   ]
  },
  {
   "cell_type": "markdown",
   "metadata": {
    "papermill": {
     "duration": 50.56646,
     "end_time": "2021-01-31T20:09:46.813655",
     "exception": false,
     "start_time": "2021-01-31T20:08:56.247195",
     "status": "completed"
    },
    "tags": []
   },
   "source": [
    "In conclusion, we created a bi-directional LSTM model and have trained it to detect sentiment. We reached 80% training and 82% validation accuracy."
   ]
  }
 ],
 "metadata": {
  "kernelspec": {
   "display_name": "Python 3",
   "language": "python",
   "name": "python3"
  },
  "language_info": {
   "codemirror_mode": {
    "name": "ipython",
    "version": 3
   },
   "file_extension": ".py",
   "mimetype": "text/x-python",
   "name": "python",
   "nbconvert_exporter": "python",
   "pygments_lexer": "ipython3",
   "version": "3.8.5"
  },
  "papermill": {
   "duration": 19168.083169,
   "end_time": "2021-01-31T20:10:39.227859",
   "environment_variables": {},
   "exception": null,
   "input_path": "__notebook__.ipynb",
   "output_path": "__notebook__.ipynb",
   "parameters": {},
   "start_time": "2021-01-31T14:51:11.144690",
   "version": "2.1.0"
  }
 },
 "nbformat": 4,
 "nbformat_minor": 4
}
