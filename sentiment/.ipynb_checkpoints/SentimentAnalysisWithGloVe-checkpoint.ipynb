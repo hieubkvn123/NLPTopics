{
 "cells": [
  {
   "cell_type": "markdown",
   "metadata": {
    "id": "gaql0JRl-C2J"
   },
   "source": [
    "# Importing libraries"
   ]
  },
  {
   "cell_type": "code",
   "execution_count": 59,
   "metadata": {
    "colab": {
     "base_uri": "https://localhost:8080/"
    },
    "id": "DtUwtBk89Zo2",
    "outputId": "ac0c9af3-11a2-45a3-e2d2-5263d99147af"
   },
   "outputs": [
    {
     "name": "stdout",
     "output_type": "stream",
     "text": [
      "/usr/lib/python3.8/runpy.py:127: RuntimeWarning: 'nltk.downloader' found in sys.modules after import of package 'nltk', but prior to execution of 'nltk.downloader'; this may result in unpredictable behaviour\n",
      "  warn(RuntimeWarning(msg))\n",
      "[nltk_data] Downloading package punkt to /home/minhhieu/nltk_data...\n",
      "[nltk_data]   Package punkt is already up-to-date!\n",
      "/usr/lib/python3.8/runpy.py:127: RuntimeWarning: 'nltk.downloader' found in sys.modules after import of package 'nltk', but prior to execution of 'nltk.downloader'; this may result in unpredictable behaviour\n",
      "  warn(RuntimeWarning(msg))\n",
      "[nltk_data] Downloading package stopwords to\n",
      "[nltk_data]     /home/minhhieu/nltk_data...\n",
      "[nltk_data]   Package stopwords is already up-to-date!\n",
      "/usr/lib/python3.8/runpy.py:127: RuntimeWarning: 'nltk.downloader' found in sys.modules after import of package 'nltk', but prior to execution of 'nltk.downloader'; this may result in unpredictable behaviour\n",
      "  warn(RuntimeWarning(msg))\n",
      "[nltk_data] Downloading package wordnet to /home/minhhieu/nltk_data...\n",
      "[nltk_data]   Package wordnet is already up-to-date!\n"
     ]
    }
   ],
   "source": [
    "# from google.colab import drive\n",
    "# drive.mount(\"/content/drive\", force_remount=True)\n",
    "\n",
    "import re\n",
    "import tqdm\n",
    "import operator\n",
    "import string\n",
    "import unicodedata\n",
    "import numpy as np\n",
    "import pandas as pd\n",
    "import matplotlib.pyplot as plt \n",
    "import matplotlib.pylab as pylab\n",
    "params = {'legend.fontsize': 'x-large',\n",
    "          'figure.figsize': (15, 5),\n",
    "         'axes.labelsize': 'x-large',\n",
    "         'axes.titlesize':'x-large',\n",
    "         'xtick.labelsize':'x-large',\n",
    "         'ytick.labelsize':'x-large'}\n",
    "\n",
    "### Tensorflow dependencies ###\n",
    "import tensorflow as tf\n",
    "from tensorflow.keras.layers import *\n",
    "from tensorflow.keras.optimizers import Adam\n",
    "from tensorflow.keras.models import Model, Sequential \n",
    "from tensorflow.keras import backend as K\n",
    "\n",
    "### Scikit-learn dependencies ###\n",
    "from sklearn.svm import LinearSVC\n",
    "from sklearn.naive_bayes import MultinomialNB\n",
    "from sklearn.linear_model import LogisticRegression\n",
    "from sklearn.feature_extraction.text import CountVectorizer\n",
    "from sklearn.feature_extraction.text import TfidfVectorizer\n",
    "from sklearn.model_selection import train_test_split\n",
    "from sklearn.metrics import accuracy_score, f1_score, confusion_matrix, classification_report\n",
    "\n",
    "### nltk dependencies ###\n",
    "import nltk\n",
    "from nltk.corpus import stopwords\n",
    "from nltk.tokenize import word_tokenize\n",
    "from nltk.stem.wordnet import WordNetLemmatizer\n",
    "\n",
    "### Download nltk data ###\n",
    "!python3 -m nltk.downloader punkt\n",
    "!python3 -m nltk.downloader stopwords\n",
    "!python3 -m nltk.downloader wordnet\n",
    "\n",
    "### Some constants ###\n",
    "# true_path = \"/content/drive/My Drive/True.csv\"\n",
    "# fake_path = \"/content/drive/My Drive/Fake.csv\"\n",
    "true_path = \"../data/True.csv\"\n",
    "fake_path = \"../data/Fake.csv\""
   ]
  },
  {
   "cell_type": "markdown",
   "metadata": {
    "id": "WXEWUTDfEb5W"
   },
   "source": [
    "# Loading and preprocessing text data"
   ]
  },
  {
   "cell_type": "markdown",
   "metadata": {
    "id": "iUPJALldFiXv"
   },
   "source": [
    "### Loading data"
   ]
  },
  {
   "cell_type": "code",
   "execution_count": 17,
   "metadata": {
    "colab": {
     "base_uri": "https://localhost:8080/",
     "height": 537
    },
    "id": "6Qc899J0_-Mf",
    "outputId": "1cd98f44-c43c-4ce1-f898-e1af5d9a2afc"
   },
   "outputs": [
    {
     "data": {
      "text/html": [
       "<div>\n",
       "<style scoped>\n",
       "    .dataframe tbody tr th:only-of-type {\n",
       "        vertical-align: middle;\n",
       "    }\n",
       "\n",
       "    .dataframe tbody tr th {\n",
       "        vertical-align: top;\n",
       "    }\n",
       "\n",
       "    .dataframe thead th {\n",
       "        text-align: right;\n",
       "    }\n",
       "</style>\n",
       "<table border=\"1\" class=\"dataframe\">\n",
       "  <thead>\n",
       "    <tr style=\"text-align: right;\">\n",
       "      <th></th>\n",
       "      <th>title</th>\n",
       "      <th>text</th>\n",
       "      <th>subject</th>\n",
       "      <th>date</th>\n",
       "      <th>label</th>\n",
       "    </tr>\n",
       "  </thead>\n",
       "  <tbody>\n",
       "    <tr>\n",
       "      <th>12690</th>\n",
       "      <td>U.S. presses Russia to comply with nuclear mis...</td>\n",
       "      <td>WASHINGTON (Reuters) - The United States is re...</td>\n",
       "      <td>worldnews</td>\n",
       "      <td>December 8, 2017</td>\n",
       "      <td>1</td>\n",
       "    </tr>\n",
       "    <tr>\n",
       "      <th>15667</th>\n",
       "      <td>Saudi Arabia says it intercepts missile close ...</td>\n",
       "      <td>RIYADH (Reuters) - Saudi Arabia s air defense ...</td>\n",
       "      <td>worldnews</td>\n",
       "      <td>November 4, 2017</td>\n",
       "      <td>1</td>\n",
       "    </tr>\n",
       "    <tr>\n",
       "      <th>12379</th>\n",
       "      <td>Nigeria NGOs slam civil society bill as grave ...</td>\n",
       "      <td>ABUJA (Reuters) - A bill proposed by Nigerian ...</td>\n",
       "      <td>worldnews</td>\n",
       "      <td>December 13, 2017</td>\n",
       "      <td>1</td>\n",
       "    </tr>\n",
       "    <tr>\n",
       "      <th>1271</th>\n",
       "      <td>Mexico says NAFTA would survive with Canada ev...</td>\n",
       "      <td>MEXICO CITY (Reuters) - Mexico would keep trad...</td>\n",
       "      <td>politicsNews</td>\n",
       "      <td>October 13, 2017</td>\n",
       "      <td>1</td>\n",
       "    </tr>\n",
       "    <tr>\n",
       "      <th>8181</th>\n",
       "      <td>Clinton scheduled to return to campaign trail ...</td>\n",
       "      <td>WASHINGTON (Reuters) - Democratic presidential...</td>\n",
       "      <td>politicsNews</td>\n",
       "      <td>September 13, 2016</td>\n",
       "      <td>1</td>\n",
       "    </tr>\n",
       "    <tr>\n",
       "      <th>8703</th>\n",
       "      <td>Melania Trump's RNC speech produces so-so TV a...</td>\n",
       "      <td>(Reuters) - Melania Trump’s big night at the R...</td>\n",
       "      <td>politicsNews</td>\n",
       "      <td>July 19, 2016</td>\n",
       "      <td>1</td>\n",
       "    </tr>\n",
       "    <tr>\n",
       "      <th>2092</th>\n",
       "      <td>Unwavering Trump voters say they will not miss...</td>\n",
       "      <td>CHICAGO (Reuters) - Former White House chief s...</td>\n",
       "      <td>politicsNews</td>\n",
       "      <td>August 19, 2017</td>\n",
       "      <td>1</td>\n",
       "    </tr>\n",
       "    <tr>\n",
       "      <th>13291</th>\n",
       "      <td>UAE says Egyptian ex-premier Shafik left for E...</td>\n",
       "      <td>DUBAI (Reuters) - Former Egyptian prime minist...</td>\n",
       "      <td>worldnews</td>\n",
       "      <td>December 2, 2017</td>\n",
       "      <td>1</td>\n",
       "    </tr>\n",
       "    <tr>\n",
       "      <th>8269</th>\n",
       "      <td>Trump raises possibility of eventual legal sta...</td>\n",
       "      <td>YOUNGSTOWN, Ohio (Reuters) - In a new twist to...</td>\n",
       "      <td>politicsNews</td>\n",
       "      <td>September 5, 2016</td>\n",
       "      <td>1</td>\n",
       "    </tr>\n",
       "    <tr>\n",
       "      <th>4305</th>\n",
       "      <td>Mattis says U.S. military policy in Syria unch...</td>\n",
       "      <td>WASHINGTON (Reuters) - U.S. Defense Secretary ...</td>\n",
       "      <td>politicsNews</td>\n",
       "      <td>April 11, 2017</td>\n",
       "      <td>1</td>\n",
       "    </tr>\n",
       "  </tbody>\n",
       "</table>\n",
       "</div>"
      ],
      "text/plain": [
       "                                                   title  \\\n",
       "12690  U.S. presses Russia to comply with nuclear mis...   \n",
       "15667  Saudi Arabia says it intercepts missile close ...   \n",
       "12379  Nigeria NGOs slam civil society bill as grave ...   \n",
       "1271   Mexico says NAFTA would survive with Canada ev...   \n",
       "8181   Clinton scheduled to return to campaign trail ...   \n",
       "8703   Melania Trump's RNC speech produces so-so TV a...   \n",
       "2092   Unwavering Trump voters say they will not miss...   \n",
       "13291  UAE says Egyptian ex-premier Shafik left for E...   \n",
       "8269   Trump raises possibility of eventual legal sta...   \n",
       "4305   Mattis says U.S. military policy in Syria unch...   \n",
       "\n",
       "                                                    text       subject  \\\n",
       "12690  WASHINGTON (Reuters) - The United States is re...     worldnews   \n",
       "15667  RIYADH (Reuters) - Saudi Arabia s air defense ...     worldnews   \n",
       "12379  ABUJA (Reuters) - A bill proposed by Nigerian ...     worldnews   \n",
       "1271   MEXICO CITY (Reuters) - Mexico would keep trad...  politicsNews   \n",
       "8181   WASHINGTON (Reuters) - Democratic presidential...  politicsNews   \n",
       "8703   (Reuters) - Melania Trump’s big night at the R...  politicsNews   \n",
       "2092   CHICAGO (Reuters) - Former White House chief s...  politicsNews   \n",
       "13291  DUBAI (Reuters) - Former Egyptian prime minist...     worldnews   \n",
       "8269   YOUNGSTOWN, Ohio (Reuters) - In a new twist to...  politicsNews   \n",
       "4305   WASHINGTON (Reuters) - U.S. Defense Secretary ...  politicsNews   \n",
       "\n",
       "                      date  label  \n",
       "12690    December 8, 2017       1  \n",
       "15667    November 4, 2017       1  \n",
       "12379   December 13, 2017       1  \n",
       "1271     October 13, 2017       1  \n",
       "8181   September 13, 2016       1  \n",
       "8703        July 19, 2016       1  \n",
       "2092      August 19, 2017       1  \n",
       "13291    December 2, 2017       1  \n",
       "8269    September 5, 2016       1  \n",
       "4305       April 11, 2017       1  "
      ]
     },
     "execution_count": 17,
     "metadata": {},
     "output_type": "execute_result"
    }
   ],
   "source": [
    "df_true = pd.read_csv(true_path, header=0).sample(n=10000, random_state=np.random.randint(0,40000))\n",
    "df_fake = pd.read_csv(fake_path, header=0).sample(n=10000, random_state=np.random.randint(0,40000))\n",
    "\n",
    "df_true['label'] = 1\n",
    "df_fake['label'] = 0\n",
    "df = pd.concat([df_true, df_fake])\n",
    "\n",
    "df.head(10)"
   ]
  },
  {
   "cell_type": "markdown",
   "metadata": {
    "id": "bfTbp5DxFkzF"
   },
   "source": [
    "### Cleaning text data"
   ]
  },
  {
   "cell_type": "code",
   "execution_count": 18,
   "metadata": {
    "id": "TC2fE4ebEqgu"
   },
   "outputs": [],
   "source": [
    "def cleanhtml(raw_html):\n",
    "    cleanr = re.compile('<.*?>|&([a-z0-9]+|#[0-9]{1,6}|#x[0-9a-f]{1,6});')\n",
    "    cleantext = re.sub(cleanr, '', raw_html)\n",
    "    return cleantext\n",
    "\n",
    "def remove_accents(input_str):\n",
    "    nfkd_form = unicodedata.normalize('NFKD', input_str)\n",
    "    only_ascii = nfkd_form.encode('ASCII', 'ignore')\n",
    "    return only_ascii.decode()\n",
    "\n",
    "# Dictionary of English Contractions\n",
    "contractions_dict = { \"ain't\": \"are not\",\"'s\":\" is\",\"aren't\": \"are not\",\n",
    "                     \"can't\": \"cannot\",\"can't've\": \"cannot have\",\n",
    "                     \"'cause\": \"because\",\"could've\": \"could have\",\"couldn't\": \"could not\",\n",
    "                     \"couldn't've\": \"could not have\", \"didn't\": \"did not\",\"doesn't\": \"does not\",\n",
    "                     \"don't\": \"do not\",\"hadn't\": \"had not\",\"hadn't've\": \"had not have\",\n",
    "                     \"hasn't\": \"has not\",\"haven't\": \"have not\",\"he'd\": \"he would\",\n",
    "                     \"he'd've\": \"he would have\",\"he'll\": \"he will\", \"he'll've\": \"he will have\",\n",
    "                     \"how'd\": \"how did\",\"how'd'y\": \"how do you\",\"how'll\": \"how will\",\n",
    "                     \"I'd\": \"I would\", \"I'd've\": \"I would have\",\"I'll\": \"I will\",\n",
    "                     \"I'll've\": \"I will have\",\"I'm\": \"I am\",\"I've\": \"I have\", \"isn't\": \"is not\",\n",
    "                     \"it'd\": \"it would\",\"it'd've\": \"it would have\",\"it'll\": \"it will\",\n",
    "                     \"it'll've\": \"it will have\", \"let's\": \"let us\",\"ma'am\": \"madam\",\n",
    "                     \"mayn't\": \"may not\",\"might've\": \"might have\",\"mightn't\": \"might not\", \n",
    "                     \"mightn't've\": \"might not have\",\"must've\": \"must have\",\"mustn't\": \"must not\",\n",
    "                     \"mustn't've\": \"must not have\", \"needn't\": \"need not\",\n",
    "                     \"needn't've\": \"need not have\",\"o'clock\": \"of the clock\",\"oughtn't\": \"ought not\",\n",
    "                     \"oughtn't've\": \"ought not have\",\"shan't\": \"shall not\",\"sha'n't\": \"shall not\",\n",
    "                     \"shan't've\": \"shall not have\",\"she'd\": \"she would\",\"she'd've\": \"she would have\",\n",
    "                     \"she'll\": \"she will\", \"she'll've\": \"she will have\",\"should've\": \"should have\",\n",
    "                     \"shouldn't\": \"should not\", \"shouldn't've\": \"should not have\",\"so've\": \"so have\",\n",
    "                     \"that'd\": \"that would\",\"that'd've\": \"that would have\", \"there'd\": \"there would\",\n",
    "                     \"there'd've\": \"there would have\", \"they'd\": \"they would\",\n",
    "                     \"they'd've\": \"they would have\",\"they'll\": \"they will\",\n",
    "                     \"they'll've\": \"they will have\", \"they're\": \"they are\",\"they've\": \"they have\",\n",
    "                     \"to've\": \"to have\",\"wasn't\": \"was not\",\"we'd\": \"we would\",\n",
    "                     \"we'd've\": \"we would have\",\"we'll\": \"we will\",\"we'll've\": \"we will have\",\n",
    "                     \"we're\": \"we are\",\"we've\": \"we have\", \"weren't\": \"were not\",\"what'll\": \"what will\",\n",
    "                     \"what'll've\": \"what will have\",\"what're\": \"what are\", \"what've\": \"what have\",\n",
    "                     \"when've\": \"when have\",\"where'd\": \"where did\", \"where've\": \"where have\",\n",
    "                     \"who'll\": \"who will\",\"who'll've\": \"who will have\",\"who've\": \"who have\",\n",
    "                     \"why've\": \"why have\",\"will've\": \"will have\",\"won't\": \"will not\",\n",
    "                     \"won't've\": \"will not have\", \"would've\": \"would have\",\"wouldn't\": \"would not\",\n",
    "                     \"wouldn't've\": \"would not have\",\"y'all\": \"you all\", \"y'all'd\": \"you all would\",\n",
    "                     \"y'all'd've\": \"you all would have\",\"y'all're\": \"you all are\",\n",
    "                     \"y'all've\": \"you all have\", \"you'd\": \"you would\",\"you'd've\": \"you would have\",\n",
    "                     \"you'll\": \"you will\",\"you'll've\": \"you will have\", \"you're\": \"you are\",\n",
    "                     \"you've\": \"you have\"}\n",
    "\n",
    "# Regular expression for finding contractions\n",
    "contractions_re=re.compile('(%s)' % '|'.join(contractions_dict.keys()))\n",
    "\n",
    "# Function for expanding contractions\n",
    "def expand_contractions(text,contractions_dict=contractions_dict):\n",
    "    def replace(match):\n",
    "        return contractions_dict[match.group(0)]\n",
    "    return contractions_re.sub(replace, text)\n",
    "\n",
    "stop_words = set(stopwords.words('english')) # Assuming all nltk data is installed\n",
    "lemmatizer = WordNetLemmatizer()\n",
    "\n",
    "def filter_stopwords(text):\n",
    "    word_tokens = word_tokenize(text)\n",
    "    filtered = [lemmatizer.lemmatize(w) for w in word_tokens if not w in stop_words]\n",
    "    filtered_sentence = ' '.join(filtered)\n",
    "\n",
    "    ### Removing all special characters ###\n",
    "    special_chars = ['…', '–', '’', '‘', '”', '“']\n",
    "\n",
    "    for char_ in special_chars:\n",
    "        filtered_sentence = filtered_sentence.replace(char_, \"\")\n",
    "\n",
    "    # Removal of extra spaces\n",
    "    filtered_sentence = re.sub(' +',' ',filtered_sentence)\n",
    "    return filtered_sentence\n",
    "\n",
    "def preprocessing_text(text):\n",
    "    ### 1. Removing tags and accented data ###\n",
    "    text = cleanhtml(text)\n",
    "    text = remove_accents(text)\n",
    "\n",
    "    ### 2. Expanding contractions ###\n",
    "    text = expand_contractions(text)\n",
    "\n",
    "    ### 3. Removing punctuations + lowercasing ###\n",
    "    text = text.lower()\n",
    "    text = re.sub('[%s]' % re.escape(string.punctuation), '', text)\n",
    "\n",
    "    ### 4. Removing special characters ### \n",
    "    text = re.sub('[^A-Za-z0-9]+', ' ', text) # Remove non-text chars\n",
    "    text = re.sub(' +',' ',text) # Remove extra spaces\n",
    "    text = re.sub('\\w*\\d\\w*','', text) # Remove digits\n",
    "\n",
    "    ### 5. Lemmatization and stopwords removal ###\n",
    "    text = filter_stopwords(text)\n",
    "\n",
    "    return text"
   ]
  },
  {
   "cell_type": "code",
   "execution_count": 19,
   "metadata": {
    "colab": {
     "base_uri": "https://localhost:8080/"
    },
    "id": "xMUeE_rrGw4e",
    "outputId": "6ab15ab0-109e-478d-ffed-80a9cd0ef41e"
   },
   "outputs": [
    {
     "data": {
      "text/plain": [
       "12690         u press russia comply nuclear missile treaty\n",
       "15667     saudi arabia say intercept missile close capital\n",
       "12379    nigeria ngo slam civil society bill grave thre...\n",
       "1271     mexico say nafta would survive canada even wit...\n",
       "8181     clinton scheduled return campaign trail friday...\n",
       "8703     melania trump rnc speech produce soso tv audience\n",
       "2092          unwavering trump voter say miss steve bannon\n",
       "13291    uae say egyptian expremier shafik left egypt f...\n",
       "8269     trump raise possibility eventual legal status ...\n",
       "4305          mattis say u military policy syria unchanged\n",
       "Name: title, dtype: object"
      ]
     },
     "execution_count": 19,
     "metadata": {},
     "output_type": "execute_result"
    }
   ],
   "source": [
    "df['title'] = df['title'].apply(lambda x : preprocessing_text(x))\n",
    "df['text']  = df['text'].apply(lambda x : preprocessing_text(x))\n",
    "df['title'].head(10)"
   ]
  },
  {
   "cell_type": "markdown",
   "metadata": {},
   "source": [
    "### Word-Frequency map"
   ]
  },
  {
   "cell_type": "code",
   "execution_count": 62,
   "metadata": {},
   "outputs": [
    {
     "name": "stdout",
     "output_type": "stream",
     "text": [
      "[INFO] Calculating word-frequency map ...\n"
     ]
    },
    {
     "data": {
      "image/png": "[encoded data removed]",
      "text/plain": [
       "<Figure size 1080x360 with 1 Axes>"
      ]
     },
     "metadata": {
      "needs_background": "light"
     },
     "output_type": "display_data"
    }
   ],
   "source": [
    "word_freq = {}\n",
    "all_words = ' '.join(df['title'].values).split(' ')\n",
    "\n",
    "print('[INFO] Calculating word-frequency map ...')\n",
    "for w in all_words:\n",
    "    if(w not in word_freq):\n",
    "        word_freq[w] = 0\n",
    "    else:\n",
    "        word_freq[w] += 1\n",
    "        \n",
    "word_freq = dict( sorted(word_freq.items(), key=operator.itemgetter(1),reverse=True))\n",
    "top_50_keys = list(word_freq.keys())[0:50]\n",
    "top_50_words = dict([(key, word_freq[key]) for key in top_50_keys])\n",
    "\n",
    "words = list(top_50_words.keys())\n",
    "freqs = list(top_50_words.values())\n",
    "\n",
    "fig, ax = plt.subplots(figsize=(15,5))\n",
    "ax.bar(words, freqs)\n",
    "\n",
    "pylab.rcParams.update(params)\n",
    "plt.xticks(rotation=90)\n",
    "plt.show()"
   ]
  },
  {
   "cell_type": "markdown",
   "metadata": {
    "id": "hnKJZxnmJ8wk"
   },
   "source": [
    "# Feature engineering methods comparision"
   ]
  },
  {
   "cell_type": "code",
   "execution_count": 21,
   "metadata": {
    "colab": {
     "base_uri": "https://localhost:8080/"
    },
    "id": "xsFkJ8-nIuZj",
    "outputId": "23913af2-570f-4267-b0bf-4cda50e7d651"
   },
   "outputs": [
    {
     "name": "stdout",
     "output_type": "stream",
     "text": [
      "[INFO] Accuracy of logistic regression when using BOW : 0.9350532473376331\n",
      "[INFO] Accuracy of logistic regression when using Ngram-BOW : 0.9382030898455077\n",
      "[INFO] Accuracy of logistic regression when using BOW : 0.9323533823308835\n"
     ]
    }
   ],
   "source": [
    "count_vec = CountVectorizer(min_df=5)\n",
    "bi_count_vec = CountVectorizer(min_df=3, ngram_range=(1,2))\n",
    "tf_idf_vec = TfidfVectorizer(min_df=5)\n",
    "\n",
    "features_text = df['title'].values\n",
    "targets = df['label'].values\n",
    "\n",
    "### Using Bag-of-words ###\n",
    "model = LogisticRegression()\n",
    "features = count_vec.fit_transform(features_text).toarray()\n",
    "x_train, x_val, y_train, y_val = train_test_split(features, targets, test_size=0.33333)\n",
    "model.fit(x_train, y_train)\n",
    "predictions = model.predict(x_val)\n",
    "accuracy_bow = accuracy_score(y_val, predictions)\n",
    "print(f'[INFO] Accuracy of logistic regression when using BOW : {accuracy_bow}')\n",
    "\n",
    "### Using N-gram Bow ###\n",
    "model = LogisticRegression()\n",
    "features = bi_count_vec.fit_transform(features_text).toarray()\n",
    "x_train, x_val, y_train, y_val = train_test_split(features, targets, test_size=0.33333)\n",
    "model.fit(x_train, y_train)\n",
    "predictions = model.predict(x_val)\n",
    "accuracy_ngram = accuracy_score(y_val, predictions)\n",
    "print(f'[INFO] Accuracy of logistic regression when using Ngram-BOW : {accuracy_ngram}')\n",
    "\n",
    "### Using Tf-Idf ###\n",
    "model = LogisticRegression()\n",
    "features = tf_idf_vec.fit_transform(features_text).toarray()\n",
    "x_train, x_val, y_train, y_val = train_test_split(features, targets, test_size=0.33333)\n",
    "model.fit(x_train, y_train)\n",
    "predictions = model.predict(x_val)\n",
    "accuracy_tf_idf = accuracy_score(y_val, predictions)\n",
    "print(f'[INFO] Accuracy of logistic regression when using BOW : {accuracy_tf_idf}')"
   ]
  },
  {
   "cell_type": "markdown",
   "metadata": {
    "id": "0owFCRjtK6tm"
   },
   "source": [
    "# Feature engineerning with GloVe"
   ]
  },
  {
   "cell_type": "markdown",
   "metadata": {},
   "source": [
    "### Loading embeddings"
   ]
  },
  {
   "cell_type": "code",
   "execution_count": null,
   "metadata": {},
   "outputs": [],
   "source": []
  }
 ],
 "metadata": {
  "accelerator": "GPU",
  "colab": {
   "collapsed_sections": [],
   "name": "SentimentAnalysisWithGloVe.ipynb",
   "provenance": []
  },
  "kernelspec": {
   "display_name": "Python 3",
   "language": "python",
   "name": "python3"
  },
  "language_info": {
   "codemirror_mode": {
    "name": "ipython",
    "version": 3
   },
   "file_extension": ".py",
   "mimetype": "text/x-python",
   "name": "python",
   "nbconvert_exporter": "python",
   "pygments_lexer": "ipython3",
   "version": "3.8.5"
  }
 },
 "nbformat": 4,
 "nbformat_minor": 1
}
