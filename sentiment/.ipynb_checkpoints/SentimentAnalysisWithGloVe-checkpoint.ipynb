{
 "cells": [
  {
   "cell_type": "markdown",
   "metadata": {
    "id": "gaql0JRl-C2J"
   },
   "source": [
    "# Importing libraries"
   ]
  },
  {
   "cell_type": "code",
   "execution_count": 1,
   "metadata": {
    "colab": {
     "base_uri": "https://localhost:8080/"
    },
    "id": "DtUwtBk89Zo2",
    "outputId": "bb9ec73f-0cf3-4205-f57e-ceff4c029d40"
   },
   "outputs": [
    {
     "name": "stdout",
     "output_type": "stream",
     "text": [
      "/usr/lib/python3.8/runpy.py:127: RuntimeWarning: 'nltk.downloader' found in sys.modules after import of package 'nltk', but prior to execution of 'nltk.downloader'; this may result in unpredictable behaviour\n",
      "  warn(RuntimeWarning(msg))\n",
      "[nltk_data] Downloading package punkt to /home/minhhieu/nltk_data...\n",
      "[nltk_data]   Package punkt is already up-to-date!\n",
      "/usr/lib/python3.8/runpy.py:127: RuntimeWarning: 'nltk.downloader' found in sys.modules after import of package 'nltk', but prior to execution of 'nltk.downloader'; this may result in unpredictable behaviour\n",
      "  warn(RuntimeWarning(msg))\n",
      "[nltk_data] Downloading package stopwords to\n",
      "[nltk_data]     /home/minhhieu/nltk_data...\n",
      "[nltk_data]   Package stopwords is already up-to-date!\n",
      "/usr/lib/python3.8/runpy.py:127: RuntimeWarning: 'nltk.downloader' found in sys.modules after import of package 'nltk', but prior to execution of 'nltk.downloader'; this may result in unpredictable behaviour\n",
      "  warn(RuntimeWarning(msg))\n",
      "[nltk_data] Downloading package wordnet to /home/minhhieu/nltk_data...\n",
      "[nltk_data]   Package wordnet is already up-to-date!\n"
     ]
    }
   ],
   "source": [
    "# -- For google colab -- #\n",
    "# from google.colab import drive\n",
    "# drive.mount(\"/content/drive\", force_remount=True)\n",
    "\n",
    "import re\n",
    "import tqdm\n",
    "import string\n",
    "import unicodedata\n",
    "import numpy as np\n",
    "import pandas as pd\n",
    "import matplotlib.pyplot as plt \n",
    "\n",
    "### Tensorflow dependencies ###\n",
    "import tensorflow as tf\n",
    "from tensorflow.keras.layers import *\n",
    "from tensorflow.keras.optimizers import Adam\n",
    "from tensorflow.keras.models import Model, Sequential \n",
    "from tensorflow.keras import backend as K\n",
    "from tensorflow.keras.preprocessing.text import Tokenizer\n",
    "from tensorflow.keras.preprocessing.sequence import pad_sequences\n",
    "\n",
    "### Scikit-learn dependencies ###\n",
    "from sklearn.svm import LinearSVC\n",
    "from sklearn.naive_bayes import MultinomialNB\n",
    "from sklearn.linear_model import LogisticRegression\n",
    "from sklearn.decomposition import PCA\n",
    "from sklearn.manifold import  TSNE\n",
    "from sklearn.feature_extraction.text import CountVectorizer\n",
    "from sklearn.feature_extraction.text import TfidfVectorizer\n",
    "from sklearn.model_selection import train_test_split\n",
    "from sklearn.metrics import accuracy_score, f1_score, confusion_matrix, classification_report\n",
    "\n",
    "### nltk dependencies ###\n",
    "import nltk\n",
    "from nltk.corpus import stopwords\n",
    "from nltk.tokenize import word_tokenize\n",
    "from nltk.stem.wordnet import WordNetLemmatizer\n",
    "\n",
    "### Download nltk data ###\n",
    "!python3 -m nltk.downloader punkt\n",
    "!python3 -m nltk.downloader stopwords\n",
    "!python3 -m nltk.downloader wordnet\n",
    "\n",
    "### Some constants ###\n",
    "# true_path = \"/content/drive/My Drive/True.csv\"\n",
    "# fake_path = \"/content/drive/My Drive/Fake.csv\"\n",
    "true_path = \"../data/True.csv\"\n",
    "fake_path = \"../data/Fake.csv\"\n",
    "glove_emb_file = '../data/glove.twitter.27B.100d.txt'"
   ]
  },
  {
   "cell_type": "markdown",
   "metadata": {
    "id": "WXEWUTDfEb5W"
   },
   "source": [
    "# Loading and preprocessing text data"
   ]
  },
  {
   "cell_type": "markdown",
   "metadata": {
    "id": "iUPJALldFiXv"
   },
   "source": [
    "### Loading data"
   ]
  },
  {
   "cell_type": "code",
   "execution_count": 2,
   "metadata": {
    "colab": {
     "base_uri": "https://localhost:8080/",
     "height": 363
    },
    "id": "6Qc899J0_-Mf",
    "outputId": "6aff1544-ea0a-4014-c5c7-955a1bae86bc"
   },
   "outputs": [
    {
     "data": {
      "text/html": [
       "<div>\n",
       "<style scoped>\n",
       "    .dataframe tbody tr th:only-of-type {\n",
       "        vertical-align: middle;\n",
       "    }\n",
       "\n",
       "    .dataframe tbody tr th {\n",
       "        vertical-align: top;\n",
       "    }\n",
       "\n",
       "    .dataframe thead th {\n",
       "        text-align: right;\n",
       "    }\n",
       "</style>\n",
       "<table border=\"1\" class=\"dataframe\">\n",
       "  <thead>\n",
       "    <tr style=\"text-align: right;\">\n",
       "      <th></th>\n",
       "      <th>title</th>\n",
       "      <th>text</th>\n",
       "      <th>subject</th>\n",
       "      <th>date</th>\n",
       "      <th>label</th>\n",
       "    </tr>\n",
       "  </thead>\n",
       "  <tbody>\n",
       "    <tr>\n",
       "      <th>1814</th>\n",
       "      <td>Congress approves Trump's aid and debt deal wi...</td>\n",
       "      <td>WASHINGTON (Reuters) - President Donald Trump ...</td>\n",
       "      <td>politicsNews</td>\n",
       "      <td>September 8, 2017</td>\n",
       "      <td>1</td>\n",
       "    </tr>\n",
       "    <tr>\n",
       "      <th>1109</th>\n",
       "      <td>Trump says considering having both Powell and ...</td>\n",
       "      <td>WASHINGTON (Reuters) - President Donald Trump ...</td>\n",
       "      <td>politicsNews</td>\n",
       "      <td>October 20, 2017</td>\n",
       "      <td>1</td>\n",
       "    </tr>\n",
       "    <tr>\n",
       "      <th>14837</th>\n",
       "      <td>Romania expels pro-Russian Serb for photograph...</td>\n",
       "      <td>BUCHAREST (Reuters) - Romania has expelled a p...</td>\n",
       "      <td>worldnews</td>\n",
       "      <td>November 14, 2017</td>\n",
       "      <td>1</td>\n",
       "    </tr>\n",
       "    <tr>\n",
       "      <th>8134</th>\n",
       "      <td>Trump biofuel proposals echo those of backer I...</td>\n",
       "      <td>NEW YORK (Reuters) - Republican Presidential c...</td>\n",
       "      <td>politicsNews</td>\n",
       "      <td>September 16, 2016</td>\n",
       "      <td>1</td>\n",
       "    </tr>\n",
       "    <tr>\n",
       "      <th>12509</th>\n",
       "      <td>Turkey, Russia will meet to finalize S-400 def...</td>\n",
       "      <td>ANKARA (Reuters) - Turkish and Russian officia...</td>\n",
       "      <td>worldnews</td>\n",
       "      <td>December 11, 2017</td>\n",
       "      <td>1</td>\n",
       "    </tr>\n",
       "    <tr>\n",
       "      <th>12852</th>\n",
       "      <td>Moscow says Russian Olympic ban designed to so...</td>\n",
       "      <td>MOSCOW (Reuters) - Russian Prime Minister Dmit...</td>\n",
       "      <td>worldnews</td>\n",
       "      <td>December 7, 2017</td>\n",
       "      <td>1</td>\n",
       "    </tr>\n",
       "    <tr>\n",
       "      <th>18798</th>\n",
       "      <td>Saudi women to be allowed to drive from age 18...</td>\n",
       "      <td>RIYADH (Reuters) - Saudi women will be allowed...</td>\n",
       "      <td>worldnews</td>\n",
       "      <td>September 28, 2017</td>\n",
       "      <td>1</td>\n",
       "    </tr>\n",
       "    <tr>\n",
       "      <th>8354</th>\n",
       "      <td>U.S. Senate's Reid, in last round, jabs outsid...</td>\n",
       "      <td>LAS VEGAS (Reuters) - Outside political money ...</td>\n",
       "      <td>politicsNews</td>\n",
       "      <td>August 29, 2016</td>\n",
       "      <td>1</td>\n",
       "    </tr>\n",
       "    <tr>\n",
       "      <th>20621</th>\n",
       "      <td>Norway's Merkel, Erna Solberg hopes to beat hi...</td>\n",
       "      <td>OSLO (Reuters) - Erna Solberg seeks to accompl...</td>\n",
       "      <td>worldnews</td>\n",
       "      <td>September 8, 2017</td>\n",
       "      <td>1</td>\n",
       "    </tr>\n",
       "    <tr>\n",
       "      <th>13500</th>\n",
       "      <td>EU calls for 'equal rights' for all in Myanmar...</td>\n",
       "      <td>YANGON (Reuters) - Myanmar must guarantee  equ...</td>\n",
       "      <td>worldnews</td>\n",
       "      <td>November 30, 2017</td>\n",
       "      <td>1</td>\n",
       "    </tr>\n",
       "  </tbody>\n",
       "</table>\n",
       "</div>"
      ],
      "text/plain": [
       "                                                   title  \\\n",
       "1814   Congress approves Trump's aid and debt deal wi...   \n",
       "1109   Trump says considering having both Powell and ...   \n",
       "14837  Romania expels pro-Russian Serb for photograph...   \n",
       "8134   Trump biofuel proposals echo those of backer I...   \n",
       "12509  Turkey, Russia will meet to finalize S-400 def...   \n",
       "12852  Moscow says Russian Olympic ban designed to so...   \n",
       "18798  Saudi women to be allowed to drive from age 18...   \n",
       "8354   U.S. Senate's Reid, in last round, jabs outsid...   \n",
       "20621  Norway's Merkel, Erna Solberg hopes to beat hi...   \n",
       "13500  EU calls for 'equal rights' for all in Myanmar...   \n",
       "\n",
       "                                                    text       subject  \\\n",
       "1814   WASHINGTON (Reuters) - President Donald Trump ...  politicsNews   \n",
       "1109   WASHINGTON (Reuters) - President Donald Trump ...  politicsNews   \n",
       "14837  BUCHAREST (Reuters) - Romania has expelled a p...     worldnews   \n",
       "8134   NEW YORK (Reuters) - Republican Presidential c...  politicsNews   \n",
       "12509  ANKARA (Reuters) - Turkish and Russian officia...     worldnews   \n",
       "12852  MOSCOW (Reuters) - Russian Prime Minister Dmit...     worldnews   \n",
       "18798  RIYADH (Reuters) - Saudi women will be allowed...     worldnews   \n",
       "8354   LAS VEGAS (Reuters) - Outside political money ...  politicsNews   \n",
       "20621  OSLO (Reuters) - Erna Solberg seeks to accompl...     worldnews   \n",
       "13500  YANGON (Reuters) - Myanmar must guarantee  equ...     worldnews   \n",
       "\n",
       "                      date  label  \n",
       "1814    September 8, 2017       1  \n",
       "1109     October 20, 2017       1  \n",
       "14837   November 14, 2017       1  \n",
       "8134   September 16, 2016       1  \n",
       "12509   December 11, 2017       1  \n",
       "12852    December 7, 2017       1  \n",
       "18798  September 28, 2017       1  \n",
       "8354      August 29, 2016       1  \n",
       "20621   September 8, 2017       1  \n",
       "13500   November 30, 2017       1  "
      ]
     },
     "execution_count": 2,
     "metadata": {},
     "output_type": "execute_result"
    }
   ],
   "source": [
    "df_true = pd.read_csv(true_path, header=0).sample(n=10000, random_state=np.random.randint(0,40000))\n",
    "df_fake = pd.read_csv(fake_path, header=0).sample(n=10000, random_state=np.random.randint(0,40000))\n",
    "\n",
    "df_true['label'] = 1\n",
    "df_fake['label'] = 0\n",
    "df = pd.concat([df_true, df_fake])\n",
    "\n",
    "df.head(10)"
   ]
  },
  {
   "cell_type": "markdown",
   "metadata": {
    "id": "bfTbp5DxFkzF"
   },
   "source": [
    "### Cleaning text data"
   ]
  },
  {
   "cell_type": "code",
   "execution_count": 3,
   "metadata": {
    "id": "TC2fE4ebEqgu"
   },
   "outputs": [],
   "source": [
    "def cleanhtml(raw_html):\n",
    "  cleanr = re.compile('<.*?>|&([a-z0-9]+|#[0-9]{1,6}|#x[0-9a-f]{1,6});')\n",
    "  cleantext = re.sub(cleanr, '', raw_html)\n",
    "  return cleantext\n",
    "\n",
    "def remove_accents(input_str):\n",
    "    nfkd_form = unicodedata.normalize('NFKD', input_str)\n",
    "    only_ascii = nfkd_form.encode('ASCII', 'ignore')\n",
    "    return only_ascii.decode()\n",
    "\n",
    "# Dictionary of English Contractions\n",
    "contractions_dict = { \"ain't\": \"are not\",\"'s\":\" is\",\"aren't\": \"are not\",\n",
    "                     \"can't\": \"cannot\",\"can't've\": \"cannot have\",\n",
    "                     \"'cause\": \"because\",\"could've\": \"could have\",\"couldn't\": \"could not\",\n",
    "                     \"couldn't've\": \"could not have\", \"didn't\": \"did not\",\"doesn't\": \"does not\",\n",
    "                     \"don't\": \"do not\",\"hadn't\": \"had not\",\"hadn't've\": \"had not have\",\n",
    "                     \"hasn't\": \"has not\",\"haven't\": \"have not\",\"he'd\": \"he would\",\n",
    "                     \"he'd've\": \"he would have\",\"he'll\": \"he will\", \"he'll've\": \"he will have\",\n",
    "                     \"how'd\": \"how did\",\"how'd'y\": \"how do you\",\"how'll\": \"how will\",\n",
    "                     \"I'd\": \"I would\", \"I'd've\": \"I would have\",\"I'll\": \"I will\",\n",
    "                     \"I'll've\": \"I will have\",\"I'm\": \"I am\",\"I've\": \"I have\", \"isn't\": \"is not\",\n",
    "                     \"it'd\": \"it would\",\"it'd've\": \"it would have\",\"it'll\": \"it will\",\n",
    "                     \"it'll've\": \"it will have\", \"let's\": \"let us\",\"ma'am\": \"madam\",\n",
    "                     \"mayn't\": \"may not\",\"might've\": \"might have\",\"mightn't\": \"might not\", \n",
    "                     \"mightn't've\": \"might not have\",\"must've\": \"must have\",\"mustn't\": \"must not\",\n",
    "                     \"mustn't've\": \"must not have\", \"needn't\": \"need not\",\n",
    "                     \"needn't've\": \"need not have\",\"o'clock\": \"of the clock\",\"oughtn't\": \"ought not\",\n",
    "                     \"oughtn't've\": \"ought not have\",\"shan't\": \"shall not\",\"sha'n't\": \"shall not\",\n",
    "                     \"shan't've\": \"shall not have\",\"she'd\": \"she would\",\"she'd've\": \"she would have\",\n",
    "                     \"she'll\": \"she will\", \"she'll've\": \"she will have\",\"should've\": \"should have\",\n",
    "                     \"shouldn't\": \"should not\", \"shouldn't've\": \"should not have\",\"so've\": \"so have\",\n",
    "                     \"that'd\": \"that would\",\"that'd've\": \"that would have\", \"there'd\": \"there would\",\n",
    "                     \"there'd've\": \"there would have\", \"they'd\": \"they would\",\n",
    "                     \"they'd've\": \"they would have\",\"they'll\": \"they will\",\n",
    "                     \"they'll've\": \"they will have\", \"they're\": \"they are\",\"they've\": \"they have\",\n",
    "                     \"to've\": \"to have\",\"wasn't\": \"was not\",\"we'd\": \"we would\",\n",
    "                     \"we'd've\": \"we would have\",\"we'll\": \"we will\",\"we'll've\": \"we will have\",\n",
    "                     \"we're\": \"we are\",\"we've\": \"we have\", \"weren't\": \"were not\",\"what'll\": \"what will\",\n",
    "                     \"what'll've\": \"what will have\",\"what're\": \"what are\", \"what've\": \"what have\",\n",
    "                     \"when've\": \"when have\",\"where'd\": \"where did\", \"where've\": \"where have\",\n",
    "                     \"who'll\": \"who will\",\"who'll've\": \"who will have\",\"who've\": \"who have\",\n",
    "                     \"why've\": \"why have\",\"will've\": \"will have\",\"won't\": \"will not\",\n",
    "                     \"won't've\": \"will not have\", \"would've\": \"would have\",\"wouldn't\": \"would not\",\n",
    "                     \"wouldn't've\": \"would not have\",\"y'all\": \"you all\", \"y'all'd\": \"you all would\",\n",
    "                     \"y'all'd've\": \"you all would have\",\"y'all're\": \"you all are\",\n",
    "                     \"y'all've\": \"you all have\", \"you'd\": \"you would\",\"you'd've\": \"you would have\",\n",
    "                     \"you'll\": \"you will\",\"you'll've\": \"you will have\", \"you're\": \"you are\",\n",
    "                     \"you've\": \"you have\"}\n",
    "\n",
    "# Regular expression for finding contractions\n",
    "contractions_re=re.compile('(%s)' % '|'.join(contractions_dict.keys()))\n",
    "\n",
    "# Function for expanding contractions\n",
    "def expand_contractions(text,contractions_dict=contractions_dict):\n",
    "    def replace(match):\n",
    "        return contractions_dict[match.group(0)]\n",
    "    return contractions_re.sub(replace, text)\n",
    "\n",
    "stop_words = set(stopwords.words('english')) # Assuming all nltk data is installed\n",
    "lemmatizer = WordNetLemmatizer()\n",
    "\n",
    "def filter_stopwords(text):\n",
    "    word_tokens = word_tokenize(text)\n",
    "    filtered = [lemmatizer.lemmatize(w) for w in word_tokens if not w in stop_words]\n",
    "    filtered_sentence = ' '.join(filtered)\n",
    "\n",
    "    ### Removing all special characters ###\n",
    "    special_chars = ['…', '–', '’', '‘', '”', '“']\n",
    "\n",
    "    for char_ in special_chars:\n",
    "      filtered_sentence = filtered_sentence.replace(char_, \"\")\n",
    "\n",
    "    # Removal of extra spaces\n",
    "    filtered_sentence = re.sub(' +',' ',filtered_sentence)\n",
    "    return filtered_sentence\n",
    "\n",
    "def preprocessing_text(text):\n",
    "  ### 1. Removing tags and accented data ###\n",
    "  text = cleanhtml(text)\n",
    "  text = remove_accents(text)\n",
    "\n",
    "  ### 2. Expanding contractions ###\n",
    "  text = expand_contractions(text)\n",
    "\n",
    "  ### 3. Removing punctuations + lowercasing ###\n",
    "  text = text.lower()\n",
    "  text = re.sub('[%s]' % re.escape(string.punctuation), '', text)\n",
    "\n",
    "  ### 4. Removing special characters ### \n",
    "  #text = re.sub('[^A-Za-z0-9]+', ' ', text) # Remove non-text chars\n",
    "  #text = re.sub(' +',' ',text) # Remove extra spaces\n",
    "  #text = re.sub('\\w*\\d\\w*','', text) # Remove digits\n",
    "  \n",
    "  ### 5. Lemmatization and stopwords removal ###\n",
    "  text = filter_stopwords(text)\n",
    "\n",
    "  return text"
   ]
  },
  {
   "cell_type": "code",
   "execution_count": 4,
   "metadata": {
    "colab": {
     "base_uri": "https://localhost:8080/"
    },
    "id": "xMUeE_rrGw4e",
    "outputId": "0229075b-9ac3-471f-9b5e-4268ef67f2bc"
   },
   "outputs": [
    {
     "data": {
      "text/plain": [
       "1814        congress approves trump aid debt deal democrat\n",
       "1109         trump say considering powell taylor serve fed\n",
       "14837    romania expels prorussian serb photographing m...\n",
       "8134              trump biofuel proposal echo backer icahn\n",
       "12509    turkey russia meet finalize s400 defense deal ...\n",
       "12852    moscow say russian olympic ban designed sour p...\n",
       "18798                 saudi woman allowed drive age 18 men\n",
       "8354     u senate reid last round jab outside money nev...\n",
       "20621    norway merkel erna solberg hope beat history r...\n",
       "13500         eu call equal right myanmar troubled rakhine\n",
       "Name: title, dtype: object"
      ]
     },
     "execution_count": 4,
     "metadata": {},
     "output_type": "execute_result"
    }
   ],
   "source": [
    "df['title'] = df['title'].apply(lambda x : preprocessing_text(x))\n",
    "df['text']  = df['text'].apply(lambda x : preprocessing_text(x))\n",
    "df['title'].head(10)"
   ]
  },
  {
   "cell_type": "markdown",
   "metadata": {
    "id": "hnKJZxnmJ8wk"
   },
   "source": [
    "# Feature engineering methods comparision"
   ]
  },
  {
   "cell_type": "code",
   "execution_count": 5,
   "metadata": {
    "colab": {
     "base_uri": "https://localhost:8080/"
    },
    "id": "xsFkJ8-nIuZj",
    "outputId": "8d278242-2444-4447-8d51-734b65f5834c"
   },
   "outputs": [
    {
     "name": "stdout",
     "output_type": "stream",
     "text": [
      "[INFO] Accuracy of logistic regression when using BOW : 0.9311534423278836\n",
      "[INFO] Accuracy of logistic regression when using Ngram-BOW : 0.9407529623518824\n",
      "[INFO] Accuracy of logistic regression when using BOW : 0.928003599820009\n"
     ]
    }
   ],
   "source": [
    "count_vec = CountVectorizer(min_df=5)\n",
    "bi_count_vec = CountVectorizer(min_df=3, ngram_range=(1,2))\n",
    "tf_idf_vec = TfidfVectorizer(min_df=5)\n",
    "\n",
    "features_text = df['title'].values\n",
    "targets = df['label'].values\n",
    "\n",
    "### Using Bag-of-words ###\n",
    "model = LogisticRegression()\n",
    "features = count_vec.fit_transform(features_text).toarray()\n",
    "x_train, x_val, y_train, y_val = train_test_split(features, targets, test_size=0.33333)\n",
    "model.fit(x_train, y_train)\n",
    "predictions = model.predict(x_val)\n",
    "accuracy_bow = accuracy_score(y_val, predictions)\n",
    "print(f'[INFO] Accuracy of logistic regression when using BOW : {accuracy_bow}')\n",
    "\n",
    "### Using N-gram Bow ###\n",
    "model = LogisticRegression()\n",
    "features = bi_count_vec.fit_transform(features_text).toarray()\n",
    "x_train, x_val, y_train, y_val = train_test_split(features, targets, test_size=0.33333)\n",
    "model.fit(x_train, y_train)\n",
    "predictions = model.predict(x_val)\n",
    "accuracy_ngram = accuracy_score(y_val, predictions)\n",
    "print(f'[INFO] Accuracy of logistic regression when using Ngram-BOW : {accuracy_ngram}')\n",
    "\n",
    "### Using Tf-Idf ###\n",
    "model = LogisticRegression()\n",
    "features = tf_idf_vec.fit_transform(features_text).toarray()\n",
    "x_train, x_val, y_train, y_val = train_test_split(features, targets, test_size=0.33333)\n",
    "model.fit(x_train, y_train)\n",
    "predictions = model.predict(x_val)\n",
    "accuracy_tf_idf = accuracy_score(y_val, predictions)\n",
    "print(f'[INFO] Accuracy of logistic regression when using BOW : {accuracy_tf_idf}')"
   ]
  },
  {
   "cell_type": "markdown",
   "metadata": {
    "id": "779J-FC6CBwt"
   },
   "source": [
    "# Loading GloVe pretrain embedding"
   ]
  },
  {
   "cell_type": "code",
   "execution_count": 6,
   "metadata": {
    "colab": {
     "base_uri": "https://localhost:8080/"
    },
    "id": "0owFCRjtK6tm",
    "outputId": "537fc55d-1822-485f-ea30-83a8eef509d1"
   },
   "outputs": [
    {
     "name": "stderr",
     "output_type": "stream",
     "text": [
      "  1%|          | 13728/1193514 [00:00<00:17, 68546.21it/s]"
     ]
    },
    {
     "name": "stdout",
     "output_type": "stream",
     "text": [
      "[INFO] Loading word embeddings into dict...\n"
     ]
    },
    {
     "name": "stderr",
     "output_type": "stream",
     "text": [
      "100%|██████████| 1193514/1193514 [00:17<00:00, 67170.19it/s]\n"
     ]
    }
   ],
   "source": [
    "# Loading embedding as a dictionary\n",
    "f = open(glove_emb_file, 'r').readlines()\n",
    "word_emb = {}\n",
    "vectors = []\n",
    "\n",
    "print('[INFO] Loading word embeddings into dict...')\n",
    "with tqdm.tqdm(total=len(f)) as pbar:\n",
    "  for i in range(len(f)):\n",
    "    elems = f[i].strip().split(' ')\n",
    "    vec = np.array(elems[1:101], dtype=float)\n",
    "    word_emb[elems[0]] = vec\n",
    "\n",
    "    pbar.update(1)"
   ]
  },
  {
   "cell_type": "code",
   "execution_count": 7,
   "metadata": {
    "colab": {
     "base_uri": "https://localhost:8080/",
     "height": 667
    },
    "id": "so65-1w_SY-e",
    "outputId": "8d32750c-b75c-4a0e-9cfc-0e2dba3749cc"
   },
   "outputs": [
    {
     "name": "stderr",
     "output_type": "stream",
     "text": [
      "/usr/local/lib/python3.8/dist-packages/matplotlib/backends/backend_agg.py:238: RuntimeWarning: Glyph 65281 missing from current font.\n",
      "  font.set_text(s, 0.0, flags=flags)\n",
      "/usr/local/lib/python3.8/dist-packages/matplotlib/backends/backend_agg.py:238: RuntimeWarning: Glyph 12290 missing from current font.\n",
      "  font.set_text(s, 0.0, flags=flags)\n",
      "/usr/local/lib/python3.8/dist-packages/matplotlib/backends/backend_agg.py:238: RuntimeWarning: Glyph 12289 missing from current font.\n",
      "  font.set_text(s, 0.0, flags=flags)\n",
      "/usr/local/lib/python3.8/dist-packages/matplotlib/backends/backend_agg.py:238: RuntimeWarning: Glyph 65311 missing from current font.\n",
      "  font.set_text(s, 0.0, flags=flags)\n",
      "/usr/local/lib/python3.8/dist-packages/matplotlib/backends/backend_agg.py:238: RuntimeWarning: Glyph 12539 missing from current font.\n",
      "  font.set_text(s, 0.0, flags=flags)\n",
      "/usr/local/lib/python3.8/dist-packages/matplotlib/backends/backend_agg.py:201: RuntimeWarning: Glyph 65281 missing from current font.\n",
      "  font.set_text(s, 0, flags=flags)\n",
      "/usr/local/lib/python3.8/dist-packages/matplotlib/backends/backend_agg.py:201: RuntimeWarning: Glyph 12290 missing from current font.\n",
      "  font.set_text(s, 0, flags=flags)\n",
      "/usr/local/lib/python3.8/dist-packages/matplotlib/backends/backend_agg.py:201: RuntimeWarning: Glyph 12289 missing from current font.\n",
      "  font.set_text(s, 0, flags=flags)\n",
      "/usr/local/lib/python3.8/dist-packages/matplotlib/backends/backend_agg.py:201: RuntimeWarning: Glyph 65311 missing from current font.\n",
      "  font.set_text(s, 0, flags=flags)\n",
      "/usr/local/lib/python3.8/dist-packages/matplotlib/backends/backend_agg.py:201: RuntimeWarning: Glyph 12539 missing from current font.\n",
      "  font.set_text(s, 0, flags=flags)\n"
     ]
    },
    {
     "data": {
      "image/png": "[encoded data removed]",
      "text/plain": [
       "<Figure size 720x360 with 1 Axes>"
      ]
     },
     "metadata": {
      "needs_background": "light"
     },
     "output_type": "display_data"
    }
   ],
   "source": [
    "# Visualize some words in glove\n",
    "tsne = TSNE(n_components=2)\n",
    "keys = list(word_emb.keys()) \n",
    "vectors = []\n",
    "\n",
    "fig, ax = plt.subplots(figsize=(10, 5))\n",
    "for i in range(100):\n",
    "  vector = word_emb[keys[i]]\n",
    "  vectors.append(vector)\n",
    "\n",
    "vectors = tsne.fit_transform(vectors)\n",
    "ax.scatter(vectors[:,0], vectors[:,1])\n",
    "for i in range(100):\n",
    "  ax.annotate(keys[i], (vectors[:,0][i], vectors[:,1][i]))\n",
    "\n",
    "plt.show()"
   ]
  },
  {
   "cell_type": "markdown",
   "metadata": {
    "id": "2X1EsxCJe6Dp"
   },
   "source": [
    "# Building LSTM model with embedding"
   ]
  },
  {
   "cell_type": "code",
   "execution_count": 8,
   "metadata": {
    "colab": {
     "base_uri": "https://localhost:8080/"
    },
    "id": "Gp5e1TayY3i5",
    "outputId": "e5b402ae-f5af-4aef-a4cd-ced886bf2600"
   },
   "outputs": [
    {
     "name": "stderr",
     "output_type": "stream",
     "text": [
      "  2%|▏         | 343/16959 [00:00<00:04, 3397.06it/s]"
     ]
    },
    {
     "name": "stdout",
     "output_type": "stream",
     "text": [
      "[INFO] Creating embedding matrix ... \n"
     ]
    },
    {
     "name": "stderr",
     "output_type": "stream",
     "text": [
      "100%|█████████▉| 16958/16959 [01:06<00:00, 254.94it/s]\n"
     ]
    }
   ],
   "source": [
    "# Map words to integers\n",
    "tokenizer = Tokenizer(char_level=False, oov_token='<None>')\n",
    "tokenizer.fit_on_texts(features_text)\n",
    "word_to_index = tokenizer.word_index \n",
    "\n",
    "features = pad_sequences(tokenizer.texts_to_sequences(features_text))\n",
    "max_seq_len = features.shape[1]\n",
    "emb_vector_len = word_emb['fuck'].shape[0]\n",
    "vocab_size = np.max(features.flatten()) + 1\n",
    "\n",
    "# construct embedding matrix that correspond with our training data\n",
    "print('[INFO] Creating embedding matrix ... ')\n",
    "emb_matrix = np.zeros((vocab_size, emb_vector_len))\n",
    "\n",
    "with tqdm.tqdm(total=vocab_size) as pbar:\n",
    "  for word, index in word_to_index.items():\n",
    "    if(word in keys):\n",
    "      emb_vector = word_emb[word]\n",
    "      if(emb_vector is not None):\n",
    "        emb_matrix[index, :] = emb_vector \n",
    "\n",
    "    pbar.update(1)\n"
   ]
  },
  {
   "cell_type": "code",
   "execution_count": 9,
   "metadata": {
    "colab": {
     "base_uri": "https://localhost:8080/"
    },
    "id": "SrJqgM73gAXT",
    "outputId": "a1f9a039-0c6d-4486-b84c-1a569b3697f7"
   },
   "outputs": [
    {
     "name": "stdout",
     "output_type": "stream",
     "text": [
      "WARNING:tensorflow:Layer lstm will not use cuDNN kernel since it doesn't meet the cuDNN kernel criteria. It will use generic GPU kernel as fallback when running on GPU\n",
      "WARNING:tensorflow:Layer lstm will not use cuDNN kernel since it doesn't meet the cuDNN kernel criteria. It will use generic GPU kernel as fallback when running on GPU\n",
      "WARNING:tensorflow:Layer lstm will not use cuDNN kernel since it doesn't meet the cuDNN kernel criteria. It will use generic GPU kernel as fallback when running on GPU\n",
      "WARNING:tensorflow:Layer lstm_1 will not use cuDNN kernel since it doesn't meet the cuDNN kernel criteria. It will use generic GPU kernel as fallback when running on GPU\n",
      "WARNING:tensorflow:Layer lstm_1 will not use cuDNN kernel since it doesn't meet the cuDNN kernel criteria. It will use generic GPU kernel as fallback when running on GPU\n",
      "WARNING:tensorflow:Layer lstm_1 will not use cuDNN kernel since it doesn't meet the cuDNN kernel criteria. It will use generic GPU kernel as fallback when running on GPU\n",
      "Model: \"SentimentAnalysis_GloVe\"\n",
      "_________________________________________________________________\n",
      "Layer (type)                 Output Shape              Param #   \n",
      "=================================================================\n",
      "input_1 (InputLayer)         [(None, 29)]              0         \n",
      "_________________________________________________________________\n",
      "embedding (Embedding)        (None, 29, 100)           1695900   \n",
      "_________________________________________________________________\n",
      "bidirectional (Bidirectional (None, 29, 128)           84480     \n",
      "_________________________________________________________________\n",
      "bidirectional_1 (Bidirection (None, 128)               98816     \n",
      "_________________________________________________________________\n",
      "dense (Dense)                (None, 128)               16512     \n",
      "_________________________________________________________________\n",
      "dense_1 (Dense)              (None, 2)                 258       \n",
      "=================================================================\n",
      "Total params: 1,895,966\n",
      "Trainable params: 200,066\n",
      "Non-trainable params: 1,695,900\n",
      "_________________________________________________________________\n",
      "None\n"
     ]
    }
   ],
   "source": [
    "# build the model with the embedding matrix created\n",
    "def build_model(vocab_size, seq_len, emb_matrix, num_classes):\n",
    "  inputs = Input(shape=(seq_len,))\n",
    "  emb_layer = Embedding(vocab_size, 100, input_length=seq_len, weights=[emb_matrix], trainable=False)(inputs)\n",
    "\n",
    "  rnn = Bidirectional(LSTM(64, return_sequences=True, recurrent_dropout=0.25, dropout=0.25))(emb_layer)\n",
    "  rnn = Bidirectional(LSTM(64, return_sequences=False, recurrent_dropout=0.1, dropout=0.1))(rnn)\n",
    "\n",
    "  fc = Dense(128, activation='relu')(rnn)\n",
    "  output = Dense(num_classes, activation='softmax')(fc)\n",
    "  model = Model(inputs=inputs, outputs=output, name='SentimentAnalysis_GloVe')\n",
    "  return model \n",
    "\n",
    "optimizer = Adam(lr=0.0001, beta_1=0.5, amsgrad=True)\n",
    "model = build_model(vocab_size, max_seq_len, emb_matrix, 2)\n",
    "model.compile(optimizer=optimizer, loss='sparse_categorical_crossentropy', metrics=['accuracy'])\n",
    "print(model.summary())"
   ]
  },
  {
   "cell_type": "code",
   "execution_count": 10,
   "metadata": {
    "colab": {
     "base_uri": "https://localhost:8080/"
    },
    "id": "7dpulYPEm8h4",
    "outputId": "adadc13b-bf87-4b36-bb9d-3dc80f651094"
   },
   "outputs": [
    {
     "name": "stdout",
     "output_type": "stream",
     "text": [
      "Epoch 1/10\n",
      "209/209 [==============================] - 37s 178ms/step - loss: 0.3974 - accuracy: 0.8270 - val_loss: 0.2563 - val_accuracy: 0.8908\n",
      "Epoch 2/10\n",
      "209/209 [==============================] - 37s 178ms/step - loss: 0.2523 - accuracy: 0.8928 - val_loss: 0.2228 - val_accuracy: 0.9096\n",
      "Epoch 3/10\n",
      "209/209 [==============================] - 37s 176ms/step - loss: 0.2317 - accuracy: 0.9032 - val_loss: 0.2148 - val_accuracy: 0.9118\n",
      "Epoch 4/10\n",
      "209/209 [==============================] - 37s 175ms/step - loss: 0.2203 - accuracy: 0.9091 - val_loss: 0.2131 - val_accuracy: 0.9136\n",
      "Epoch 5/10\n",
      "209/209 [==============================] - 36s 172ms/step - loss: 0.2152 - accuracy: 0.9112 - val_loss: 0.2064 - val_accuracy: 0.9166\n",
      "Epoch 6/10\n",
      "209/209 [==============================] - 36s 175ms/step - loss: 0.2049 - accuracy: 0.9176 - val_loss: 0.2176 - val_accuracy: 0.9084\n",
      "Epoch 7/10\n",
      "209/209 [==============================] - 37s 175ms/step - loss: 0.2022 - accuracy: 0.9185 - val_loss: 0.1887 - val_accuracy: 0.9280\n",
      "Epoch 8/10\n",
      "209/209 [==============================] - 36s 172ms/step - loss: 0.1964 - accuracy: 0.9203 - val_loss: 0.1839 - val_accuracy: 0.9289\n",
      "Epoch 9/10\n",
      "209/209 [==============================] - 36s 175ms/step - loss: 0.1905 - accuracy: 0.9207 - val_loss: 0.1946 - val_accuracy: 0.9213\n",
      "Epoch 10/10\n",
      "209/209 [==============================] - 38s 180ms/step - loss: 0.1847 - accuracy: 0.9240 - val_loss: 0.2095 - val_accuracy: 0.9126\n"
     ]
    }
   ],
   "source": [
    "X_train, X_test, Y_train, Y_test = train_test_split(features, df['label'].values, test_size=0.33333)\n",
    "history = model.fit(X_train, Y_train, validation_data=(X_test, Y_test), batch_size=64, epochs=10)"
   ]
  },
  {
   "cell_type": "markdown",
   "metadata": {},
   "source": [
    "## Visualization ###"
   ]
  },
  {
   "cell_type": "code",
   "execution_count": 11,
   "metadata": {
    "id": "ItrGx8fInkz-"
   },
   "outputs": [
    {
     "data": {
      "image/png": "[encoded data removed]",
      "text/plain": [
       "<Figure size 720x360 with 2 Axes>"
      ]
     },
     "metadata": {
      "needs_background": "light"
     },
     "output_type": "display_data"
    }
   ],
   "source": [
    "## Visualization ###\n",
    "loss, val_loss = history.history['loss'], history.history['val_loss']\n",
    "accuracy, val_accuracy = history.history['accuracy'], history.history['val_accuracy']\n",
    "\n",
    "fig, ax = plt.subplots(1,2, figsize=(10, 5))\n",
    "ax[0].plot(loss, color='blue', label='Training Loss')\n",
    "ax[0].plot(val_loss, color='orange', label='Validating Loss')\n",
    "ax[1].plot(accuracy, color='blue', label='Training Accuracy')\n",
    "ax[1].plot(val_accuracy, color='orange', label='Validating Accuracy')\n",
    "\n",
    "ax[0].legend()\n",
    "ax[1].legend()\n",
    "plt.show()"
   ]
  }
 ],
 "metadata": {
  "accelerator": "GPU",
  "colab": {
   "collapsed_sections": [],
   "name": "SentimentAnalysisWithGloVe.ipynb",
   "provenance": []
  },
  "kernelspec": {
   "display_name": "Python 3",
   "language": "python",
   "name": "python3"
  },
  "language_info": {
   "codemirror_mode": {
    "name": "ipython",
    "version": 3
   },
   "file_extension": ".py",
   "mimetype": "text/x-python",
   "name": "python",
   "nbconvert_exporter": "python",
   "pygments_lexer": "ipython3",
   "version": "3.8.5"
  }
 },
 "nbformat": 4,
 "nbformat_minor": 1
}
