{
  "nbformat": 4,
  "nbformat_minor": 0,
  "metadata": {
    "colab": {
      "name": "SentimentAnalysisCNN_BidirectionalRNN.ipynb",
      "provenance": [],
      "collapsed_sections": []
    },
    "kernelspec": {
      "name": "python3",
      "display_name": "Python 3"
    },
    "language_info": {
      "name": "python"
    },
    "accelerator": "GPU"
  },
  "cells": [
    {
      "cell_type": "markdown",
      "metadata": {
        "id": "8CgHTZJtgeB-"
      },
      "source": [
        "# Importing libraries"
      ]
    },
    {
      "cell_type": "code",
      "metadata": {
        "colab": {
          "base_uri": "https://localhost:8080/"
        },
        "id": "u7aRsxyXfYC7",
        "outputId": "c45c898f-f671-4bca-ad12-2e984e6ee3a7"
      },
      "source": [
        "### Mount to drive ###\n",
        "from google.colab import drive\n",
        "drive.mount(\"/content/drive\", force_remount=True)\n",
        "\n",
        "### Importing libraries ###\n",
        "import re\n",
        "import os\n",
        "# import spacy\n",
        "import string\n",
        "import datetime\n",
        "import numpy as np\n",
        "import pandas as pd\n",
        "import matplotlib.pyplot as plt\n",
        "plt.style.use('seaborn-darkgrid')\n",
        "\n",
        "from nltk.corpus import stopwords  \n",
        "from nltk.tokenize import word_tokenize\n",
        "from nltk.stem import WordNetLemmatizer \n",
        "\n",
        "from sklearn.svm import SVC\n",
        "from sklearn.naive_bayes import GaussianNB\n",
        "from sklearn.feature_extraction.text import TfidfVectorizer\n",
        "from sklearn.feature_extraction.text import CountVectorizer\n",
        "from sklearn.model_selection import train_test_split\n",
        "from sklearn.metrics import accuracy_score, f1_score\n",
        "from sklearn.preprocessing import OneHotEncoder\n",
        "from sklearn.decomposition import PCA\n",
        "\n",
        "from xgboost import XGBClassifier\n",
        "\n",
        "### Tensorflow dependencies ###\n",
        "import tensorflow as tf # tensorflow 2.3.1\n",
        "\n",
        "from tensorflow.keras import regularizers\n",
        "from tensorflow.keras.layers import *\n",
        "from tensorflow.keras.models import Model, Sequential\n",
        "from tensorflow.keras import backend as K\n",
        "from tensorflow.keras.preprocessing.text import Tokenizer\n",
        "from tensorflow.keras.preprocessing.sequence import pad_sequences\n",
        "\n",
        "# data file names\n",
        "fake_path = \"/content/drive/My Drive/Fake.csv\"\n",
        "true_path = \"/content/drive/My Drive/True.csv\""
      ],
      "execution_count": 75,
      "outputs": [
        {
          "output_type": "stream",
          "text": [
            "Mounted at /content/drive\n"
          ],
          "name": "stdout"
        }
      ]
    },
    {
      "cell_type": "markdown",
      "metadata": {
        "id": "WKMSBv0agu-R"
      },
      "source": [
        "# I. Loading and exploring data "
      ]
    },
    {
      "cell_type": "code",
      "metadata": {
        "id": "oBHSLotCgVb0"
      },
      "source": [
        "# Sample data with each class taking 10000 instances\n",
        "df_fake = pd.read_csv(fake_path, header=0).sample(n=10000, random_state=np.random.randint(0,40000))\n",
        "df_true = pd.read_csv(true_path, header=0).sample(n=10000, random_state=np.random.randint(0,40000))"
      ],
      "execution_count": 76,
      "outputs": []
    },
    {
      "cell_type": "code",
      "metadata": {
        "colab": {
          "base_uri": "https://localhost:8080/",
          "height": 424
        },
        "id": "R92q8r51g1Ae",
        "outputId": "3d683494-e498-4ff5-d151-c38b519fa022"
      },
      "source": [
        "# Concatenate the two data frames \n",
        "df_fake['label'] = 0\n",
        "df_true['label'] = 1\n",
        "\n",
        "df = pd.concat([df_fake, df_true])\n",
        "df.index = list(range(len(df.index))) # re-index the dataframe\n",
        "df # print out the data frame"
      ],
      "execution_count": 77,
      "outputs": [
        {
          "output_type": "execute_result",
          "data": {
            "text/html": [
              "<div>\n",
              "<style scoped>\n",
              "    .dataframe tbody tr th:only-of-type {\n",
              "        vertical-align: middle;\n",
              "    }\n",
              "\n",
              "    .dataframe tbody tr th {\n",
              "        vertical-align: top;\n",
              "    }\n",
              "\n",
              "    .dataframe thead th {\n",
              "        text-align: right;\n",
              "    }\n",
              "</style>\n",
              "<table border=\"1\" class=\"dataframe\">\n",
              "  <thead>\n",
              "    <tr style=\"text-align: right;\">\n",
              "      <th></th>\n",
              "      <th>title</th>\n",
              "      <th>text</th>\n",
              "      <th>subject</th>\n",
              "      <th>date</th>\n",
              "      <th>label</th>\n",
              "    </tr>\n",
              "  </thead>\n",
              "  <tbody>\n",
              "    <tr>\n",
              "      <th>0</th>\n",
              "      <td>Trump Delegate Kicked Out Of RNC After Hoping...</td>\n",
              "      <td>Another day, another example of right-wing rac...</td>\n",
              "      <td>News</td>\n",
              "      <td>July 21, 2016</td>\n",
              "      <td>0</td>\n",
              "    </tr>\n",
              "    <tr>\n",
              "      <th>1</th>\n",
              "      <td>Malia Obama Is Getting Political And Standing...</td>\n",
              "      <td>Less than a week after her father left office ...</td>\n",
              "      <td>News</td>\n",
              "      <td>January 27, 2017</td>\n",
              "      <td>0</td>\n",
              "    </tr>\n",
              "    <tr>\n",
              "      <th>2</th>\n",
              "      <td>MAXINE WATERS: ‘These people trying to ‘discre...</td>\n",
              "      <td>MAXINE GOT A MAKEOVER and is hopping mad about...</td>\n",
              "      <td>left-news</td>\n",
              "      <td>Jul 22, 2017</td>\n",
              "      <td>0</td>\n",
              "    </tr>\n",
              "    <tr>\n",
              "      <th>3</th>\n",
              "      <td>DINESH D’SOUZA BRILLIANTLY Schools Hollywood R...</td>\n",
              "      <td>If you haven t seen Dinesh D Souza s  HILLARY ...</td>\n",
              "      <td>left-news</td>\n",
              "      <td>Jul 28, 2016</td>\n",
              "      <td>0</td>\n",
              "    </tr>\n",
              "    <tr>\n",
              "      <th>4</th>\n",
              "      <td>BREAKING: WOMEN, MEN ARRESTED After MAJOR BRAW...</td>\n",
              "      <td>The moral decay of our nation continues full s...</td>\n",
              "      <td>left-news</td>\n",
              "      <td>May 9, 2017</td>\n",
              "      <td>0</td>\n",
              "    </tr>\n",
              "    <tr>\n",
              "      <th>...</th>\n",
              "      <td>...</td>\n",
              "      <td>...</td>\n",
              "      <td>...</td>\n",
              "      <td>...</td>\n",
              "      <td>...</td>\n",
              "    </tr>\n",
              "    <tr>\n",
              "      <th>19995</th>\n",
              "      <td>Australian PM says business as usual despite c...</td>\n",
              "      <td>SYDNEY (Reuters) - Australian Prime Minister M...</td>\n",
              "      <td>worldnews</td>\n",
              "      <td>October 27, 2017</td>\n",
              "      <td>1</td>\n",
              "    </tr>\n",
              "    <tr>\n",
              "      <th>19996</th>\n",
              "      <td>U.S. Interior Dept. watchdog launches probe in...</td>\n",
              "      <td>WASHINGTON (Reuters) - The Interior Department...</td>\n",
              "      <td>politicsNews</td>\n",
              "      <td>October 2, 2017</td>\n",
              "      <td>1</td>\n",
              "    </tr>\n",
              "    <tr>\n",
              "      <th>19997</th>\n",
              "      <td>China says no intention of using currency deva...</td>\n",
              "      <td>BEIJING (Reuters) - China said on Friday it ha...</td>\n",
              "      <td>politicsNews</td>\n",
              "      <td>February 24, 2017</td>\n",
              "      <td>1</td>\n",
              "    </tr>\n",
              "    <tr>\n",
              "      <th>19998</th>\n",
              "      <td>Central American presidents congratulate Trump</td>\n",
              "      <td>SAN JOSE (Reuters) - The presidents of three C...</td>\n",
              "      <td>politicsNews</td>\n",
              "      <td>November 9, 2016</td>\n",
              "      <td>1</td>\n",
              "    </tr>\n",
              "    <tr>\n",
              "      <th>19999</th>\n",
              "      <td>Pakistani army says it has acted against milit...</td>\n",
              "      <td>ISLAMABAD (Reuters) - Pakistan has taken actio...</td>\n",
              "      <td>politicsNews</td>\n",
              "      <td>August 21, 2017</td>\n",
              "      <td>1</td>\n",
              "    </tr>\n",
              "  </tbody>\n",
              "</table>\n",
              "<p>20000 rows × 5 columns</p>\n",
              "</div>"
            ],
            "text/plain": [
              "                                                   title  ... label\n",
              "0       Trump Delegate Kicked Out Of RNC After Hoping...  ...     0\n",
              "1       Malia Obama Is Getting Political And Standing...  ...     0\n",
              "2      MAXINE WATERS: ‘These people trying to ‘discre...  ...     0\n",
              "3      DINESH D’SOUZA BRILLIANTLY Schools Hollywood R...  ...     0\n",
              "4      BREAKING: WOMEN, MEN ARRESTED After MAJOR BRAW...  ...     0\n",
              "...                                                  ...  ...   ...\n",
              "19995  Australian PM says business as usual despite c...  ...     1\n",
              "19996  U.S. Interior Dept. watchdog launches probe in...  ...     1\n",
              "19997  China says no intention of using currency deva...  ...     1\n",
              "19998     Central American presidents congratulate Trump  ...     1\n",
              "19999  Pakistani army says it has acted against milit...  ...     1\n",
              "\n",
              "[20000 rows x 5 columns]"
            ]
          },
          "metadata": {
            "tags": []
          },
          "execution_count": 77
        }
      ]
    },
    {
      "cell_type": "markdown",
      "metadata": {
        "id": "lf24SWbog9lY"
      },
      "source": [
        "# II. Exploratory data analysis and cleaning"
      ]
    },
    {
      "cell_type": "code",
      "metadata": {
        "colab": {
          "base_uri": "https://localhost:8080/"
        },
        "id": "oGaP75fNg4Ak",
        "outputId": "2074aed6-238c-41a2-d0d7-f74428b76116"
      },
      "source": [
        "# Dropping duplicates and re-indexing\n",
        "original_row_count = len(df.index)\n",
        "df = df.drop_duplicates()\n",
        "df = df.reset_index(drop=True)\n",
        "\n",
        "new_row_count = len(df.index)\n",
        "print(f'[INFO] {original_row_count - new_row_count} duplicate rows dropped ...')"
      ],
      "execution_count": 78,
      "outputs": [
        {
          "output_type": "stream",
          "text": [
            "[INFO] 54 duplicate rows dropped ...\n"
          ],
          "name": "stdout"
        }
      ]
    },
    {
      "cell_type": "code",
      "metadata": {
        "colab": {
          "base_uri": "https://localhost:8080/"
        },
        "id": "10axyIeehH0M",
        "outputId": "10614b3d-c98f-4d66-bf51-66125a8fc76a"
      },
      "source": [
        "format_ = \"%B %d, %Y\" # E.g : April 04, 2020\n",
        "num_invalids = 0\n",
        "\n",
        "df['date'] = df['date'].apply(lambda x : x.strip())\n",
        "for _date in np.unique(df['date']):\n",
        "    try:\n",
        "        datetime.datetime.strptime(_date, format_)\n",
        "    except:\n",
        "        num_invalids += 1\n",
        "        \n",
        "print(f\"[INFO] Number of invalid date strings : {num_invalids}\")"
      ],
      "execution_count": 79,
      "outputs": [
        {
          "output_type": "stream",
          "text": [
            "[INFO] Number of invalid date strings : 905\n"
          ],
          "name": "stdout"
        }
      ]
    },
    {
      "cell_type": "code",
      "metadata": {
        "colab": {
          "base_uri": "https://localhost:8080/"
        },
        "id": "kcaQKcx3hKEg",
        "outputId": "f770bddb-4c92-4e84-b75a-a3be061c4580"
      },
      "source": [
        "# Replace month strings with their full forms\n",
        "num_invalids = 0\n",
        "\n",
        "short_forms = [\"Jan \", \"Feb \", \"Mar \", \"Apr \", \"May \", \"Jun \", \"Jul \", \"Aug \", \"Sep \", \"Oct \", \"Nov \", \"Dec \"]\n",
        "full_forms  = [\"January \", \"Febuary \", \"March \", \"April \", \"May \", \"June \", \"July \", \"August \", \"September \", \n",
        "               \"October \", \"November \", \"December \"]\n",
        "\n",
        "for i in range(len(short_forms)):\n",
        "    df['date'] = df['date'].str.replace(short_forms[i], full_forms[i])\n",
        "    \n",
        "# Check again which date strings are still unclean\n",
        "for _date in np.unique(df['date']):\n",
        "    try:\n",
        "        datetime.datetime.strptime(_date, format_)\n",
        "    except:\n",
        "        num_invalids += 1\n",
        "        \n",
        "print(f\"[INFO] Number of invalid date strings : {num_invalids}\")"
      ],
      "execution_count": 80,
      "outputs": [
        {
          "output_type": "stream",
          "text": [
            "[INFO] Number of invalid date strings : 66\n"
          ],
          "name": "stdout"
        }
      ]
    },
    {
      "cell_type": "code",
      "metadata": {
        "colab": {
          "base_uri": "https://localhost:8080/"
        },
        "id": "DWbgvHachMRW",
        "outputId": "d798e1b8-c3ea-4f8d-bac9-6105d6350192"
      },
      "source": [
        "# Replace 'Febuary' with \"Frebuary\"\n",
        "num_invalids = 0\n",
        "df['date'] = df['date'].str.replace(\"Febuary\", \"February\")\n",
        "\n",
        "# Check again which date strings are still unclean\n",
        "for _date in np.unique(df['date']):\n",
        "    try:\n",
        "        datetime.datetime.strptime(_date, format_)\n",
        "    except:\n",
        "        num_invalids += 1\n",
        "        \n",
        "print(f\"[INFO] Number of invalid date strings : {num_invalids}\")"
      ],
      "execution_count": 81,
      "outputs": [
        {
          "output_type": "stream",
          "text": [
            "[INFO] Number of invalid date strings : 9\n"
          ],
          "name": "stdout"
        }
      ]
    },
    {
      "cell_type": "code",
      "metadata": {
        "colab": {
          "base_uri": "https://localhost:8080/"
        },
        "id": "t4Pd05y2hOe1",
        "outputId": "b0aaa484-c2b0-43cd-dc0b-d0fae951ccc6"
      },
      "source": [
        "# Convert format '%d-%B-%y' to '%B %d, %Y'\n",
        "num_invalids = 0\n",
        "df['date'] = df['date'].apply(lambda x : x.replace('Feb-', 'February-'))\n",
        "\n",
        "for _date in np.unique(df['date']):\n",
        "    try:\n",
        "        old = datetime.datetime.strptime(_date, '%d-%B-%y')\n",
        "        new = old.strftime(format_)\n",
        "        df['date'] = df['date'].str.replace(_date, new)\n",
        "    except : pass\n",
        "    \n",
        "# Check again which date strings are still unclean\n",
        "for _date in np.unique(df['date']):\n",
        "    try:\n",
        "        datetime.datetime.strptime(_date, format_)\n",
        "    except:\n",
        "        num_invalids += 1\n",
        "        \n",
        "print(f\"[INFO] Number of invalid date strings : {num_invalids}\")"
      ],
      "execution_count": 82,
      "outputs": [
        {
          "output_type": "stream",
          "text": [
            "[INFO] Number of invalid date strings : 4\n"
          ],
          "name": "stdout"
        }
      ]
    },
    {
      "cell_type": "code",
      "metadata": {
        "colab": {
          "base_uri": "https://localhost:8080/"
        },
        "id": "i-nFw2PFhRgV",
        "outputId": "f8dc2bad-5662-438d-9c87-f2d17954328d"
      },
      "source": [
        "num_invalids = 0\n",
        "def is_valid(date_string):\n",
        "    try:\n",
        "        datetime.datetime.strptime(date_string, format_)\n",
        "        return True\n",
        "    except:\n",
        "        return \n",
        "    \n",
        "original_row_count = len(df.index)\n",
        "df['date'] = df['date'].apply(lambda x : np.nan if not is_valid(x) else x)\n",
        "df = df.dropna()\n",
        "new_row_count = len(df.index)\n",
        "\n",
        "print(f'[INFO] {original_row_count - new_row_count} invalid rows dropped ...')\n",
        "\n",
        "# Check again which date strings are still unclean\n",
        "for _date in np.unique(df['date']):\n",
        "    try:\n",
        "        datetime.datetime.strptime(_date, format_)\n",
        "    except:\n",
        "        num_invalids += 1\n",
        "        \n",
        "print(f\"[INFO] Number of invalid date strings : {num_invalids}\")"
      ],
      "execution_count": 83,
      "outputs": [
        {
          "output_type": "stream",
          "text": [
            "[INFO] 4 invalid rows dropped ...\n",
            "[INFO] Number of invalid date strings : 0\n"
          ],
          "name": "stdout"
        }
      ]
    },
    {
      "cell_type": "code",
      "metadata": {
        "colab": {
          "base_uri": "https://localhost:8080/"
        },
        "id": "enfoU0gXhUDM",
        "outputId": "0785a0ff-8489-41f2-d634-4e8fd4bed0da"
      },
      "source": [
        "print(np.unique(df['subject'].values))"
      ],
      "execution_count": 84,
      "outputs": [
        {
          "output_type": "stream",
          "text": [
            "['Government News' 'Middle-east' 'News' 'US_News' 'left-news' 'politics'\n",
            " 'politicsNews' 'worldnews']\n"
          ],
          "name": "stdout"
        }
      ]
    },
    {
      "cell_type": "code",
      "metadata": {
        "colab": {
          "base_uri": "https://localhost:8080/"
        },
        "id": "N4WfsxU1hWK1",
        "outputId": "c6dee5f1-6ebc-465e-f3a8-ec4d87032b64"
      },
      "source": [
        "df['subject'] = df['subject'].str.replace(\"politicsNews\", \"politics\")\n",
        "print(np.unique(df['subject'].values))"
      ],
      "execution_count": 85,
      "outputs": [
        {
          "output_type": "stream",
          "text": [
            "['Government News' 'Middle-east' 'News' 'US_News' 'left-news' 'politics'\n",
            " 'worldnews']\n"
          ],
          "name": "stdout"
        }
      ]
    },
    {
      "cell_type": "code",
      "metadata": {
        "colab": {
          "base_uri": "https://localhost:8080/",
          "height": 938
        },
        "id": "BYY3CsLhhYEg",
        "outputId": "2938589b-c8d4-4f5a-f52e-1c2cbd510be0"
      },
      "source": [
        "def split_date_to_month(date):\n",
        "    d = datetime.datetime.strptime(date, format_)\n",
        "    month = str(d.month).zfill(2)\n",
        "    year  = str(d.year)\n",
        "    \n",
        "    return year + \"-\" + month\n",
        "\n",
        "fig, ax = plt.subplots(2, 1, figsize=(15, 5))\n",
        "df['month'] = df['date'].apply(lambda x : split_date_to_month(x))\n",
        "fake_count = df[df['label'] == 0].groupby('month').count()\n",
        "real_count = df[df['label'] == 1].groupby('month').count()\n",
        "\n",
        "ax[0].plot(fake_count['label'], color='blue', linewidth=2)\n",
        "ax[0].tick_params(rotation=45)\n",
        "ax[0].axvline(25, color='red', label='Fake news started decreasing', linestyle=\"--\")\n",
        "ax[0].set_title(\"Fake news frequency\")\n",
        "ax[0].legend()\n",
        "\n",
        "ax[1].plot(real_count['label'], color='blue', linewidth=2)\n",
        "ax[1].tick_params(rotation=45)\n",
        "ax[1].axvline(15, color='red', label='Fake news started decreasing', linestyle=\"--\")\n",
        "ax[1].set_title(\"Real news frequency\")\n",
        "ax[1].legend()\n",
        "\n",
        "plt.subplots_adjust(top=2.5)\n",
        "plt.show()"
      ],
      "execution_count": 86,
      "outputs": [
        {
          "output_type": "display_data",
          "data": {
            "image/png": "[encoded data removed]",
            "text/plain": [
              "<Figure size 1080x360 with 2 Axes>"
            ]
          },
          "metadata": {
            "tags": []
          }
        }
      ]
    },
    {
      "cell_type": "code",
      "metadata": {
        "colab": {
          "base_uri": "https://localhost:8080/",
          "height": 337
        },
        "id": "0HMLAXs6haSH",
        "outputId": "d3bcc303-10bb-4593-9ddf-e0eca679c682"
      },
      "source": [
        "fake = df[df['label'] == 0]\n",
        "fake_by_subjects = fake.groupby('subject').count()['label']\n",
        "\n",
        "freq = fake_by_subjects.values\n",
        "\n",
        "# Sort both subjects and frequency values by values\n",
        "freq = fake_by_subjects.values[np.argsort(fake_by_subjects.values)]\n",
        "subjects = fake_by_subjects.index[np.argsort(fake_by_subjects.values)]\n",
        "\n",
        "plt.bar(subjects, freq)\n",
        "plt.xticks(rotation=90)\n",
        "plt.show()"
      ],
      "execution_count": 87,
      "outputs": [
        {
          "output_type": "display_data",
          "data": {
            "image/png": "[encoded data removed]",
            "text/plain": [
              "<Figure size 432x288 with 1 Axes>"
            ]
          },
          "metadata": {
            "tags": []
          }
        }
      ]
    },
    {
      "cell_type": "markdown",
      "metadata": {
        "id": "QhoxVZ-DhgzC"
      },
      "source": [
        "# III. Text data cleaning and exploration "
      ]
    },
    {
      "cell_type": "markdown",
      "metadata": {
        "id": "_RhFDTs9hlvm"
      },
      "source": [
        "## 1. Expanding contraction"
      ]
    },
    {
      "cell_type": "code",
      "metadata": {
        "colab": {
          "base_uri": "https://localhost:8080/"
        },
        "id": "aw_CmMIghgew",
        "outputId": "f0d94e99-536d-43a4-a0f9-0f6a3ac28691"
      },
      "source": [
        "# Dictionary of English Contractions\n",
        "contractions_dict = { \"ain't\": \"are not\",\"'s\":\" is\",\"aren't\": \"are not\",\n",
        "                     \"can't\": \"cannot\",\"can't've\": \"cannot have\",\n",
        "                     \"'cause\": \"because\",\"could've\": \"could have\",\"couldn't\": \"could not\",\n",
        "                     \"couldn't've\": \"could not have\", \"didn't\": \"did not\",\"doesn't\": \"does not\",\n",
        "                     \"don't\": \"do not\",\"hadn't\": \"had not\",\"hadn't've\": \"had not have\",\n",
        "                     \"hasn't\": \"has not\",\"haven't\": \"have not\",\"he'd\": \"he would\",\n",
        "                     \"he'd've\": \"he would have\",\"he'll\": \"he will\", \"he'll've\": \"he will have\",\n",
        "                     \"how'd\": \"how did\",\"how'd'y\": \"how do you\",\"how'll\": \"how will\",\n",
        "                     \"I'd\": \"I would\", \"I'd've\": \"I would have\",\"I'll\": \"I will\",\n",
        "                     \"I'll've\": \"I will have\",\"I'm\": \"I am\",\"I've\": \"I have\", \"isn't\": \"is not\",\n",
        "                     \"it'd\": \"it would\",\"it'd've\": \"it would have\",\"it'll\": \"it will\",\n",
        "                     \"it'll've\": \"it will have\", \"let's\": \"let us\",\"ma'am\": \"madam\",\n",
        "                     \"mayn't\": \"may not\",\"might've\": \"might have\",\"mightn't\": \"might not\", \n",
        "                     \"mightn't've\": \"might not have\",\"must've\": \"must have\",\"mustn't\": \"must not\",\n",
        "                     \"mustn't've\": \"must not have\", \"needn't\": \"need not\",\n",
        "                     \"needn't've\": \"need not have\",\"o'clock\": \"of the clock\",\"oughtn't\": \"ought not\",\n",
        "                     \"oughtn't've\": \"ought not have\",\"shan't\": \"shall not\",\"sha'n't\": \"shall not\",\n",
        "                     \"shan't've\": \"shall not have\",\"she'd\": \"she would\",\"she'd've\": \"she would have\",\n",
        "                     \"she'll\": \"she will\", \"she'll've\": \"she will have\",\"should've\": \"should have\",\n",
        "                     \"shouldn't\": \"should not\", \"shouldn't've\": \"should not have\",\"so've\": \"so have\",\n",
        "                     \"that'd\": \"that would\",\"that'd've\": \"that would have\", \"there'd\": \"there would\",\n",
        "                     \"there'd've\": \"there would have\", \"they'd\": \"they would\",\n",
        "                     \"they'd've\": \"they would have\",\"they'll\": \"they will\",\n",
        "                     \"they'll've\": \"they will have\", \"they're\": \"they are\",\"they've\": \"they have\",\n",
        "                     \"to've\": \"to have\",\"wasn't\": \"was not\",\"we'd\": \"we would\",\n",
        "                     \"we'd've\": \"we would have\",\"we'll\": \"we will\",\"we'll've\": \"we will have\",\n",
        "                     \"we're\": \"we are\",\"we've\": \"we have\", \"weren't\": \"were not\",\"what'll\": \"what will\",\n",
        "                     \"what'll've\": \"what will have\",\"what're\": \"what are\", \"what've\": \"what have\",\n",
        "                     \"when've\": \"when have\",\"where'd\": \"where did\", \"where've\": \"where have\",\n",
        "                     \"who'll\": \"who will\",\"who'll've\": \"who will have\",\"who've\": \"who have\",\n",
        "                     \"why've\": \"why have\",\"will've\": \"will have\",\"won't\": \"will not\",\n",
        "                     \"won't've\": \"will not have\", \"would've\": \"would have\",\"wouldn't\": \"would not\",\n",
        "                     \"wouldn't've\": \"would not have\",\"y'all\": \"you all\", \"y'all'd\": \"you all would\",\n",
        "                     \"y'all'd've\": \"you all would have\",\"y'all're\": \"you all are\",\n",
        "                     \"y'all've\": \"you all have\", \"you'd\": \"you would\",\"you'd've\": \"you would have\",\n",
        "                     \"you'll\": \"you will\",\"you'll've\": \"you will have\", \"you're\": \"you are\",\n",
        "                     \"you've\": \"you have\"}\n",
        "\n",
        "# Regular expression for finding contractions\n",
        "contractions_re=re.compile('(%s)' % '|'.join(contractions_dict.keys()))\n",
        "\n",
        "# Function for expanding contractions\n",
        "def expand_contractions(text,contractions_dict=contractions_dict):\n",
        "    def replace(match):\n",
        "        return contractions_dict[match.group(0)]\n",
        "    return contractions_re.sub(replace, text)\n",
        "\n",
        "print(\"[INFO] Expanding contraction ... \")\n",
        "df['title'] = df['title'].apply(lambda x : expand_contractions(x))\n",
        "df['text'] = df['text'].apply(lambda x : expand_contractions(x))\n",
        "print(\"[INFO] Done!\")"
      ],
      "execution_count": 88,
      "outputs": [
        {
          "output_type": "stream",
          "text": [
            "[INFO] Expanding contraction ... \n",
            "[INFO] Done!\n"
          ],
          "name": "stdout"
        }
      ]
    },
    {
      "cell_type": "markdown",
      "metadata": {
        "id": "ZeG3heKXhstb"
      },
      "source": [
        "## 2. Lowercasing text"
      ]
    },
    {
      "cell_type": "code",
      "metadata": {
        "colab": {
          "base_uri": "https://localhost:8080/"
        },
        "id": "1lAO9gSuhd9y",
        "outputId": "01b148c2-69b9-422c-8ec9-ba0994563f2a"
      },
      "source": [
        "print('[INFO] Lowercasing text ... ')\n",
        "df['title'] = df['title'].apply(lambda x : x.lower())\n",
        "df['text'] = df['text'].apply(lambda x : x.lower())\n",
        "print('[INFO] Done!')"
      ],
      "execution_count": 89,
      "outputs": [
        {
          "output_type": "stream",
          "text": [
            "[INFO] Lowercasing text ... \n",
            "[INFO] Done!\n"
          ],
          "name": "stdout"
        }
      ]
    },
    {
      "cell_type": "markdown",
      "metadata": {
        "id": "zEU59Z8yhyIZ"
      },
      "source": [
        "## 3. Removing digits"
      ]
    },
    {
      "cell_type": "code",
      "metadata": {
        "colab": {
          "base_uri": "https://localhost:8080/"
        },
        "id": "zASOc6hXhv1K",
        "outputId": "10118eb3-8015-4387-a65e-2266b0e6db4e"
      },
      "source": [
        "print('[INFO] Removing digits ... ')\n",
        "df['title']=df['title'].apply(lambda x: re.sub('\\w*\\d\\w*','', x))\n",
        "df['text']=df['text'].apply(lambda x: re.sub('\\w*\\d\\w*','', x))\n",
        "print('[INFO] Done!')"
      ],
      "execution_count": 90,
      "outputs": [
        {
          "output_type": "stream",
          "text": [
            "[INFO] Removing digits ... \n",
            "[INFO] Done!\n"
          ],
          "name": "stdout"
        }
      ]
    },
    {
      "cell_type": "markdown",
      "metadata": {
        "id": "6od-PbKyh2nD"
      },
      "source": [
        "## 4. Removing punctuations"
      ]
    },
    {
      "cell_type": "code",
      "metadata": {
        "colab": {
          "base_uri": "https://localhost:8080/"
        },
        "id": "1w5VJ67zh0Pp",
        "outputId": "e6874b06-81c0-4803-8b44-563a090e06a0"
      },
      "source": [
        "print('[INFO] Removing punctuations ... ')\n",
        "df['title']=df['title'].apply(lambda x: re.sub('[%s]' % re.escape(string.punctuation), '', x))\n",
        "df['text']=df['text'].apply(lambda x: re.sub('[%s]' % re.escape(string.punctuation), '', x))\n",
        "print('[INFO] Done!')"
      ],
      "execution_count": 91,
      "outputs": [
        {
          "output_type": "stream",
          "text": [
            "[INFO] Removing punctuations ... \n",
            "[INFO] Done!\n"
          ],
          "name": "stdout"
        }
      ]
    },
    {
      "cell_type": "code",
      "metadata": {
        "colab": {
          "base_uri": "https://localhost:8080/"
        },
        "id": "GxNBocVvh5yh",
        "outputId": "f52cfbfc-aa02-4ac8-c33d-18a6d28ab8fd"
      },
      "source": [
        "print('[INFO] Removing extra spaces ...')\n",
        "df['title']=df['title'].apply(lambda x: re.sub(' +',' ',x))\n",
        "df['text']=df['text'].apply(lambda x: re.sub(' +',' ',x))\n",
        "print('[INFO] Done!')"
      ],
      "execution_count": 92,
      "outputs": [
        {
          "output_type": "stream",
          "text": [
            "[INFO] Removing extra spaces ...\n",
            "[INFO] Done!\n"
          ],
          "name": "stdout"
        }
      ]
    },
    {
      "cell_type": "markdown",
      "metadata": {
        "id": "AffWpJclh_gD"
      },
      "source": [
        "## 5. Stopwords removal and lemmatization"
      ]
    },
    {
      "cell_type": "code",
      "metadata": {
        "colab": {
          "base_uri": "https://localhost:8080/"
        },
        "id": "u_ldUyweh8Vk",
        "outputId": "b7735cb9-ffc3-4bf1-b023-02c0ad6048c1"
      },
      "source": [
        "### Stopword removal using the nltk way ###\n",
        "!python3 -m nltk.downloader stopwords punkt wordnet\n",
        "stop_words = set(stopwords.words('english')) # Assuming all nltk data is installed\n",
        "lemmatizer = WordNetLemmatizer()\n",
        "\n",
        "def filter_stopwords(text):\n",
        "    word_tokens = word_tokenize(text)\n",
        "    filtered = [lemmatizer.lemmatize(w) for w in word_tokens if not w in stop_words]\n",
        "    filtered_sentence = ' '.join(filtered)\n",
        "\n",
        "    ### Removing all special characters ###\n",
        "    special_chars = ['…', '–', '’', '‘', '”', '“']\n",
        "\n",
        "    for char_ in special_chars:\n",
        "      filtered_sentence = filtered_sentence.replace(char_, \"\")\n",
        "\n",
        "    # Removal of extra spaces\n",
        "    filtered_sentence = re.sub(' +',' ',filtered_sentence)\n",
        "    return filtered_sentence\n",
        "\n",
        "print('[INFO] Removing stop words and lemmatizing ... ')\n",
        "df['title'] = df['title'].apply(lambda x : filter_stopwords(x))\n",
        "df['text'] = df['text'].apply(lambda x : filter_stopwords(x))\n",
        "print('[INFO] Done!')\n"
      ],
      "execution_count": 93,
      "outputs": [
        {
          "output_type": "stream",
          "text": [
            "/usr/lib/python3.7/runpy.py:125: RuntimeWarning: 'nltk.downloader' found in sys.modules after import of package 'nltk', but prior to execution of 'nltk.downloader'; this may result in unpredictable behaviour\n",
            "  warn(RuntimeWarning(msg))\n",
            "[nltk_data] Downloading package stopwords to /root/nltk_data...\n",
            "[nltk_data]   Package stopwords is already up-to-date!\n",
            "[nltk_data] Downloading package punkt to /root/nltk_data...\n",
            "[nltk_data]   Package punkt is already up-to-date!\n",
            "[nltk_data] Downloading package wordnet to /root/nltk_data...\n",
            "[nltk_data]   Package wordnet is already up-to-date!\n",
            "[INFO] Removing stop words and lemmatizing ... \n",
            "[INFO] Done!\n"
          ],
          "name": "stdout"
        }
      ]
    },
    {
      "cell_type": "markdown",
      "metadata": {
        "id": "3--E2XzHiXWN"
      },
      "source": [
        "# IV. Text data vectorization"
      ]
    },
    {
      "cell_type": "code",
      "metadata": {
        "colab": {
          "base_uri": "https://localhost:8080/"
        },
        "id": "MMdkbIFBiGvq",
        "outputId": "b976e408-d1d2-4d34-9ebf-a52b24f85004"
      },
      "source": [
        "features_text = df['text'].values\n",
        "labels = df['label'].values\n",
        "vfunc = np.vectorize(lambda x : len(x.split(' ')))\n",
        "all = ' '.join(features_text)\n",
        "vocab_size = len(list(set(all.split(\" \")))) + 1\n",
        "max_seq_len = min(vfunc(features_text).max(), 256)\n",
        "max_vocab = 10000\n",
        "\n",
        "tokenizer = Tokenizer(num_words=max_vocab, char_level=False, oov_token='<PAD>')\n",
        "tokenizer.fit_on_texts(all.split(\" \"))\n",
        "\n",
        "features = tokenizer.texts_to_sequences(features_text)\n",
        "features = pad_sequences(features, maxlen=max_seq_len)\n",
        "x_train, x_val, y_train, y_val = train_test_split(features, labels, test_size=0.333333)\n",
        "\n",
        "print(f'[INFO] Max sequence length : {max_seq_len}')\n",
        "print(f'[INFO] Vocabulary size : {vocab_size}')"
      ],
      "execution_count": 94,
      "outputs": [
        {
          "output_type": "stream",
          "text": [
            "[INFO] Max sequence length : 256\n",
            "[INFO] Vocabulary size : 125195\n"
          ],
          "name": "stdout"
        }
      ]
    },
    {
      "cell_type": "markdown",
      "metadata": {
        "id": "bKkSpF5Todah"
      },
      "source": [
        "# V. Constructing models"
      ]
    },
    {
      "cell_type": "markdown",
      "metadata": {
        "id": "rBVdKk2rogY7"
      },
      "source": [
        "## 1. CNN"
      ]
    },
    {
      "cell_type": "code",
      "metadata": {
        "id": "QEXAMMpEjlDW",
        "colab": {
          "base_uri": "https://localhost:8080/"
        },
        "outputId": "6ffa075f-5a37-4f6d-e51f-6ae895f4a31b"
      },
      "source": [
        "### Training ###\n",
        "def make_cnn_model(vocab_size, num_classes, seq_len):\n",
        "  inputs = Input(shape=(seq_len,))\n",
        "  embs = Embedding(vocab_size, 128, trainable=False)(inputs)\n",
        "\n",
        "  conv1 = Conv1D(32, kernel_size=4, padding='same', activation='relu')(embs)\n",
        "  pool1 = MaxPool1D(pool_size=2)(conv1)\n",
        "  #conv2 = Conv1D(64, kernel_size=3, padding='same', activation='relu')(pool1)\n",
        "  #pool2 = MaxPool1D(pool_size=2)(conv2)\n",
        "\n",
        "  #rnn1 = LSTM(64, return_sequences=True, recurrent_dropout = 0.25 , dropout = 0.25)(pool1)\n",
        "  #rnn2 = LSTM(32, return_sequences=False, recurrent_dropout = 0.1 , dropout = 0.1)(rnn1)\n",
        "  output = Flatten()(pool1)\n",
        "  output = Dense(num_classes, activation='softmax')(output)\n",
        "\n",
        "  model = Model(inputs=inputs, outputs=output, name='CNN_SentimentAnalysis')\n",
        "  return model\n",
        "\n",
        "model = make_cnn_model(vocab_size, 2, max_seq_len)\n",
        "print(model.summary())\n",
        "\n",
        "model.compile(optimizer='adam', loss='sparse_categorical_crossentropy', metrics=['accuracy'])\n",
        "history = model.fit(x_train, y_train, batch_size=64, epochs=10, validation_data=(x_val, y_val))"
      ],
      "execution_count": 106,
      "outputs": [
        {
          "output_type": "stream",
          "text": [
            "Model: \"CNN_SentimentAnalysis\"\n",
            "_________________________________________________________________\n",
            "Layer (type)                 Output Shape              Param #   \n",
            "=================================================================\n",
            "input_24 (InputLayer)        [(None, 256)]             0         \n",
            "_________________________________________________________________\n",
            "embedding_29 (Embedding)     (None, 256, 128)          16024960  \n",
            "_________________________________________________________________\n",
            "conv1d_31 (Conv1D)           (None, 256, 32)           16416     \n",
            "_________________________________________________________________\n",
            "max_pooling1d_31 (MaxPooling (None, 128, 32)           0         \n",
            "_________________________________________________________________\n",
            "flatten_3 (Flatten)          (None, 4096)              0         \n",
            "_________________________________________________________________\n",
            "dense_39 (Dense)             (None, 2)                 8194      \n",
            "=================================================================\n",
            "Total params: 16,049,570\n",
            "Trainable params: 16,049,570\n",
            "Non-trainable params: 0\n",
            "_________________________________________________________________\n",
            "None\n",
            "Epoch 1/10\n",
            "208/208 [==============================] - 32s 151ms/step - loss: 0.3832 - accuracy: 0.7968 - val_loss: 0.0589 - val_accuracy: 0.9792\n",
            "Epoch 2/10\n",
            "208/208 [==============================] - 31s 149ms/step - loss: 0.0158 - accuracy: 0.9969 - val_loss: 0.0434 - val_accuracy: 0.9857\n",
            "Epoch 3/10\n",
            "208/208 [==============================] - 31s 149ms/step - loss: 0.0018 - accuracy: 0.9999 - val_loss: 0.0487 - val_accuracy: 0.9844\n",
            "Epoch 4/10\n",
            "208/208 [==============================] - 31s 149ms/step - loss: 0.0011 - accuracy: 0.9999 - val_loss: 0.0499 - val_accuracy: 0.9845\n",
            "Epoch 5/10\n",
            "208/208 [==============================] - 31s 148ms/step - loss: 7.4777e-04 - accuracy: 0.9999 - val_loss: 0.0515 - val_accuracy: 0.9850\n",
            "Epoch 6/10\n",
            "208/208 [==============================] - 31s 149ms/step - loss: 0.0011 - accuracy: 0.9999 - val_loss: 0.0531 - val_accuracy: 0.9850\n",
            "Epoch 7/10\n",
            "208/208 [==============================] - 31s 149ms/step - loss: 0.0014 - accuracy: 0.9998 - val_loss: 0.0540 - val_accuracy: 0.9854\n",
            "Epoch 8/10\n",
            "208/208 [==============================] - 31s 148ms/step - loss: 1.0001e-04 - accuracy: 1.0000 - val_loss: 0.0614 - val_accuracy: 0.9830\n",
            "Epoch 9/10\n",
            "208/208 [==============================] - 31s 148ms/step - loss: 5.5893e-04 - accuracy: 1.0000 - val_loss: 0.0553 - val_accuracy: 0.9853\n",
            "Epoch 10/10\n",
            "208/208 [==============================] - 31s 149ms/step - loss: 0.0019 - accuracy: 0.9997 - val_loss: 0.0580 - val_accuracy: 0.9848\n"
          ],
          "name": "stdout"
        }
      ]
    },
    {
      "cell_type": "code",
      "metadata": {
        "colab": {
          "base_uri": "https://localhost:8080/",
          "height": 317
        },
        "id": "Sg8A-4fMG1tG",
        "outputId": "972c9e75-b28e-412a-8a77-a7d68135e74c"
      },
      "source": [
        "### Visualization ###\n",
        "loss, val_loss = history.history['loss'], history.history['val_loss']\n",
        "accuracy, val_accuracy = history.history['accuracy'], history.history['val_accuracy']\n",
        "\n",
        "fig, ax = plt.subplots(1,2, figsize=(10, 5))\n",
        "ax[0].plot(loss, color='blue', label='Training Loss')\n",
        "ax[0].plot(val_loss, color='orange', label='Validating Loss')\n",
        "ax[1].plot(accuracy, color='blue', label='Training Accuracy')\n",
        "ax[1].plot(val_accuracy, color='orange', label='Validating Accuracy')\n",
        "\n",
        "ax[0].legend()\n",
        "ax[1].legend()\n",
        "plt.show()"
      ],
      "execution_count": 107,
      "outputs": [
        {
          "output_type": "display_data",
          "data": {
            "image/png": "[encoded data removed]",
            "text/plain": [
              "<Figure size 720x360 with 2 Axes>"
            ]
          },
          "metadata": {
            "tags": []
          }
        }
      ]
    },
    {
      "cell_type": "markdown",
      "metadata": {
        "id": "b7BlTLVAok8b"
      },
      "source": [
        "## 2. Bidirectional RNN (LSTM)"
      ]
    },
    {
      "cell_type": "code",
      "metadata": {
        "id": "xt9RPDKiokGj",
        "colab": {
          "base_uri": "https://localhost:8080/"
        },
        "outputId": "9a2aed31-0436-471a-e58c-14c454fae967"
      },
      "source": [
        "def make_birnn_model(vocab_size, emb_size, seq_len, embedding_matrix): \n",
        "  model = Sequential()\n",
        "  #Non-trainable embeddidng layer\n",
        "  model.add(Embedding(vocab_size, output_dim=emb_size, weights=[embedding_matrix], input_length=seq_len, trainable=False))\n",
        "  #LSTM \n",
        "  model.add(Bidirectional(LSTM(units=128 , return_sequences = True , recurrent_dropout = 0.25 , dropout = 0.25)))\n",
        "  model.add(Bidirectional(LSTM(units=64 , recurrent_dropout = 0.1 , dropout = 0.1)))\n",
        "  model.add(Dense(units = 32 , activation = 'relu'))\n",
        "  model.add(Dense(1, activation='sigmoid'))\n",
        "  model.compile(optimizer=tf.keras.optimizers.Adam(lr = 0.01), loss='binary_crossentropy', metrics=['accuracy'])\n",
        "\n",
        "  return model\n",
        "\n",
        "emb_mean = 0.0\n",
        "emb_std = 1.0\n",
        "emb_size = 64\n",
        "embedding_matrix = np.random.normal(emb_mean, emb_std, (vocab_size, emb_size))\n",
        "model = make_birnn_model(vocab_size, emb_size, max_seq_len, embedding_matrix)\n",
        "print(model.summary())\n",
        "\n",
        "history = model.fit(x_train, y_train, batch_size=256, epochs=10, validation_data=(x_val, y_val))"
      ],
      "execution_count": 108,
      "outputs": [
        {
          "output_type": "stream",
          "text": [
            "WARNING:tensorflow:Layer lstm_39 will not use cuDNN kernel since it doesn't meet the cuDNN kernel criteria. It will use generic GPU kernel as fallback when running on GPU\n",
            "WARNING:tensorflow:Layer lstm_39 will not use cuDNN kernel since it doesn't meet the cuDNN kernel criteria. It will use generic GPU kernel as fallback when running on GPU\n",
            "WARNING:tensorflow:Layer lstm_39 will not use cuDNN kernel since it doesn't meet the cuDNN kernel criteria. It will use generic GPU kernel as fallback when running on GPU\n",
            "WARNING:tensorflow:Layer lstm_40 will not use cuDNN kernel since it doesn't meet the cuDNN kernel criteria. It will use generic GPU kernel as fallback when running on GPU\n",
            "WARNING:tensorflow:Layer lstm_40 will not use cuDNN kernel since it doesn't meet the cuDNN kernel criteria. It will use generic GPU kernel as fallback when running on GPU\n",
            "WARNING:tensorflow:Layer lstm_40 will not use cuDNN kernel since it doesn't meet the cuDNN kernel criteria. It will use generic GPU kernel as fallback when running on GPU\n",
            "Model: \"sequential_6\"\n",
            "_________________________________________________________________\n",
            "Layer (type)                 Output Shape              Param #   \n",
            "=================================================================\n",
            "embedding_30 (Embedding)     (None, 256, 64)           8012480   \n",
            "_________________________________________________________________\n",
            "bidirectional_4 (Bidirection (None, 256, 256)          197632    \n",
            "_________________________________________________________________\n",
            "bidirectional_5 (Bidirection (None, 128)               164352    \n",
            "_________________________________________________________________\n",
            "dense_40 (Dense)             (None, 32)                4128      \n",
            "_________________________________________________________________\n",
            "dense_41 (Dense)             (None, 1)                 33        \n",
            "=================================================================\n",
            "Total params: 8,378,625\n",
            "Trainable params: 366,145\n",
            "Non-trainable params: 8,012,480\n",
            "_________________________________________________________________\n",
            "None\n",
            "Epoch 1/10\n",
            "52/52 [==============================] - 192s 4s/step - loss: 0.4782 - accuracy: 0.7632 - val_loss: 0.3193 - val_accuracy: 0.8536\n",
            "Epoch 2/10\n",
            "52/52 [==============================] - 184s 4s/step - loss: 0.2703 - accuracy: 0.8784 - val_loss: 0.1056 - val_accuracy: 0.9637\n",
            "Epoch 3/10\n",
            "52/52 [==============================] - 181s 3s/step - loss: 0.1013 - accuracy: 0.9630 - val_loss: 0.1048 - val_accuracy: 0.9603\n",
            "Epoch 4/10\n",
            "52/52 [==============================] - 178s 3s/step - loss: 0.0894 - accuracy: 0.9653 - val_loss: 0.0739 - val_accuracy: 0.9756\n",
            "Epoch 5/10\n",
            "52/52 [==============================] - 179s 3s/step - loss: 0.0762 - accuracy: 0.9746 - val_loss: 0.0540 - val_accuracy: 0.9806\n",
            "Epoch 6/10\n",
            "52/52 [==============================] - 179s 3s/step - loss: 0.0689 - accuracy: 0.9773 - val_loss: 0.0696 - val_accuracy: 0.9746\n",
            "Epoch 7/10\n",
            "52/52 [==============================] - 177s 3s/step - loss: 0.0673 - accuracy: 0.9780 - val_loss: 0.0584 - val_accuracy: 0.9798\n",
            "Epoch 8/10\n",
            "52/52 [==============================] - 177s 3s/step - loss: 0.0508 - accuracy: 0.9824 - val_loss: 0.0460 - val_accuracy: 0.9850\n",
            "Epoch 9/10\n",
            "52/52 [==============================] - 175s 3s/step - loss: 0.0346 - accuracy: 0.9871 - val_loss: 0.0540 - val_accuracy: 0.9839\n",
            "Epoch 10/10\n",
            "52/52 [==============================] - 176s 3s/step - loss: 0.0300 - accuracy: 0.9902 - val_loss: 0.0646 - val_accuracy: 0.9824\n"
          ],
          "name": "stdout"
        }
      ]
    },
    {
      "cell_type": "code",
      "metadata": {
        "id": "u_6WLDMtoqgL",
        "colab": {
          "base_uri": "https://localhost:8080/",
          "height": 316
        },
        "outputId": "bea8996f-8d90-4fae-e038-78bf21d01a14"
      },
      "source": [
        "### Visualization ###\n",
        "loss, val_loss = history.history['loss'], history.history['val_loss']\n",
        "accuracy, val_accuracy = history.history['accuracy'], history.history['val_accuracy']\n",
        "\n",
        "fig, ax = plt.subplots(1,2, figsize=(10, 5))\n",
        "ax[0].plot(loss, color='blue', label='Training Loss')\n",
        "ax[0].plot(val_loss, color='orange', label='Validating Loss')\n",
        "ax[1].plot(accuracy, color='blue', label='Training Accuracy')\n",
        "ax[1].plot(val_accuracy, color='orange', label='Validating Accuracy')\n",
        "\n",
        "ax[0].legend()\n",
        "ax[1].legend()\n",
        "plt.show()"
      ],
      "execution_count": 109,
      "outputs": [
        {
          "output_type": "display_data",
          "data": {
            "image/png": "[encoded data removed]",
            "text/plain": [
              "<Figure size 720x360 with 2 Axes>"
            ]
          },
          "metadata": {
            "tags": []
          }
        }
      ]
    },
    {
      "cell_type": "code",
      "metadata": {
        "id": "5Z1ky19I13Xa"
      },
      "source": [
        ""
      ],
      "execution_count": null,
      "outputs": []
    }
  ]
}